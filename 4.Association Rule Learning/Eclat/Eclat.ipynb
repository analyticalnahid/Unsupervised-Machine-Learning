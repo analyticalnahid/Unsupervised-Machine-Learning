{
 "cells": [
  {
   "cell_type": "code",
   "execution_count": null,
   "id": "e601108d",
   "metadata": {},
   "outputs": [],
   "source": [
    "!pip install pyECLAT"
   ]
  },
  {
   "cell_type": "code",
   "execution_count": null,
   "id": "8660f7b2",
   "metadata": {},
   "outputs": [],
   "source": [
    "# importing dataset ( example 1 and example 2 are datasets in pyECLAT)\n",
    "from pyECLAT import Example2\n",
    "\n",
    "# storing the dataset in a variable\n",
    "dataset = Example2().get()\n",
    "\n",
    "# printing the dataset\n",
    "dataset.head()"
   ]
  },
  {
   "cell_type": "code",
   "execution_count": null,
   "id": "b8864af1",
   "metadata": {},
   "outputs": [],
   "source": [
    "# importing the ECLAT module\n",
    "from pyECLAT import ECLAT\n",
    "\n",
    "# loading transactions DataFrame to ECLAT class\n",
    "eclat = ECLAT(data=dataset)\n",
    "\n",
    "# DataFrame of binary values\n",
    "eclat.df_bin"
   ]
  },
  {
   "cell_type": "code",
   "execution_count": null,
   "id": "e9c6608e",
   "metadata": {},
   "outputs": [],
   "source": [
    "# count items in each column\n",
    "items_total = eclat.df_bin.astype(int).sum(axis=0)\n",
    "\n",
    "items_total"
   ]
  },
  {
   "cell_type": "code",
   "execution_count": null,
   "id": "b2bfe849",
   "metadata": {},
   "outputs": [],
   "source": [
    "# count items in each row\n",
    "items_per_transaction = eclat.df_bin.astype(int).sum(axis=1)\n",
    "\n",
    "items_per_transaction"
   ]
  },
  {
   "cell_type": "code",
   "execution_count": null,
   "id": "295d6492",
   "metadata": {},
   "outputs": [],
   "source": [
    "import pandas as pd\n",
    "\n",
    "# Loading items per column stats to the DataFrame\n",
    "df = pd.DataFrame({'items': items_total.index, 'transactions': items_total.values}) \n",
    "\n",
    "# cloning pandas DataFrame for visualization purpose  \n",
    "df_table = df.sort_values(\"transactions\", ascending=False)\n",
    "\n",
    "#  Top 5 most popular products/items\n",
    "df_table.head(5).style.background_gradient(cmap='Blues')"
   ]
  },
  {
   "cell_type": "code",
   "execution_count": null,
   "id": "15b52999",
   "metadata": {},
   "outputs": [],
   "source": [
    "# importing required module\n",
    "import plotly.express as px\n",
    "\n",
    "# to have a same origin\n",
    "df_table[\"all\"] = \"Tree Map\" \n",
    "\n",
    "# creating tree map using plotly\n",
    "fig = px.treemap(df_table.head(50), path=['all', \"items\"], values='transactions',\n",
    "                  color=df_table[\"transactions\"].head(50), hover_data=['items'],\n",
    "                  color_continuous_scale='Blues',\n",
    "                )\n",
    "# ploting the treemap\n",
    "fig.show()"
   ]
  },
  {
   "cell_type": "code",
   "execution_count": null,
   "id": "2783bc3e",
   "metadata": {},
   "outputs": [],
   "source": [
    "# the item shoud appear at least at 5% of transactions\n",
    "min_support = 5/100\n",
    "\n",
    "# start from transactions containing at least 2 items\n",
    "min_combination = 2\n",
    "\n",
    "# up to maximum items per transaction\n",
    "max_combination = max(items_per_transaction)\n",
    "\n",
    "rule_indices, rule_supports = eclat.fit(min_support=min_support,\n",
    "                                                 min_combination=min_combination,\n",
    "                                                 max_combination=max_combination,\n",
    "                                                 separator=' & ',\n",
    "                                                 verbose=True)"
   ]
  },
  {
   "cell_type": "code",
   "execution_count": null,
   "id": "c802dc93",
   "metadata": {},
   "outputs": [],
   "source": [
    "import pandas as pd\n",
    "\n",
    "result = pd.DataFrame(rule_supports.items(),columns=['Item', 'Support'])\n",
    "result.sort_values(by=['Support'], ascending=False)"
   ]
  }
 ],
 "metadata": {
  "kernelspec": {
   "display_name": "Python 3 (ipykernel)",
   "language": "python",
   "name": "python3"
  },
  "language_info": {
   "codemirror_mode": {
    "name": "ipython",
    "version": 3
   },
   "file_extension": ".py",
   "mimetype": "text/x-python",
   "name": "python",
   "nbconvert_exporter": "python",
   "pygments_lexer": "ipython3",
   "version": "3.10.5"
  }
 },
 "nbformat": 4,
 "nbformat_minor": 5
}
