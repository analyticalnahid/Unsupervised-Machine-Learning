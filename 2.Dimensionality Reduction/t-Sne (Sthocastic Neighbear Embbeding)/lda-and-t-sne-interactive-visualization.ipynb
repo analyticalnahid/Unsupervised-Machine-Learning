{
 "cells": [
  {
   "cell_type": "markdown",
   "metadata": {
    "_cell_guid": "b370038e-edd0-42b6-985a-c30f6eea960b",
    "_uuid": "a9f0d9e1da1d1c9ce96322ecedc81d7a7847f043"
   },
   "source": [
    "# NIPS: Topic modeling visualization\n",
    "\n",
    "Some main topics at NIPS according to [wikipedia](https://en.wikipedia.org/wiki/Conference_on_Neural_Information_Processing_Systems) :\n",
    "\n",
    "1. Machine learning, \n",
    "2. Statistics, \n",
    "3. Artificial intelligence, \n",
    "4. Computational neuroscience\n",
    "\n",
    "However, the topics are within the same domain which makes it more challenging to distinguish between them. Here in this Kernel I will try to extract some topics using Latent Dirichlet allocation __LDA__. This tutorial features an end-to-end  natural language processing pipeline, starting with raw data and running through preparing, modeling, visualizing the paper. We'll touch on the following points\n",
    "\n",
    "\n",
    "1. Topic modeling with **LDA**\n",
    "1. Visualizing topic models with **pyLDAvis**\n",
    "1. Visualizing LDA results with **t-SNE** and **bokeh**"
   ]
  },
  {
   "cell_type": "code",
   "execution_count": 1,
   "metadata": {
    "_cell_guid": "a614ee7b-dc9a-4a69-a22a-6712176d67c2",
    "_uuid": "49cf47103ed18adfb84e28e636784cf89dbb3144",
    "collapsed": true
   },
   "outputs": [
    {
     "name": "stdout",
     "output_type": "stream",
     "text": [
      "Populating the interactive namespace from numpy and matplotlib\n"
     ]
    }
   ],
   "source": [
    "%pylab inline\n",
    "\n",
    "import pandas as pd\n",
    "import pickle as pk\n",
    "from scipy import sparse as sp"
   ]
  },
  {
   "cell_type": "code",
   "execution_count": 2,
   "metadata": {
    "_cell_guid": "9b886989-75f5-4522-b9d6-2a40737885f0",
    "_uuid": "eda4ba077f4beb7a55182bc37b147050f444827f",
    "collapsed": true
   },
   "outputs": [],
   "source": [
    "p_df = pd.read_csv('../input/Papers.csv')\n",
    "docs = array(p_df['PaperText'])"
   ]
  },
  {
   "cell_type": "markdown",
   "metadata": {
    "_cell_guid": "7364c06e-8044-4da4-9b50-4daa5bf5765e",
    "_uuid": "365398b9b4072a8c5bf3c8de0067122e70fff748"
   },
   "source": [
    "## Pre-process and vectorize the documents"
   ]
  },
  {
   "cell_type": "code",
   "execution_count": 3,
   "metadata": {
    "_cell_guid": "125f9eb3-99d9-422a-8242-384da62d43dd",
    "_uuid": "f10f622826eaa4e9bd97c1414aac5538ddabafd2",
    "collapsed": true
   },
   "outputs": [],
   "source": [
    "from nltk.stem.wordnet import WordNetLemmatizer\n",
    "from nltk.tokenize import RegexpTokenizer\n",
    "\n",
    "def docs_preprocessor(docs):\n",
    "    tokenizer = RegexpTokenizer(r'\\w+')\n",
    "    for idx in range(len(docs)):\n",
    "        docs[idx] = docs[idx].lower()  # Convert to lowercase.\n",
    "        docs[idx] = tokenizer.tokenize(docs[idx])  # Split into words.\n",
    "\n",
    "    # Remove numbers, but not words that contain numbers.\n",
    "    docs = [[token for token in doc if not token.isdigit()] for doc in docs]\n",
    "    \n",
    "    # Remove words that are only one character.\n",
    "    docs = [[token for token in doc if len(token) > 3] for doc in docs]\n",
    "    \n",
    "    # Lemmatize all words in documents.\n",
    "    lemmatizer = WordNetLemmatizer()\n",
    "    docs = [[lemmatizer.lemmatize(token) for token in doc] for doc in docs]\n",
    "  \n",
    "    return docs"
   ]
  },
  {
   "cell_type": "code",
   "execution_count": 4,
   "metadata": {
    "_cell_guid": "c87ebee3-e88b-4233-9000-b71103f281c3",
    "_uuid": "790063fc1a341eb17e0244c220de736d51196cfe",
    "collapsed": true
   },
   "outputs": [],
   "source": [
    "docs = docs_preprocessor(docs)"
   ]
  },
  {
   "cell_type": "markdown",
   "metadata": {
    "_cell_guid": "b167c49c-6187-4921-9d2b-2fa1ba8377a4",
    "_uuid": "f649c357b776963b7e626064fa6ced1a03a3219d"
   },
   "source": [
    "### **Compute bigrams/trigrams:**\n",
    "Sine topics are very similar what would make distinguish them are phrases rather than single/individual words."
   ]
  },
  {
   "cell_type": "code",
   "execution_count": 5,
   "metadata": {
    "_cell_guid": "66b3e9bf-1c76-4ee1-bb22-60405308c401",
    "_uuid": "d6ce91b0d51d55e3504cbb352f0548cffcdb0169",
    "collapsed": true
   },
   "outputs": [
    {
     "name": "stderr",
     "output_type": "stream",
     "text": [
      "Using TensorFlow backend.\n",
      "/opt/conda/lib/python3.6/site-packages/gensim/models/phrases.py:316: UserWarning: For a faster implementation, use the gensim.models.phrases.Phraser class\n",
      "  warnings.warn(\"For a faster implementation, use the gensim.models.phrases.Phraser class\")\n"
     ]
    }
   ],
   "source": [
    "from gensim.models import Phrases\n",
    "# Add bigrams and trigrams to docs (only ones that appear 10 times or more).\n",
    "bigram = Phrases(docs, min_count=10)\n",
    "trigram = Phrases(bigram[docs])\n",
    "\n",
    "for idx in range(len(docs)):\n",
    "    for token in bigram[docs[idx]]:\n",
    "        if '_' in token:\n",
    "            # Token is a bigram, add to document.\n",
    "            docs[idx].append(token)\n",
    "    for token in trigram[docs[idx]]:\n",
    "        if '_' in token:\n",
    "            # Token is a bigram, add to document.\n",
    "            docs[idx].append(token)"
   ]
  },
  {
   "cell_type": "markdown",
   "metadata": {
    "_cell_guid": "b9849dae-b405-4bc6-ab61-c062f2a13746",
    "_uuid": "c75a2e62b9a0e570a0a34b84af5912c22aa9ba28"
   },
   "source": [
    "### **Remove rare and common tokens:**"
   ]
  },
  {
   "cell_type": "code",
   "execution_count": 6,
   "metadata": {
    "_cell_guid": "df440d67-082a-4b2d-a6fb-80029af194b5",
    "_uuid": "73f7ba9fedcde10c4e70cf2456c7ef20c8e32d35",
    "collapsed": true
   },
   "outputs": [
    {
     "name": "stdout",
     "output_type": "stream",
     "text": [
      "Number of unique words in initital documents: 39534\n",
      "Number of unique words after removing rare and common words: 6001\n"
     ]
    }
   ],
   "source": [
    "from gensim.corpora import Dictionary\n",
    "\n",
    "# Create a dictionary representation of the documents.\n",
    "dictionary = Dictionary(docs)\n",
    "print('Number of unique words in initital documents:', len(dictionary))\n",
    "\n",
    "# Filter out words that occur less than 10 documents, or more than 20% of the documents.\n",
    "dictionary.filter_extremes(no_below=10, no_above=0.2)\n",
    "print('Number of unique words after removing rare and common words:', len(dictionary))"
   ]
  },
  {
   "cell_type": "markdown",
   "metadata": {
    "_cell_guid": "ac2ede6e-8815-4da1-a739-1ffc71614cb9",
    "_uuid": "f5e4e52fe4ff798ac96f8f23538770c5cc4d217a"
   },
   "source": [
    "Pruning the common and rare words, we end up with only about 6% of the words."
   ]
  },
  {
   "cell_type": "markdown",
   "metadata": {
    "_cell_guid": "0e6a6363-b43f-45f0-80d9-0f5b5b9462fc",
    "_uuid": "78cd228789c6fa5d094886b58dce875f63625c33"
   },
   "source": [
    "** Vectorize data:**  \n",
    "The first step is to get a back-of-words representation of each doc."
   ]
  },
  {
   "cell_type": "code",
   "execution_count": 7,
   "metadata": {
    "_cell_guid": "ca1d1e18-2939-4880-bca7-712d4bc42735",
    "_uuid": "27e71950ec4bca8f6b62ec6d6cd9f613a50019ea",
    "collapsed": true
   },
   "outputs": [],
   "source": [
    "corpus = [dictionary.doc2bow(doc) for doc in docs]"
   ]
  },
  {
   "cell_type": "code",
   "execution_count": 8,
   "metadata": {
    "_cell_guid": "ad5717c6-b2e8-4122-8c7d-b5bca9dfb1ab",
    "_uuid": "80752c24b3b1bab16b48054a6ca6e7fb84d49372",
    "collapsed": true
   },
   "outputs": [
    {
     "name": "stdout",
     "output_type": "stream",
     "text": [
      "Number of unique tokens: 6001\n",
      "Number of documents: 403\n"
     ]
    }
   ],
   "source": [
    "print('Number of unique tokens: %d' % len(dictionary))\n",
    "print('Number of documents: %d' % len(corpus))"
   ]
  },
  {
   "cell_type": "markdown",
   "metadata": {
    "_cell_guid": "a0a1a95d-8ed7-47a1-a1b0-0471a77e9af0",
    "_uuid": "bb7f095fc6b213d727b36798294d56a6ab950f5b"
   },
   "source": [
    "With the bag-of-words corpus, we can move on to learn our topic model from the documents."
   ]
  },
  {
   "cell_type": "markdown",
   "metadata": {
    "_cell_guid": "ff8fbb06-d7f2-4170-b91c-151e3c5c9cad",
    "_uuid": "49a8f93233d2640b476e093390182e21102ae555"
   },
   "source": [
    "# Train LDA model..."
   ]
  },
  {
   "cell_type": "code",
   "execution_count": 9,
   "metadata": {
    "_cell_guid": "f15e826a-f41b-410a-9ff9-ef19edc05085",
    "_uuid": "b11f495c4fcf6991c523d5a3b6669506f39533ee",
    "collapsed": true
   },
   "outputs": [],
   "source": [
    "from gensim.models import LdaModel"
   ]
  },
  {
   "cell_type": "code",
   "execution_count": 10,
   "metadata": {
    "_cell_guid": "5f8f0fa0-b911-4043-af2c-ec311384d7a5",
    "_uuid": "084c1198f0e528c52edc746436d797c855de8c51",
    "collapsed": true
   },
   "outputs": [
    {
     "name": "stdout",
     "output_type": "stream",
     "text": [
      "CPU times: user 3min 58s, sys: 348 ms, total: 3min 58s\n",
      "Wall time: 3min 59s\n"
     ]
    }
   ],
   "source": [
    "# Set training parameters.\n",
    "num_topics = 4\n",
    "chunksize = 500 # size of the doc looked at every pass\n",
    "passes = 20 # number of passes through documents\n",
    "iterations = 400\n",
    "eval_every = 1  # Don't evaluate model perplexity, takes too much time.\n",
    "\n",
    "# Make a index to word dictionary.\n",
    "temp = dictionary[0]  # This is only to \"load\" the dictionary.\n",
    "id2word = dictionary.id2token\n",
    "\n",
    "%time model = LdaModel(corpus=corpus, id2word=id2word, chunksize=chunksize, \\\n",
    "                       alpha='auto', eta='auto', \\\n",
    "                       iterations=iterations, num_topics=num_topics, \\\n",
    "                       passes=passes, eval_every=eval_every)"
   ]
  },
  {
   "cell_type": "markdown",
   "metadata": {
    "_cell_guid": "93191a68-99d9-4b7d-88b2-5b75e3f44b1d",
    "_uuid": "f5f7c3e213b2fdffa3c767ebd5a1eb7631e76b13"
   },
   "source": [
    " # How to choose the number of topics? \n",
    "__LDA__ is an unsupervised technique, meaning that we don't know prior to running the model how many topics exits in our corpus. Topic coherence, is one of the main techniques used to deestimate the number of topics. You can read about it [here.](http://svn.aksw.org/papers/2015/WSDM_Topic_Evaluation/public.pdf)\n",
    "\n",
    "However, I used the LDA visualization tool **pyLDAvis**, tried a few number of topics and compared the resuls. Four seemed to be the optimal number of topics that would seperate  topics the most. "
   ]
  },
  {
   "cell_type": "code",
   "execution_count": 11,
   "metadata": {
    "_cell_guid": "8b9015bc-0e3d-4ee9-9d79-92f2d9dba89f",
    "_uuid": "7e100266faefe67e6ce1131fa464c78630293984",
    "collapsed": true
   },
   "outputs": [],
   "source": [
    "import pyLDAvis.gensim\n",
    "pyLDAvis.enable_notebook()\n",
    "\n",
    "import warnings\n",
    "warnings.filterwarnings(\"ignore\", category=DeprecationWarning) "
   ]
  },
  {
   "cell_type": "code",
   "execution_count": 12,
   "metadata": {
    "_cell_guid": "483a506d-d21b-4219-948d-87ae641b04ab",
    "_uuid": "f195b367d556a559c4db98446e9c9148758a95f6",
    "collapsed": true
   },
   "outputs": [
    {
     "data": {
      "text/html": [
       "\n",
       "<link rel=\"stylesheet\" type=\"text/css\" href=\"https://cdn.rawgit.com/bmabey/pyLDAvis/files/ldavis.v1.0.0.css\">\n",
       "\n",
       "\n",
       "<div id=\"ldavis_el131399277033050966628785108\"></div>\n",
       "<script type=\"text/javascript\">\n",
       "\n",
       "var ldavis_el131399277033050966628785108_data = {\"mdsDat\": {\"Freq\": [30.48016926875569, 27.93955125968992, 21.16315603968459, 20.417123431869793], \"cluster\": [1, 1, 1, 1], \"topics\": [1, 2, 3, 4], \"x\": [0.16133750917890116, -0.12832494303760636, -0.00012797722523962796, -0.03288458891605511], \"y\": [-0.011386397052049253, -0.04469014208270988, -0.06269735955324353, 0.11877389868800257]}, \"tinfo\": {\"Category\": [\"Default\", \"Default\", \"Default\", \"Default\", \"Default\", \"Default\", \"Default\", \"Default\", \"Default\", \"Default\", \"Default\", \"Default\", \"Default\", \"Default\", \"Default\", \"Default\", \"Default\", \"Default\", \"Default\", \"Default\", \"Default\", \"Default\", \"Default\", \"Default\", \"Default\", \"Default\", \"Default\", \"Default\", \"Default\", \"Default\", \"Topic1\", \"Topic1\", \"Topic1\", \"Topic1\", \"Topic1\", \"Topic1\", \"Topic1\", \"Topic1\", \"Topic1\", \"Topic1\", \"Topic1\", \"Topic1\", \"Topic1\", \"Topic1\", \"Topic1\", \"Topic1\", \"Topic1\", \"Topic1\", \"Topic1\", \"Topic1\", \"Topic1\", \"Topic1\", \"Topic1\", \"Topic1\", \"Topic1\", \"Topic1\", \"Topic1\", \"Topic1\", \"Topic1\", \"Topic1\", \"Topic1\", \"Topic1\", \"Topic1\", \"Topic1\", \"Topic1\", \"Topic1\", \"Topic1\", \"Topic1\", \"Topic1\", \"Topic1\", \"Topic1\", \"Topic1\", \"Topic1\", \"Topic1\", \"Topic1\", \"Topic1\", \"Topic1\", \"Topic1\", \"Topic1\", \"Topic1\", \"Topic1\", \"Topic1\", \"Topic1\", \"Topic1\", \"Topic1\", \"Topic1\", \"Topic1\", \"Topic1\", \"Topic1\", \"Topic1\", \"Topic1\", \"Topic1\", \"Topic1\", \"Topic1\", \"Topic1\", \"Topic1\", \"Topic1\", \"Topic1\", \"Topic2\", \"Topic2\", \"Topic2\", \"Topic2\", \"Topic2\", \"Topic2\", \"Topic2\", \"Topic2\", \"Topic2\", \"Topic2\", \"Topic2\", \"Topic2\", \"Topic2\", \"Topic2\", \"Topic2\", \"Topic2\", \"Topic2\", \"Topic2\", \"Topic2\", \"Topic2\", \"Topic2\", \"Topic2\", \"Topic2\", \"Topic2\", \"Topic2\", \"Topic2\", \"Topic2\", \"Topic2\", \"Topic2\", \"Topic2\", \"Topic2\", \"Topic2\", \"Topic2\", \"Topic2\", \"Topic2\", \"Topic2\", \"Topic2\", \"Topic2\", \"Topic2\", \"Topic2\", \"Topic2\", \"Topic2\", \"Topic2\", \"Topic2\", \"Topic2\", \"Topic2\", \"Topic2\", \"Topic2\", \"Topic2\", \"Topic2\", \"Topic2\", \"Topic2\", \"Topic2\", \"Topic2\", \"Topic2\", \"Topic2\", \"Topic2\", \"Topic2\", \"Topic2\", \"Topic2\", \"Topic2\", \"Topic2\", \"Topic2\", \"Topic2\", \"Topic2\", \"Topic2\", \"Topic2\", \"Topic2\", \"Topic2\", \"Topic2\", \"Topic2\", \"Topic2\", \"Topic2\", \"Topic3\", \"Topic3\", \"Topic3\", \"Topic3\", \"Topic3\", \"Topic3\", \"Topic3\", \"Topic3\", \"Topic3\", \"Topic3\", \"Topic3\", \"Topic3\", \"Topic3\", \"Topic3\", \"Topic3\", \"Topic3\", \"Topic3\", \"Topic3\", \"Topic3\", \"Topic3\", \"Topic3\", \"Topic3\", \"Topic3\", \"Topic3\", \"Topic3\", \"Topic3\", \"Topic3\", \"Topic3\", \"Topic3\", \"Topic3\", \"Topic3\", \"Topic3\", \"Topic3\", \"Topic3\", \"Topic3\", \"Topic3\", \"Topic3\", \"Topic3\", \"Topic3\", \"Topic3\", \"Topic3\", \"Topic3\", \"Topic3\", \"Topic3\", \"Topic3\", \"Topic3\", \"Topic3\", \"Topic3\", \"Topic3\", \"Topic3\", \"Topic3\", \"Topic3\", \"Topic3\", \"Topic3\", \"Topic3\", \"Topic3\", \"Topic3\", \"Topic3\", \"Topic3\", \"Topic3\", \"Topic3\", \"Topic4\", \"Topic4\", \"Topic4\", \"Topic4\", \"Topic4\", \"Topic4\", \"Topic4\", \"Topic4\", \"Topic4\", \"Topic4\", \"Topic4\", \"Topic4\", \"Topic4\", \"Topic4\", \"Topic4\", \"Topic4\", \"Topic4\", \"Topic4\", \"Topic4\", \"Topic4\", \"Topic4\", \"Topic4\", \"Topic4\", \"Topic4\", \"Topic4\", \"Topic4\", \"Topic4\", \"Topic4\", \"Topic4\", \"Topic4\", \"Topic4\", \"Topic4\", \"Topic4\", \"Topic4\", \"Topic4\", \"Topic4\", \"Topic4\", \"Topic4\", \"Topic4\", \"Topic4\", \"Topic4\", \"Topic4\", \"Topic4\", \"Topic4\", \"Topic4\", \"Topic4\", \"Topic4\", \"Topic4\", \"Topic4\", \"Topic4\", \"Topic4\", \"Topic4\", \"Topic4\", \"Topic4\", \"Topic4\", \"Topic4\", \"Topic4\", \"Topic4\", \"Topic4\", \"Topic4\", \"Topic4\", \"Topic4\"], \"Freq\": [671.0, 1170.0, 698.0, 899.0, 534.0, 683.0, 473.0, 677.0, 415.0, 791.0, 579.0, 544.0, 672.0, 662.0, 501.0, 482.0, 550.0, 464.0, 582.0, 597.0, 922.0, 616.0, 663.0, 597.0, 441.0, 766.0, 527.0, 683.0, 332.0, 430.0, 481.1505675555353, 219.00895644875015, 497.38870944567225, 152.77313043214758, 98.13012566034764, 95.25098782762329, 119.2301404374038, 92.3653408284101, 80.8490949204386, 112.43509346794778, 95.18591298364382, 192.28293297351573, 146.67982430526803, 571.4366149807045, 84.61525998827409, 60.658013223693565, 75.03274269458811, 54.91378067543853, 51.07684533579082, 75.92401759364364, 201.6915147703728, 85.40611566537915, 535.9695348110221, 63.508599143646286, 101.72195059292814, 62.4955909430493, 80.68534075506426, 43.3909236052217, 43.38729434651487, 40.502491392311235, 332.2246792012583, 659.6172478738861, 535.1002147286779, 198.23303661417313, 213.197086540866, 206.16589977660607, 332.0434768134301, 413.4402319461225, 179.93922262956505, 366.3343880573593, 202.0278226965612, 213.73362392872974, 242.4920206680348, 193.50874683597092, 180.84583039974493, 147.60256461303393, 547.9897669240712, 335.8927676581551, 421.47058748012734, 446.9227574773065, 410.15788441044344, 199.8600310689341, 339.54751374325116, 226.10391823315283, 530.2707864261471, 306.812357059022, 357.3018283275597, 306.63909173223306, 332.2038525382632, 606.871877222759, 607.1670406249398, 300.40498608876527, 414.5853111874334, 553.5577671972525, 305.20263715657217, 349.33114338427544, 429.25027938692637, 288.79198148408176, 265.8966209753376, 693.0876555455184, 202.76746678326725, 74.16717623816899, 112.42300525783278, 141.578402153085, 70.51588869554944, 73.25238692091912, 52.24208208409004, 232.02523514663264, 101.41638168477267, 41.27797845911817, 60.40228335753528, 146.56816195145825, 290.6356204101934, 65.81855778838528, 156.82004159755007, 111.62526787294074, 40.318208859282535, 454.3019074002657, 111.4956058637854, 31.223549505852784, 32.1164516031369, 30.283301726165124, 60.227576732228584, 22.08187468045992, 21.164822399673078, 60.861227126713366, 23.914279410088177, 127.40909780353694, 341.6673516408654, 125.10638820560668, 49.23652935037331, 73.05152099015334, 276.9588335349875, 836.6163766677262, 232.49098034006096, 422.3689849306009, 605.0697356744527, 706.8709757142211, 277.14013452654285, 141.93110732508913, 338.64965269280157, 295.17880656262207, 162.0396283939516, 245.03728429161436, 400.8504470290338, 138.47326368303086, 322.42585992996095, 218.0886340524435, 560.4852653572376, 193.04550860474788, 168.5382047216125, 171.99348890765793, 249.4044504898992, 418.51323695203007, 530.7553470606991, 319.522600817318, 373.9560104247008, 386.2201331961683, 204.9836779790764, 248.67519154761405, 542.9432184975088, 399.7423992244068, 397.0226511838002, 277.7058662777717, 257.6309877845069, 278.8428966831351, 296.5685774237359, 278.2593307332498, 276.8114655739724, 292.18193820339025, 266.6493385970945, 125.13336623302001, 203.23571245933482, 231.50276700779332, 145.4433128410057, 60.43144088642495, 181.39776613085604, 87.09111330988978, 308.2013521448442, 93.54962664583446, 245.32090559666443, 127.72090847084941, 45.189345017462436, 25.571348500522937, 32.50058030713677, 60.233581038405845, 20.234052668974652, 53.72213863116378, 60.3794492190842, 38.48937057632412, 30.768760772026305, 74.93569923409528, 77.65276692409707, 102.77082598167301, 111.09044718986308, 50.52948645969007, 47.76529979361859, 94.59788445777218, 32.224962013864804, 52.59887612884963, 223.08202381791006, 97.65209945494081, 271.4324239929483, 185.30753250545553, 252.22326708038003, 126.03082807950744, 292.6559304029972, 515.429843680916, 243.71455953434074, 415.8603270376818, 113.75439780087444, 163.03831267214508, 190.76257417698727, 190.55694186653497, 195.0639279190859, 217.53104721537116, 195.184662471595, 322.4172426215937, 176.82635129326292, 146.16275107603587, 209.28283259592786, 192.6890902164733, 299.0649921876908, 336.08623056549743, 322.1838426499367, 301.1453351136247, 187.46911681534334, 201.61785639527068, 239.80494129154533, 190.70362780721885, 184.361866963104, 188.7137408762567, 97.63566833875406, 412.10232008187654, 76.42883199847391, 216.3257507099592, 43.53215280950354, 152.85965325200036, 118.25729612277046, 91.90128305160007, 460.456639187391, 518.930581851008, 273.0524391983786, 648.5871522841305, 52.358147282931654, 160.2089917989053, 34.46126840496002, 132.7817154726507, 73.8467956124655, 51.130852128331945, 30.499873718798952, 45.586956162291536, 102.75190891487225, 9.686890334401856, 9.683926484396249, 27.804119359952765, 131.91235449733048, 111.78295250036828, 14.04721079923327, 104.10610517466733, 41.47770355029779, 62.95142812941773, 205.55189189446904, 264.65365928323797, 555.6070236880289, 215.0587753630961, 353.0847889184196, 145.5598582379337, 92.25256451138569, 99.79721131350774, 438.84202606884406, 479.9494592383228, 142.86124530804142, 234.7385819418889, 375.29487049342816, 404.1602093384553, 446.68060666154076, 273.94213328564206, 211.19217607121726, 206.09605442761648, 620.1539909791753, 358.65633815825515, 256.322028847159, 272.08252593522496, 261.5168708897928, 382.0167063432325, 281.9539579249136, 290.7583344067312, 255.8564735179921, 340.18774721070156, 235.63455514475115, 228.33850978717663, 254.57227556270743, 217.64244562583508], \"Term\": [\"policy\", \"regret\", \"matrix_completion\", \"convergence_rate\", \"reward\", \"bandit\", \"agent\", \"convolutional\", \"reward_function\", \"step_size\", \"recurrent\", \"recurrent_neural\", \"rank_matrix\", \"active_learning\", \"hidden_layer\", \"lstm\", \"hidden_unit\", \"strongly_convex\", \"submodular\", \"item\", \"gaussian_process\", \"embedding\", \"vertex\", \"fully_connected\", \"reinforcement_learning\", \"data_set\", \"trajectory\", \"time_step\", \"multi_label\", \"convolutional_neural\", \"lstm\", \"recurrent_network\", \"hidden_layer\", \"deep_belief\", \"lstms\", \"recurrent_connection\", \"autoencoder\", \"lstm_lstm\", \"image_caption\", \"pooling_layer\", \"sigmoid_belief\", \"patch\", \"variational_lower\", \"recurrent\", \"rnns\", \"softmax_layer\", \"variational_distribution\", \"mnist_digit\", \"input_sequence\", \"deep_boltzmann\", \"convolutional_layer\", \"parsing\", \"recurrent_neural\", \"receptive_field\", \"very_deep\", \"convnets\", \"alex_graf\", \"goodfellow\", \"diederik_kingma\", \"warde_farley\", \"deep_network\", \"convolutional\", \"hidden_unit\", \"machine_translation\", \"encoder\", \"texture\", \"convolutional_network\", \"convolutional_neural\", \"deep_generative\", \"hidden_state\", \"dropout\", \"variational_bayes\", \"deep_convolutional\", \"stack\", \"latent_state\", \"deep_architecture\", \"fully_connected\", \"sentence\", \"pixel\", \"neuron\", \"segmentation\", \"yoshua_bengio\", \"spatial\", \"speech_recognition\", \"deep_learning\", \"frame\", \"during_training\", \"deep_neural\", \"filter\", \"variational_inference\", \"generative_model\", \"mean_field\", \"proposal\", \"gaussian_process\", \"sampler\", \"posterior_distribution\", \"ground_truth\", \"mcmc\", \"primal_dual\", \"matrix_completion\", \"strong_convexity\", \"restricted_strong\", \"statistical_guarantee\", \"iteration_complexity\", \"incoherence\", \"dantzig_selector\", \"current_iterate\", \"linear_convergence\", \"dual_norm\", \"richta_taka\", \"stochastic_dual\", \"dual_variable\", \"lasso\", \"absolute_constant\", \"wolfe\", \"linear_measurement\", \"dantzig\", \"strongly_convex\", \"tuning_parameter\", \"society_series\", \"richta\", \"stochastic_dual_coordinate_ascent\", \"accelerated_gradient\", \"jaggi\", \"full_gradient\", \"universal_constant\", \"royal_statistical\", \"sparse_regression\", \"nuclear_norm\", \"stein\", \"asymptotic_convergence\", \"foundation_computational\", \"proximal\", \"convergence_rate\", \"primal\", \"line_search\", \"rank_matrix\", \"step_size\", \"coordinate_descent\", \"nonconvex\", \"rate_convergence\", \"completion\", \"convergence_analysis\", \"lipschitz\", \"regularization_parameter\", \"conditional_gradient\", \"estimation_error\", \"private\", \"gradient_descent\", \"convex_relaxation\", \"total_variation\", \"convexity\", \"oracle\", \"sample_size\", \"sample_complexity\", \"least_square\", \"probability_least\", \"logistic_regression\", \"concave\", \"relative_error\", \"regret\", \"covariance_matrix\", \"markov_chain\", \"linear_regression\", \"number_iteration\", \"optimal_solution\", \"online_learning\", \"recovery\", \"game\", \"graphical_model\", \"tensor\", \"multilabel\", \"lifted\", \"analogy\", \"calibration\", \"sketching\", \"decision_rule\", \"bayes_optimal\", \"multi_label\", \"predicate\", \"decision_tree\", \"true_label\", \"markov_network\", \"anandkumar\", \"training_instance\", \"relational\", \"locality\", \"logic\", \"orthogonal_matrix\", \"label_space\", \"number_topic\", \"incomplete_data\", \"hash\", \"multiclass\", \"random_projection\", \"protein\", \"equality_constraint\", \"random_feature\", \"schematic\", \"false_positive\", \"probability_measure\", \"multiclass_classification\", \"margin\", \"parent\", \"causal\", \"spectral_clustering\", \"topic_model\", \"data_set\", \"principal_component\", \"embedding\", \"child\", \"symmetry\", \"principal\", \"embeddings\", \"community\", \"nearest_neighbor\", \"dimensionality_reduction\", \"document\", \"sketch\", \"singular_vector\", \"rank_approximation\", \"manifold\", \"singular_value\", \"query\", \"tensor\", \"graphical_model\", \"message\", \"moment\", \"random_walk\", \"support_vector\", \"relationship_between\", \"running_time\", \"expected_cost\", \"reward_function\", \"mdps\", \"optimal_control\", \"state_action\", \"horizon\", \"maker\", \"optimal_policy\", \"agent\", \"reward\", \"market\", \"policy\", \"bellman\", \"decision_maker\", \"maximizing_spread\", \"markov_decision\", \"upper_confidence\", \"incentive\", \"placement\", \"thompson\", \"time_horizon\", \"influence_through\", \"kempe_kleinberg\", \"autonomous\", \"planning\", \"expected_reward\", \"golovin\", \"cascade\", \"discounted\", \"maximizing_submodular\", \"sensor\", \"environment\", \"bandit\", \"price\", \"reinforcement_learning\", \"arm\", \"participant\", \"bandit_feedback\", \"item\", \"active_learning\", \"reinforcement\", \"multi_armed\", \"trajectory\", \"submodular\", \"vertex\", \"cover\", \"feedback\", \"decision_making\", \"regret\", \"greedy\", \"confidence\", \"greedy_algorithm\", \"event\", \"time_step\", \"regret_bound\", \"state_space\", \"mechanism\", \"gaussian_process\", \"belief\", \"submodular_function\", \"sample_complexity\", \"round\"], \"Total\": [671.0, 1170.0, 698.0, 899.0, 534.0, 683.0, 473.0, 677.0, 415.0, 791.0, 579.0, 544.0, 672.0, 662.0, 501.0, 482.0, 550.0, 464.0, 582.0, 597.0, 922.0, 616.0, 663.0, 597.0, 441.0, 766.0, 527.0, 683.0, 332.0, 430.0, 482.783985846779, 220.53576026485152, 501.2157792785084, 154.02232869386944, 98.94958614351044, 96.06026865201916, 120.25286111401248, 93.21446917339526, 81.64858096395776, 113.6217798298269, 96.19706240367228, 194.75151222366742, 148.56847904634998, 579.0214133176751, 85.76689514627087, 61.48519682014472, 76.06839259605918, 55.679695131400074, 51.7911546568254, 77.12524442498645, 204.93310138118892, 86.78082034123697, 544.5968099653923, 64.53213902796452, 103.38169332278679, 63.5239176489218, 82.02654494305297, 44.11324314057104, 44.13723423006175, 41.249091704051146, 338.5642650951173, 677.9015478837354, 550.1288970831129, 201.89393961675228, 217.36909383555204, 210.674295971256, 342.08276149794256, 430.64354885673174, 184.5047987537902, 381.70917339320044, 208.0442526660858, 220.36775980404846, 252.31714441957632, 200.30932946235183, 186.9460839012163, 151.82835556765863, 597.3042711905899, 358.28896095509646, 455.13167498224345, 489.025892987223, 448.0273546859515, 209.72252036656994, 373.9705642424402, 239.9900469608914, 619.2297390767782, 341.27070455183167, 413.47644890839507, 346.1058483646938, 382.07932621088713, 805.1701228966672, 807.3606764952592, 344.74386919574664, 592.0389252041523, 922.831866457679, 384.1319654091787, 487.8025131889856, 812.9314893332457, 380.66709593662245, 267.3915747451484, 698.4317819916636, 204.34766527689965, 74.83204904678452, 113.5321831524813, 143.02893681793947, 71.2789236020233, 74.0799104947071, 52.909203514347475, 235.06057538755115, 102.80870068880327, 41.91649299290242, 61.384248799639536, 148.96239875106323, 295.45559622107805, 67.12822456293377, 160.1331416361819, 114.01174383319707, 41.20534908743492, 464.38703382099465, 114.08720066432764, 31.9570590680753, 32.875699752556756, 31.04649976619738, 61.769088259978844, 22.648939867682344, 21.7153981330257, 62.53472077648674, 24.573000153833526, 130.97176091213393, 352.31207449832925, 129.0041056153821, 50.626186859457604, 75.46701301600291, 290.34758458953445, 899.9077578316335, 246.6976657491338, 460.8058600527086, 672.1249460229105, 791.4376671079324, 299.41811714035356, 150.31198957330795, 375.3240364210876, 328.3302228216396, 173.517762658998, 271.27905936709715, 475.2529143312788, 148.20773030393934, 375.20913059083557, 250.03147602982435, 755.4066562495824, 218.4750677238099, 186.67305478233584, 193.86501831585173, 315.89031270950215, 630.322563491268, 879.0254348030472, 461.9409590638246, 588.7148261522664, 621.9973536441138, 246.50367851005552, 331.0614401675949, 1170.4728401603734, 721.785622089589, 806.1479865993161, 431.10731847943373, 361.2413480878777, 450.7799255192584, 561.198364835154, 478.76562251348685, 537.7042638174196, 750.0536070256002, 664.2948979966873, 127.27031006435895, 207.6682410019516, 242.95688910387094, 154.6080894916914, 64.28085157301011, 193.0177516633824, 93.29569505011227, 332.6336458852649, 101.42232917311183, 266.4602506477376, 139.46051765421015, 49.370725439376386, 27.941952387134275, 35.54276605699839, 67.74493650076109, 23.23016673539701, 62.10626101988315, 69.98259227116998, 44.92258104749425, 35.952155145557036, 87.76497408236328, 91.09685582084191, 120.61869727466035, 130.5093314005071, 59.4303147623136, 56.22494944475469, 111.68487070211404, 38.29255822981176, 62.825467019260856, 267.0674056054471, 117.25218459300997, 349.6829032443713, 236.46460923893343, 333.7403895941535, 161.19621032719732, 407.21097220645936, 766.5305926184129, 335.3037002988314, 616.8021661633711, 145.1462053252715, 218.64661969798055, 262.1086743954628, 265.27712478923917, 275.31171302527946, 317.8989274311495, 279.9425013336897, 534.1549499947995, 255.92134870102302, 200.13842692159534, 327.10193926444003, 294.30622742966887, 556.5947038066269, 664.772023127873, 664.2948979966873, 750.0536070256002, 323.95924590545906, 402.0816851196012, 630.8639655633142, 413.23747306679434, 434.7435048872905, 702.2442783018884, 98.44750575024875, 415.7435568212973, 77.19539178582333, 219.29126891800487, 44.46870936389965, 156.25747528315924, 121.35685883347855, 94.46582150181685, 473.4474709155629, 534.912796375044, 281.95144312121613, 671.5402531042853, 54.27059633998233, 166.16976526243783, 36.07346808768554, 141.1195436962157, 79.70863304869556, 55.34045841691958, 33.07991423045309, 49.58672757454629, 112.0698713508477, 10.57770318263655, 10.580525133076748, 30.55389330287279, 145.20613448833174, 123.22784331780525, 15.517360695114322, 115.34533275138499, 46.102982465658926, 71.04265193820406, 238.9498683380366, 310.08494727965456, 683.4541180645724, 261.59152580577603, 441.4672882127754, 174.53013903803628, 107.47022393557073, 117.22305547617091, 597.5775691711112, 662.6483327364188, 174.31327461562424, 303.28997012498354, 527.7380508582646, 582.9981196750873, 663.4692504561449, 393.10422592718874, 284.548973767087, 276.96730579914464, 1170.4728401603734, 571.8855059279621, 373.03618760370136, 412.06432865245404, 397.7237040686945, 683.6890684189551, 479.4866758019497, 524.9139346503675, 469.37065598182653, 922.831866457679, 420.1702202444791, 385.1093904356422, 879.0254348030472, 500.002979725749], \"loglift\": [30.0, 29.0, 28.0, 27.0, 26.0, 25.0, 24.0, 23.0, 22.0, 21.0, 20.0, 19.0, 18.0, 17.0, 16.0, 15.0, 14.0, 13.0, 12.0, 11.0, 10.0, 9.0, 8.0, 7.0, 6.0, 5.0, 4.0, 3.0, 2.0, 1.0, 1.1847, 1.1811, 1.1804, 1.18, 1.1798, 1.1796, 1.1796, 1.1789, 1.1783, 1.1776, 1.1775, 1.1753, 1.1753, 1.1749, 1.1746, 1.1745, 1.1744, 1.1742, 1.1742, 1.1724, 1.1721, 1.1721, 1.1721, 1.1721, 1.1719, 1.1718, 1.1716, 1.1716, 1.171, 1.1698, 1.1692, 1.1608, 1.1604, 1.1698, 1.1687, 1.1665, 1.1583, 1.1473, 1.163, 1.147, 1.1587, 1.1575, 1.1484, 1.1536, 1.1549, 1.1599, 1.1019, 1.1235, 1.1113, 1.0981, 1.0998, 1.1399, 1.0915, 1.1285, 1.033, 1.0817, 1.0421, 1.067, 1.0482, 0.9054, 0.9031, 1.0504, 0.8318, 0.677, 0.9581, 0.8542, 0.5495, 0.9119, 1.2695, 1.2674, 1.2674, 1.2662, 1.2653, 1.2649, 1.2644, 1.2639, 1.2624, 1.2621, 1.2615, 1.2598, 1.259, 1.2589, 1.2587, 1.2554, 1.2542, 1.254, 1.2534, 1.2532, 1.2521, 1.2519, 1.2518, 1.2502, 1.2499, 1.2498, 1.2494, 1.248, 1.248, 1.2475, 1.2444, 1.2444, 1.2473, 1.2426, 1.2279, 1.2022, 1.2158, 1.188, 1.17, 1.1621, 1.1978, 1.2178, 1.1723, 1.1687, 1.2067, 1.1734, 1.1049, 1.2072, 1.1235, 1.1384, 0.9767, 1.1514, 1.1729, 1.1554, 1.0388, 0.8656, 0.7706, 0.9065, 0.8213, 0.7986, 1.0907, 0.989, 0.507, 0.6842, 0.5669, 0.8353, 0.9371, 0.7948, 0.6373, 0.7325, 0.6112, 0.3324, 0.3623, 1.536, 1.5313, 1.5046, 1.4918, 1.4912, 1.4908, 1.4841, 1.4766, 1.4721, 1.4703, 1.465, 1.4644, 1.4643, 1.4634, 1.4354, 1.4148, 1.4079, 1.4053, 1.3983, 1.3972, 1.3949, 1.3932, 1.3928, 1.3918, 1.3907, 1.3898, 1.3869, 1.3804, 1.3752, 1.3729, 1.37, 1.2996, 1.3091, 1.2729, 1.3068, 1.2226, 1.156, 1.2339, 1.1587, 1.3092, 1.2594, 1.2352, 1.2221, 1.2083, 1.1735, 1.1923, 1.0481, 1.1832, 1.2386, 1.1063, 1.1294, 0.9317, 0.8708, 0.8293, 0.6404, 1.0059, 0.8626, 0.5856, 0.7796, 0.6951, 0.2389, 1.5805, 1.58, 1.5788, 1.5752, 1.5675, 1.5668, 1.5629, 1.5613, 1.561, 1.5585, 1.5567, 1.554, 1.5529, 1.5523, 1.5431, 1.5279, 1.5124, 1.5097, 1.5076, 1.5047, 1.502, 1.5008, 1.5002, 1.4945, 1.4928, 1.4913, 1.4893, 1.4863, 1.4831, 1.4679, 1.4382, 1.4304, 1.3817, 1.3929, 1.3654, 1.4073, 1.4361, 1.4279, 1.2801, 1.2662, 1.3898, 1.3326, 1.2479, 1.2224, 1.1932, 1.2276, 1.2907, 1.2932, 0.9536, 1.1222, 1.2136, 1.1737, 1.1695, 1.0068, 1.0578, 0.9981, 0.982, 0.5908, 1.0104, 1.0661, 0.3496, 0.757], \"logprob\": [30.0, 29.0, 28.0, 27.0, 26.0, 25.0, 24.0, 23.0, 22.0, 21.0, 20.0, 19.0, 18.0, 17.0, 16.0, 15.0, 14.0, 13.0, 12.0, 11.0, 10.0, 9.0, 8.0, 7.0, 6.0, 5.0, 4.0, 3.0, 2.0, 1.0, -5.6319, -6.419, -5.5988, -6.7792, -7.2218, -7.2516, -7.0271, -7.2824, -7.4155, -7.0858, -7.2523, -6.5492, -6.8199, -5.46, -7.37, -7.7029, -7.4902, -7.8024, -7.8748, -7.4784, -6.5014, -7.3607, -5.5241, -7.657, -7.1859, -7.673, -7.4176, -8.0379, -8.038, -8.1068, -6.0023, -5.3165, -5.5257, -6.5187, -6.4459, -6.4794, -6.0029, -5.7836, -6.6155, -5.9046, -6.4997, -6.4434, -6.3172, -6.5428, -6.6105, -6.8136, -5.5019, -5.9913, -5.7644, -5.7057, -5.7916, -6.5105, -5.9805, -6.3871, -5.5347, -6.0819, -5.9295, -6.0825, -6.0024, -5.3998, -5.3993, -6.103, -5.7808, -5.4918, -6.0872, -5.9521, -5.7461, -6.1424, -6.138, -5.1799, -6.409, -7.4148, -6.9988, -6.7682, -7.4653, -7.4272, -7.7652, -6.2742, -7.1019, -8.0008, -7.6201, -6.7336, -6.049, -7.5342, -6.666, -7.0059, -8.0243, -5.6023, -7.0071, -8.2799, -8.2517, -8.3105, -7.623, -8.6263, -8.6688, -7.6125, -8.5466, -6.8737, -5.8873, -6.8919, -7.8245, -7.4299, -6.0972, -4.9917, -6.2722, -5.6752, -5.3158, -5.1602, -6.0966, -6.7658, -5.8961, -6.0335, -6.6333, -6.2197, -5.7275, -6.7904, -5.9452, -6.3362, -5.3923, -6.4582, -6.5939, -6.5736, -6.202, -5.6844, -5.4468, -5.9543, -5.797, -5.7647, -6.3982, -6.2049, -5.4241, -5.7303, -5.7371, -6.0945, -6.1696, -6.0904, -6.0288, -6.0925, -6.0978, -6.0437, -6.1352, -6.6139, -6.1289, -5.9987, -6.4635, -7.3418, -6.2426, -6.9764, -5.7126, -6.9048, -5.9407, -6.5935, -7.6325, -8.2018, -7.9621, -7.3451, -8.4359, -7.4595, -7.3427, -7.7929, -8.0168, -7.1267, -7.0911, -6.8108, -6.733, -7.5208, -7.577, -6.8937, -7.9706, -7.4806, -6.0358, -6.8619, -5.8396, -6.2213, -5.913, -6.6068, -5.7643, -5.1983, -5.9473, -5.413, -6.7093, -6.3493, -6.1923, -6.1934, -6.17, -6.061, -6.1694, -5.6675, -6.2681, -6.4586, -6.0996, -6.1822, -5.7427, -5.6259, -5.6682, -5.7357, -6.2097, -6.1369, -5.9635, -6.1926, -6.2264, -6.2031, -6.8262, -5.3862, -7.0711, -6.0306, -7.6339, -6.3779, -6.6346, -6.8867, -5.2752, -5.1557, -5.7978, -4.9326, -7.4493, -6.3309, -7.8676, -6.5187, -7.1054, -7.473, -7.9897, -7.5878, -6.7751, -9.1367, -9.137, -8.0822, -6.5253, -6.6909, -8.765, -6.762, -7.6823, -7.2651, -6.0817, -5.829, -5.0874, -6.0365, -5.5407, -6.4268, -6.8829, -6.8043, -5.3233, -5.2337, -6.4456, -5.949, -5.4797, -5.4056, -5.3056, -5.7945, -6.0547, -6.0791, -4.9775, -5.5251, -5.861, -5.8013, -5.8409, -5.462, -5.7657, -5.7349, -5.8628, -5.5779, -5.9451, -5.9766, -5.8678, -6.0246]}, \"token.table\": {\"Topic\": [2, 3, 1, 2, 1, 2, 3, 4, 1, 2, 3, 4, 1, 2, 1, 2, 3, 4, 1, 2, 3, 1, 2, 3, 4, 2, 3, 1, 1, 2, 3, 4, 1, 2, 3, 4, 1, 2, 3, 4, 1, 2, 3, 4, 1, 2, 3, 4, 1, 4, 1, 2, 3, 4, 1, 2, 3, 4, 1, 2, 3, 4, 1, 2, 3, 4, 1, 2, 3, 4, 1, 2, 3, 4, 1, 2, 3, 4, 1, 2, 3, 4, 1, 2, 3, 4, 1, 2, 3, 4, 1, 2, 3, 4, 1, 2, 3, 4, 1, 2, 3, 4, 1, 1, 2, 3, 4, 1, 2, 3, 4, 1, 2, 3, 4, 1, 2, 3, 4, 1, 2, 3, 4, 1, 2, 3, 4, 1, 2, 3, 4, 2, 2, 2, 1, 2, 3, 4, 1, 2, 3, 4, 1, 2, 3, 4, 1, 2, 3, 4, 1, 2, 3, 4, 1, 2, 3, 4, 1, 1, 1, 2, 3, 4, 1, 2, 3, 4, 1, 2, 3, 4, 1, 2, 3, 4, 1, 2, 3, 4, 1, 1, 2, 3, 4, 1, 2, 3, 4, 1, 2, 3, 4, 1, 2, 3, 4, 2, 4, 1, 2, 3, 4, 1, 2, 3, 4, 1, 2, 3, 4, 1, 2, 3, 4, 1, 2, 3, 4, 1, 2, 3, 4, 1, 2, 3, 4, 1, 2, 3, 4, 1, 2, 3, 4, 4, 1, 2, 3, 4, 1, 2, 3, 4, 1, 2, 3, 4, 1, 2, 3, 4, 2, 3, 1, 2, 3, 4, 2, 1, 2, 3, 4, 1, 2, 3, 4, 1, 2, 3, 4, 1, 2, 3, 4, 2, 4, 1, 1, 2, 3, 4, 1, 2, 3, 4, 1, 2, 3, 4, 1, 2, 3, 4, 1, 2, 3, 4, 1, 2, 3, 4, 1, 2, 3, 4, 1, 2, 3, 4, 1, 2, 3, 4, 1, 2, 3, 4, 1, 2, 4, 2, 1, 2, 3, 4, 4, 1, 1, 2, 3, 4, 2, 4, 2, 4, 2, 3, 1, 2, 3, 4, 1, 2, 3, 4, 1, 2, 3, 4, 1, 2, 3, 4, 1, 2, 3, 4, 1, 2, 3, 4, 2, 3, 1, 2, 3, 4, 1, 2, 3, 4, 1, 2, 3, 1, 2, 3, 4, 1, 2, 3, 4, 1, 2, 3, 4, 1, 1, 1, 2, 3, 4, 1, 2, 4, 1, 2, 3, 4, 1, 2, 3, 4, 1, 2, 3, 4, 1, 2, 3, 4, 1, 2, 3, 4, 1, 2, 3, 4, 1, 2, 3, 4, 2, 4, 1, 2, 4, 1, 2, 3, 4, 4, 1, 2, 3, 4, 1, 2, 3, 4, 1, 2, 3, 4, 1, 1, 2, 3, 4, 1, 2, 3, 4, 1, 2, 3, 4, 1, 2, 3, 4, 1, 2, 3, 4, 2, 3, 1, 2, 3, 4, 1, 2, 3, 4, 1, 2, 3, 4, 1, 2, 3, 4, 1, 2, 3, 4, 1, 3, 4, 1, 2, 3, 4, 1, 2, 3, 4, 1, 2, 3, 4, 1, 2, 3, 4, 1, 2, 3, 4, 1, 2, 3, 4, 1, 2, 3, 4, 1, 3, 1, 2, 3, 4, 1, 2, 3, 4, 1, 2, 3, 4, 2, 4, 1, 2, 3, 4, 1, 2, 3, 4, 1, 1, 2, 3, 4, 1, 2, 3, 4, 1, 2, 3, 4, 1, 2, 3, 4, 2, 4, 1, 2, 3, 4, 1, 2, 3, 4, 1, 2, 3, 4, 1, 2, 3, 4, 1, 2, 3, 4, 1, 2, 3, 4, 1, 2, 3, 4, 1, 2, 3, 4, 1, 2, 3, 4, 1, 2, 3, 4, 1, 2, 3, 4, 1, 2, 3, 4, 1, 2, 3, 4, 1, 2, 3, 4, 1, 2, 3, 4, 1, 1, 2, 3, 4, 1, 2, 3, 4, 1, 1, 3, 4, 1, 2, 3, 4, 1, 2, 3, 4, 1, 2, 3, 4, 1, 2, 3, 4, 1, 2, 3, 4, 1, 2, 3, 4, 1, 2, 3, 4, 1, 2, 3, 4, 1, 2, 3, 4, 2, 1, 2, 3, 4, 1, 2, 3, 4, 2, 2, 1, 1, 2, 3, 4, 2, 1, 2, 3, 4, 1, 2, 3, 4, 1, 2, 3, 4, 1, 2, 3, 4, 1, 3, 1, 2, 3, 4, 1, 2, 3, 4, 1, 2, 3, 4, 1, 1, 2, 3, 4, 1, 2, 3, 4, 1, 2, 3, 4, 1, 2, 3, 4, 2, 1, 1, 2, 3, 4, 1, 2, 3, 4, 1, 2, 3, 4, 1, 2, 3, 4, 1, 2, 3, 4, 4, 1, 2, 3, 4, 2, 1, 2, 3, 4, 1, 2, 3, 4, 2, 2, 2, 4, 1, 2, 3, 4, 1, 2, 3, 4, 1, 2, 3, 4, 1, 2, 3, 4, 1, 2, 3, 4, 1, 2, 3, 4, 1, 2, 3, 4, 2, 4, 1, 2, 3, 4, 1, 2, 3, 4, 1, 2, 3, 4, 1, 2, 3, 4, 1, 2, 3, 1, 2, 3, 4, 1, 2, 3, 4, 1, 2, 3, 2, 3, 2, 4, 1, 2, 3, 4, 1, 1, 2, 3, 4, 1, 3, 4, 1, 2, 3, 4, 1, 3, 4, 1, 1, 2, 3, 4, 1, 2, 3, 4], \"Freq\": [0.9831929926602477, 0.014896863525155268, 0.016189327512672963, 0.9713596507603778, 0.010563672545727789, 0.22032802738232246, 0.045272882338833385, 0.7243661174213342, 0.010560833687274519, 0.014785167162184327, 0.004224333474909808, 0.9715966992292557, 0.987485210503921, 0.012191175438320013, 0.03704360898427641, 0.00823191310761698, 0.9549019204835696, 0.00411595655380849, 0.035788479850836934, 0.035788479850836934, 0.9305004761217603, 0.0229186776682064, 0.1375120660092384, 0.0057296694170516, 0.8365317348895336, 0.9678785434903081, 0.0197526233365369, 0.9895814444462604, 0.032729053220395196, 0.032729053220395196, 0.032729053220395196, 0.9164134901710655, 0.002926312018813589, 0.18143134516644252, 0.002926312018813589, 0.8135147412301778, 0.008530745047873965, 0.13649192076598343, 0.008530745047873965, 0.8530745047873964, 0.01071860817868248, 0.01071860817868248, 0.9325189115453758, 0.04287443271472992, 0.33319829263135303, 0.06187968291725128, 0.04521976828568363, 0.5616771218642809, 0.018426184111473974, 0.9581615737966466, 0.019403900597072053, 0.0064679668656906835, 0.9378551955251492, 0.03233983432845342, 0.08669618233755476, 0.008669618233755476, 0.008669618233755476, 0.9016402963105695, 0.044945114429334784, 0.05393413731520174, 0.7550779224128243, 0.14682070713582696, 0.05511683879073561, 0.04822723394189366, 0.7854149527679825, 0.11023367758147122, 0.11986413377541223, 0.05811594364868472, 0.708288063218345, 0.11623188729736944, 0.024365713065488577, 0.8984856692898913, 0.060914282663721446, 0.015228570665930362, 0.028397142153456553, 0.831630591636942, 0.04868081512021123, 0.09330489564707153, 0.006747286379389484, 0.9311255203557488, 0.006747286379389484, 0.05397829103511587, 0.08042115214803448, 0.17156512458247355, 0.058975511575225285, 0.6862604983298942, 0.0057630987437593244, 0.9336219964890106, 0.011526197487518649, 0.051867888693833915, 0.004444900008016568, 0.930095326677467, 0.011112250020041422, 0.054450025098202966, 0.009154362650333833, 0.8833959957572148, 0.10527517047883908, 0.0045771813251669164, 0.015474684530822853, 0.8872152464338436, 0.030949369061645707, 0.06705696630023236, 0.9760103327168194, 0.9735927024512332, 0.0029502809165188886, 0.019176825957372776, 0.004425421374778333, 0.9856875177244638, 0.004879641176853781, 0.009759282353707563, 0.004879641176853781, 0.9705253738779726, 0.002923269198427628, 0.01461634599213814, 0.008769807595282885, 0.9590298080545462, 0.004644212145542596, 0.032509485018798176, 0.004644212145542596, 0.00667962252618966, 0.9251277198772679, 0.02337867884166381, 0.04341754642023279, 0.17041070954546264, 0.554181169253537, 0.1302325747745812, 0.14547255692905348, 0.04578938310201219, 0.20859607857583334, 0.04833323771879065, 0.6970161649972968, 0.9828157777105655, 0.9707477520727406, 0.9854223569184218, 0.09262513549194318, 0.1800319534913825, 0.6718583771598695, 0.054792333671290334, 0.006017941942811704, 0.03008970971405852, 0.006017941942811704, 0.9628707108498726, 0.007221068906415945, 0.007221068906415945, 0.24190580836493417, 0.7437700973608423, 0.005180870626573106, 0.005180870626573106, 0.937737583409732, 0.05180870626573105, 0.011258714921671457, 0.041281954712795346, 0.919461718603169, 0.030023239791123885, 0.9747849764074364, 0.006586384975725923, 0.019759154927177766, 0.006586384975725923, 0.9933624643742311, 0.9854101671459741, 0.9591104106567566, 0.003963266159738663, 0.02377959695843198, 0.01188979847921599, 0.9755843816300867, 0.00541991323127826, 0.00541991323127826, 0.016259739693834777, 0.8559020449989813, 0.0694411093112381, 0.05006219508484607, 0.024223642782990034, 0.9806114650248953, 0.005907297982077682, 0.008860946973116523, 0.002953648991038841, 0.8870118822046377, 0.0635643694088014, 0.014446447592909408, 0.034671474222982585, 0.974234130210017, 0.2214740516521155, 0.021432972740527308, 0.6965716140671374, 0.0607267560981607, 0.021690570685852645, 0.021690570685852645, 0.06507171205755793, 0.8893133981199585, 0.3238760588134292, 0.04118655083176556, 0.602821334901296, 0.031825971097273385, 0.9709472740120011, 0.009613339346653475, 0.01922667869330695, 0.004806669673326738, 0.9824071243320338, 0.009726803211208255, 0.006713103497152582, 0.9868262140814296, 0.006713103497152582, 0.006713103497152582, 0.8634107237365113, 0.004837034866871212, 0.11608883680490907, 0.014511104600613634, 0.3031766265724652, 0.008106326913702278, 0.6744463992200296, 0.014591388444664101, 0.2525660667244906, 0.011308928360798087, 0.7200017723041449, 0.018848213934663478, 0.9799001147842231, 0.004600470022461141, 0.013801410067383424, 0.004600470022461141, 0.08384799142330353, 0.03224922747050135, 0.03224922747050135, 0.8546045279682859, 0.01778569851774747, 0.01778569851774747, 0.8537135288518786, 0.1244998896242323, 0.015991082068157296, 0.8581880709911083, 0.08528577103017225, 0.037312524825700355, 0.05028616548473464, 0.08045786477557543, 0.20868758676164878, 0.6587487678500239, 0.9954543718823712, 0.008115049108025, 0.08115049108025, 0.008115049108025, 0.9088855000988, 0.06366844831847714, 0.047751336238857855, 0.8436069402198222, 0.06366844831847714, 0.14057334127917595, 0.10191567242740256, 0.014057334127917594, 0.7415243752476531, 0.8689295055361199, 0.013086287733977709, 0.041876120748728665, 0.0759004688570707, 0.9673100482262392, 0.026501645156883268, 0.8995791197582074, 0.008790675437376619, 0.06446495320742854, 0.029302251457922066, 0.9670557210766634, 0.9174553513700595, 0.005022565792171859, 0.06529335529823416, 0.011719320181734336, 0.08182936785292154, 0.515153065801347, 0.02417685868381773, 0.379390705499909, 0.6003260400256306, 0.015170694152272254, 0.016254315163148843, 0.3684311436980405, 0.7518325051883602, 0.08050924684883594, 0.07060041646744075, 0.09661109621860313, 0.0644439489194095, 0.902215284871733, 0.9747639696989951, 0.1654737868217839, 0.741322564961592, 0.07545604679073346, 0.017209273829465528, 0.09332666271360364, 0.3893055073196038, 0.40130464966849566, 0.11599170937262167, 0.03322343336743587, 0.138139538738286, 0.20108920196079608, 0.6277480304689199, 0.00970722220261319, 0.2912166660783957, 0.03882888881045276, 0.6600911097776969, 0.5277197471485074, 0.09471892897537312, 0.17344635046139756, 0.20419924947937584, 0.13172792729092783, 0.010977327274243987, 0.856231527391031, 0.010977327274243987, 0.9915888935408679, 0.0019951486791566758, 0.0019951486791566758, 0.0039902973583133515, 0.9588451771972, 0.002619795566112568, 0.01571877339667541, 0.020958364528900545, 0.9724993593986262, 0.009088779059800245, 0.010906534871760293, 0.007271023247840196, 0.006399693827049666, 0.012799387654099333, 0.006399693827049666, 0.9791531555385989, 0.9920564331149361, 0.05420988704861887, 0.9215680798265208, 0.9960868712947936, 0.04557626823026449, 0.09115253646052898, 0.8545550293174592, 0.011394067057566123, 0.9453848181725444, 0.984724135577442, 0.013387383350242968, 0.19077021274096229, 0.06191664799487372, 0.7346326613445828, 0.9928060933624279, 0.0069915922067776606, 0.9713478921541793, 0.9451326729273659, 0.13356311814889976, 0.8458997482763653, 0.00338460334747472, 0.9849195741151435, 0.00676920669494944, 0.00338460334747472, 0.968193589418229, 0.005349135853139387, 0.005349135853139387, 0.021396543412557548, 0.058449027890314253, 0.6927292194407615, 0.1601936319956761, 0.09092071005159995, 0.004815372804118865, 0.00963074560823773, 0.9775206792361296, 0.004815372804118865, 0.021701112913052288, 0.9157869649308065, 0.05642289357393594, 0.0065103338739156864, 0.004254222548171981, 0.9869796311758997, 0.008508445096343962, 0.004254222548171981, 0.9823549419949201, 0.017542052535623572, 0.11830000979775292, 0.6448510337995159, 0.13221765800925328, 0.10438236158625258, 0.007372482065759388, 0.903129053055525, 0.022117446197278165, 0.07003857962471419, 0.04304747406208877, 0.04304747406208877, 0.8609494812417753, 0.032202872418284935, 0.016101436209142467, 0.8694775552936933, 0.08050718104571235, 0.21221955242517962, 0.6205814184554496, 0.12540246279669706, 0.04180082093223235, 0.996304794899835, 0.002071319739916497, 0.002071319739916497, 0.002071319739916497, 0.9869712375754012, 0.9904033338539363, 0.9807129445086663, 0.004953095679336698, 0.004953095679336698, 0.009906191358673396, 0.008240160544795936, 0.01648032108959187, 0.9723389442859203, 0.2820191768447534, 0.023784749854376792, 0.6557795316992459, 0.04077385689321736, 0.1315477524729126, 0.054334941238811725, 0.7749878460904198, 0.03717653874234486, 0.01064012996986238, 0.014186839959816507, 0.007093419979908254, 0.9682518272574766, 0.33740703260627697, 0.4924654115613675, 0.06698521970859911, 0.1029587636261801, 0.007086190713262747, 0.049603334992839226, 0.007086190713262747, 0.9424633648639453, 0.020254918093677323, 0.020254918093677323, 0.9114713142154794, 0.040509836187354646, 0.002863558119157687, 0.9922228882881386, 0.002863558119157687, 0.0014317790595788436, 0.027721204891341503, 0.9425209663056111, 0.014076051114615525, 0.09853235780230866, 0.886791220220778, 0.7591935396699373, 0.10245172334646213, 0.023642705387645107, 0.11295959240763773, 0.9845147260973827, 0.8702112693109535, 0.011602816924146046, 0.0493119719276207, 0.06671619731383976, 0.29614122278104643, 0.12783074364649485, 0.031957685911623714, 0.5454111728917115, 0.08951743272196362, 0.11729870494602129, 0.5772331006554206, 0.2129897537177755, 0.9877927648526803, 0.08704698894601248, 0.3258044443407896, 0.5023854790598434, 0.08704698894601248, 0.0032971746463884297, 0.21761352666163636, 0.0032971746463884297, 0.774836041901281, 0.018037862598149726, 0.03607572519629945, 0.9259436133716858, 0.018037862598149726, 0.03316235451367557, 0.08290588628418893, 0.853930628727146, 0.04145294314209447, 0.01705725148697341, 0.11940076040881387, 0.8358053228616971, 0.03411450297394682, 0.007857292085595713, 0.9821615106994641, 0.14155442537548696, 0.06605873184189393, 0.6857525495968035, 0.10695223250592349, 0.9140620290461368, 0.004089762993495019, 0.06952597088941533, 0.012269288980485057, 0.006652829244285232, 0.9447017526885029, 0.026611316977140927, 0.019958487732855697, 0.005676785284318958, 0.9707302836185419, 0.019868748495116353, 0.005676785284318958, 0.07474227450128942, 0.7142039563456545, 0.09965636600171923, 0.11349752794640246, 0.08344423269909981, 0.8622570712240314, 0.055629488466066544, 0.0997864632347056, 0.5292246353697779, 0.0374199237130146, 0.3349974122879402, 0.004560145075241959, 0.004560145075241959, 0.004560145075241959, 0.9849913362522631, 0.010585839239017967, 0.010585839239017967, 0.010585839239017967, 0.973897209989653, 0.017747019215162942, 0.6189272951288076, 0.1308842667118267, 0.23292962719901364, 0.025325246384991014, 0.7882482937328452, 0.03798786957748652, 0.1487858225118222, 0.014289267767120995, 0.11431414213696796, 0.8573560660272597, 0.014289267767120995, 0.029602738534657065, 0.016915850591232608, 0.7823580898445082, 0.1691585059123261, 0.9794791022459285, 0.011523283555834452, 0.09304902915243836, 0.009304902915243836, 0.037219611660975344, 0.8560510682024329, 0.985871677235002, 0.005134748318932302, 0.005134748318932302, 0.005134748318932302, 0.9250070323416293, 0.013182998085628922, 0.039548994256886766, 0.019774497128443383, 0.060459648899537255, 0.9068947334930588, 0.04820732970177989, 0.034433806929842777, 0.006886761385968556, 0.9090525029478493, 0.02382582417961968, 0.0074455700561311495, 0.00297822802245246, 0.9664349932858233, 0.9857265056729804, 0.7154534684916427, 0.03895018882905791, 0.05740027827440113, 0.18860091433017515, 0.029579285197438878, 0.01971952346495925, 0.9268176028530848, 0.029579285197438878, 0.0076455076051849665, 0.14526464449851437, 0.0229365228155549, 0.8218920675573839, 0.008107089274341958, 0.9404223558236672, 0.04053544637170979, 0.012160633911512937, 0.9947957419882257, 0.003739833616497089, 0.030521691120873804, 0.1945757808955705, 0.7287053755108621, 0.04959774807141993, 0.038770821760732314, 0.22367781785037874, 0.7276985007398988, 0.00894711271401515, 0.007998992893844434, 0.8718902254290434, 0.02799647512845552, 0.09198841827921099, 0.010191691687493102, 0.63528211518707, 0.11040999328117528, 0.24460060049983445, 0.011233119194006248, 0.1123311919400625, 0.8349951934211312, 0.04118810371135625, 0.7009674234796233, 0.010134468773199371, 0.013512625030932496, 0.2770088131341162, 0.0504792884237319, 0.0673057178983092, 0.8581479032034424, 0.0336528589491546, 0.017220739091280957, 0.9540289456569649, 0.020664886909537147, 0.010332443454768574, 0.07370947978443212, 0.15193178486178865, 0.5054364328075346, 0.26926524247782346, 0.017907528454184286, 0.07163011381673715, 0.8506076015737536, 0.06267634958964499, 0.022986862071905024, 0.12259659771682678, 0.8505138966604858, 0.007662287357301674, 0.43749526849826126, 0.03487281125710778, 0.3804306682593576, 0.14900201173491506, 0.0366858112397151, 0.3179436974108642, 0.6389445457583713, 0.00611430187328585, 0.019341641873171708, 0.9001302564052986, 0.07587874888705824, 0.0044634558168857785, 0.01332182198528406, 0.9032195306022592, 0.03197237276468174, 0.05062292354407943, 0.991753891379086, 0.01879834218829375, 0.5806599031495181, 0.3738781390782868, 0.027153160938646528, 0.9861466033324847, 0.0017270518447153847, 0.0034541036894307695, 0.008635259223576924, 0.9889624642227474, 0.9930362302104332, 0.004534412010093302, 0.004534412010093302, 0.9842143585711812, 0.0018362208182298157, 0.0036724416364596313, 0.009181104091149079, 0.003417422312380983, 0.4639150789057185, 0.0025630667342857374, 0.5297004584190523, 0.004171127376282074, 0.4045993554993612, 0.004171127376282074, 0.5881289600557725, 0.03366628487173689, 0.8437612645979058, 0.11572785424659555, 0.008416571217934222, 0.16636713448214138, 0.005736797740763496, 0.011473595481526992, 0.82036207692918, 0.18800940005320674, 0.004530346989233897, 0.006795520483850846, 0.7996062435997828, 0.014761250827783496, 0.014761250827783496, 0.8856750496670098, 0.08856750496670097, 0.1863167570979575, 0.23232089465300873, 0.42323806550647136, 0.15871427456492676, 0.0422882229742996, 0.7521262514714715, 0.105720557435749, 0.09967938272513477, 0.9888811136754477, 0.009347317981330072, 0.01682517236639413, 0.003738927192532029, 0.9702516064620615, 0.004810657837469932, 0.002405328918734966, 0.002405328918734966, 0.990995514518806, 0.9733633121379066, 0.9781352654417533, 0.9910583781194018, 0.017999892730512303, 0.5259968653471928, 0.02199986889284837, 0.43599740169463136, 0.9766817177289548, 0.17515272648063276, 0.3531534647739587, 0.26913711629950887, 0.20363284460756492, 0.006825741056451169, 0.6040780834959285, 0.09897324531854196, 0.2900939948991747, 0.095189357759412, 0.6647390150198939, 0.1618219081910004, 0.0777379755035198, 0.7939979680553607, 0.08330470484515261, 0.06768507268668648, 0.052065440528220375, 0.13057367361022562, 0.835671511105444, 0.9151226944332292, 0.04464013143576728, 0.020088059146095277, 0.020088059146095277, 0.020924891211601845, 0.06695965187712591, 0.05021973890784443, 0.8621055179179961, 0.9377905451072776, 0.002791043289009755, 0.05302982249118534, 0.008373129867029264, 0.9875561438804749, 0.016169755009251392, 0.43838002469526, 0.5371951941962407, 0.007186557781889508, 0.024982708602775024, 0.2298409191455302, 0.7294950912010306, 0.014989625161665014, 0.027352153446868803, 0.19146507412808164, 0.6916187371565398, 0.08987136132542607, 0.015556732300974594, 0.03111346460194919, 0.9334039380584757, 0.015556732300974594, 0.9700517163974144, 0.9921087213632249, 0.015270467359309278, 0.9696746773161392, 0.007635233679654639, 0.007635233679654639, 0.9091624649355623, 0.013370036249052386, 0.037436101497346684, 0.04011010874715716, 0.012407239574307513, 0.13027601553022888, 0.7816560931813733, 0.08064705723299884, 0.941705720141089, 0.004166839469650837, 0.029167876287555853, 0.02500103681790502, 0.9685020688787356, 0.009984557411120984, 0.004992278705560492, 0.01996911482224197, 0.9894597938504562, 0.35815395170490616, 0.07810804265904868, 0.009525371055981547, 0.554376595458126, 0.9865044156649091, 0.007751691275481102, 0.9689614094351378, 0.015503382550962204, 0.007751691275481102, 0.04422331846789252, 0.8933110330514289, 0.045486841852689454, 0.01768932738715701, 0.9774494462877965, 0.9662925040156449, 0.9934050370721217, 0.0048936208722764616, 0.00215337622967627, 0.9776328082730267, 0.00215337622967627, 0.01722700983741016, 0.005145814195201762, 0.29331140912650044, 0.008576356992002937, 0.6929696449538373, 0.005193329608861437, 0.38690305586017704, 0.012983324022153592, 0.5920395754102038, 0.0556580695097861, 0.4452645560782888, 0.4622039685377889, 0.03871865705028598, 0.09604539063538954, 0.050309490332823094, 0.7454951749318331, 0.10519257069590283, 0.10236417621912716, 0.40192992721333753, 0.4847244815082198, 0.012042844261073785, 0.9778126897270195, 0.014239990627092516, 0.004746663542364173, 0.004746663542364173, 0.060500060131815414, 0.9276675886878364, 0.008923004800008953, 0.07138403840007163, 0.008923004800008953, 0.9190694944009222, 0.38175248377682536, 0.04387959583641671, 0.01608918514001946, 0.5587335203170394, 0.2701302457641762, 0.004911459013894113, 0.7195287455354876, 0.004911459013894113, 0.010713919062030865, 0.9053261607416081, 0.0321417571860926, 0.05892655484116976, 0.02813512033352563, 0.02813512033352563, 0.9284589710063459, 0.22359577788278798, 0.030318071577327185, 0.03410783052449308, 0.7105798025936059, 0.057363905817672756, 0.021511464681627283, 0.9178224930827641, 0.0071704882272090945, 0.017530450290251996, 0.9729399911089857, 0.008765225145125998, 0.9754581013966276, 0.015991116416338158, 0.06272846251102314, 0.9283812451631426, 0.9711039409316922, 0.013613606648575123, 0.013613606648575123, 0.0045378688828583745, 0.985954841957387, 0.753877947950014, 0.04967894220428428, 0.15152077372306705, 0.044711047983855855, 0.9894427199065513, 0.006730902856507152, 0.006730902856507152, 0.015072288569703648, 0.09344818913216263, 0.2185481842607029, 0.6737312990657531, 0.9866350291006286, 0.009672892442163026, 0.009672892442163026, 0.9939612802667681, 0.006244803479044785, 0.9804341462100312, 0.01248960695808957, 0.006244803479044785, 0.953641028395157, 0.03814564113580628, 0.004768205141975785, 0.004768205141975785], \"Term\": [\"absolute_constant\", \"absolute_constant\", \"accelerated_gradient\", \"accelerated_gradient\", \"active_learning\", \"active_learning\", \"active_learning\", \"active_learning\", \"agent\", \"agent\", \"agent\", \"agent\", \"alex_graf\", \"alex_graf\", \"analogy\", \"analogy\", \"analogy\", \"analogy\", \"anandkumar\", \"anandkumar\", \"anandkumar\", \"arm\", \"arm\", \"arm\", \"arm\", \"asymptotic_convergence\", \"asymptotic_convergence\", \"autoencoder\", \"autonomous\", \"autonomous\", \"autonomous\", \"autonomous\", \"bandit\", \"bandit\", \"bandit\", \"bandit\", \"bandit_feedback\", \"bandit_feedback\", \"bandit_feedback\", \"bandit_feedback\", \"bayes_optimal\", \"bayes_optimal\", \"bayes_optimal\", \"bayes_optimal\", \"belief\", \"belief\", \"belief\", \"belief\", \"bellman\", \"bellman\", \"calibration\", \"calibration\", \"calibration\", \"calibration\", \"cascade\", \"cascade\", \"cascade\", \"cascade\", \"causal\", \"causal\", \"causal\", \"causal\", \"child\", \"child\", \"child\", \"child\", \"community\", \"community\", \"community\", \"community\", \"completion\", \"completion\", \"completion\", \"completion\", \"concave\", \"concave\", \"concave\", \"concave\", \"conditional_gradient\", \"conditional_gradient\", \"conditional_gradient\", \"conditional_gradient\", \"confidence\", \"confidence\", \"confidence\", \"confidence\", \"convergence_analysis\", \"convergence_analysis\", \"convergence_analysis\", \"convergence_analysis\", \"convergence_rate\", \"convergence_rate\", \"convergence_rate\", \"convergence_rate\", \"convex_relaxation\", \"convex_relaxation\", \"convex_relaxation\", \"convex_relaxation\", \"convexity\", \"convexity\", \"convexity\", \"convexity\", \"convnets\", \"convolutional\", \"convolutional\", \"convolutional\", \"convolutional\", \"convolutional_layer\", \"convolutional_layer\", \"convolutional_layer\", \"convolutional_layer\", \"convolutional_network\", \"convolutional_network\", \"convolutional_network\", \"convolutional_network\", \"convolutional_neural\", \"convolutional_neural\", \"convolutional_neural\", \"convolutional_neural\", \"coordinate_descent\", \"coordinate_descent\", \"coordinate_descent\", \"coordinate_descent\", \"covariance_matrix\", \"covariance_matrix\", \"covariance_matrix\", \"covariance_matrix\", \"cover\", \"cover\", \"cover\", \"cover\", \"current_iterate\", \"dantzig\", \"dantzig_selector\", \"data_set\", \"data_set\", \"data_set\", \"data_set\", \"decision_maker\", \"decision_maker\", \"decision_maker\", \"decision_maker\", \"decision_making\", \"decision_making\", \"decision_making\", \"decision_making\", \"decision_rule\", \"decision_rule\", \"decision_rule\", \"decision_rule\", \"decision_tree\", \"decision_tree\", \"decision_tree\", \"decision_tree\", \"deep_architecture\", \"deep_architecture\", \"deep_architecture\", \"deep_architecture\", \"deep_belief\", \"deep_boltzmann\", \"deep_convolutional\", \"deep_convolutional\", \"deep_convolutional\", \"deep_convolutional\", \"deep_generative\", \"deep_generative\", \"deep_generative\", \"deep_generative\", \"deep_learning\", \"deep_learning\", \"deep_learning\", \"deep_learning\", \"deep_network\", \"deep_network\", \"deep_network\", \"deep_network\", \"deep_neural\", \"deep_neural\", \"deep_neural\", \"deep_neural\", \"diederik_kingma\", \"dimensionality_reduction\", \"dimensionality_reduction\", \"dimensionality_reduction\", \"dimensionality_reduction\", \"discounted\", \"discounted\", \"discounted\", \"discounted\", \"document\", \"document\", \"document\", \"document\", \"dropout\", \"dropout\", \"dropout\", \"dropout\", \"dual_norm\", \"dual_norm\", \"dual_variable\", \"dual_variable\", \"dual_variable\", \"dual_variable\", \"during_training\", \"during_training\", \"during_training\", \"during_training\", \"embedding\", \"embedding\", \"embedding\", \"embedding\", \"embeddings\", \"embeddings\", \"embeddings\", \"embeddings\", \"encoder\", \"encoder\", \"encoder\", \"encoder\", \"environment\", \"environment\", \"environment\", \"environment\", \"equality_constraint\", \"equality_constraint\", \"equality_constraint\", \"equality_constraint\", \"estimation_error\", \"estimation_error\", \"estimation_error\", \"estimation_error\", \"event\", \"event\", \"event\", \"event\", \"expected_cost\", \"expected_reward\", \"expected_reward\", \"expected_reward\", \"expected_reward\", \"false_positive\", \"false_positive\", \"false_positive\", \"false_positive\", \"feedback\", \"feedback\", \"feedback\", \"feedback\", \"filter\", \"filter\", \"filter\", \"filter\", \"foundation_computational\", \"foundation_computational\", \"frame\", \"frame\", \"frame\", \"frame\", \"full_gradient\", \"fully_connected\", \"fully_connected\", \"fully_connected\", \"fully_connected\", \"game\", \"game\", \"game\", \"game\", \"gaussian_process\", \"gaussian_process\", \"gaussian_process\", \"gaussian_process\", \"generative_model\", \"generative_model\", \"generative_model\", \"generative_model\", \"golovin\", \"golovin\", \"goodfellow\", \"gradient_descent\", \"gradient_descent\", \"gradient_descent\", \"gradient_descent\", \"graphical_model\", \"graphical_model\", \"graphical_model\", \"graphical_model\", \"greedy\", \"greedy\", \"greedy\", \"greedy\", \"greedy_algorithm\", \"greedy_algorithm\", \"greedy_algorithm\", \"greedy_algorithm\", \"ground_truth\", \"ground_truth\", \"ground_truth\", \"ground_truth\", \"hash\", \"hash\", \"hash\", \"hash\", \"hidden_layer\", \"hidden_layer\", \"hidden_layer\", \"hidden_layer\", \"hidden_state\", \"hidden_state\", \"hidden_state\", \"hidden_state\", \"hidden_unit\", \"hidden_unit\", \"hidden_unit\", \"hidden_unit\", \"horizon\", \"horizon\", \"horizon\", \"horizon\", \"image_caption\", \"incentive\", \"incentive\", \"incoherence\", \"incomplete_data\", \"incomplete_data\", \"incomplete_data\", \"incomplete_data\", \"influence_through\", \"input_sequence\", \"item\", \"item\", \"item\", \"item\", \"iteration_complexity\", \"iteration_complexity\", \"jaggi\", \"kempe_kleinberg\", \"label_space\", \"label_space\", \"lasso\", \"lasso\", \"lasso\", \"lasso\", \"latent_state\", \"latent_state\", \"latent_state\", \"latent_state\", \"least_square\", \"least_square\", \"least_square\", \"least_square\", \"lifted\", \"lifted\", \"lifted\", \"lifted\", \"line_search\", \"line_search\", \"line_search\", \"line_search\", \"linear_convergence\", \"linear_convergence\", \"linear_convergence\", \"linear_convergence\", \"linear_measurement\", \"linear_measurement\", \"linear_regression\", \"linear_regression\", \"linear_regression\", \"linear_regression\", \"lipschitz\", \"lipschitz\", \"lipschitz\", \"lipschitz\", \"locality\", \"locality\", \"locality\", \"logic\", \"logic\", \"logic\", \"logic\", \"logistic_regression\", \"logistic_regression\", \"logistic_regression\", \"logistic_regression\", \"lstm\", \"lstm\", \"lstm\", \"lstm\", \"lstm_lstm\", \"lstms\", \"machine_translation\", \"machine_translation\", \"machine_translation\", \"machine_translation\", \"maker\", \"maker\", \"maker\", \"manifold\", \"manifold\", \"manifold\", \"manifold\", \"margin\", \"margin\", \"margin\", \"margin\", \"market\", \"market\", \"market\", \"market\", \"markov_chain\", \"markov_chain\", \"markov_chain\", \"markov_chain\", \"markov_decision\", \"markov_decision\", \"markov_decision\", \"markov_decision\", \"markov_network\", \"markov_network\", \"markov_network\", \"markov_network\", \"matrix_completion\", \"matrix_completion\", \"matrix_completion\", \"matrix_completion\", \"maximizing_spread\", \"maximizing_spread\", \"maximizing_submodular\", \"maximizing_submodular\", \"maximizing_submodular\", \"mcmc\", \"mcmc\", \"mcmc\", \"mcmc\", \"mdps\", \"mean_field\", \"mean_field\", \"mean_field\", \"mean_field\", \"mechanism\", \"mechanism\", \"mechanism\", \"mechanism\", \"message\", \"message\", \"message\", \"message\", \"mnist_digit\", \"moment\", \"moment\", \"moment\", \"moment\", \"multi_armed\", \"multi_armed\", \"multi_armed\", \"multi_armed\", \"multi_label\", \"multi_label\", \"multi_label\", \"multi_label\", \"multiclass\", \"multiclass\", \"multiclass\", \"multiclass\", \"multiclass_classification\", \"multiclass_classification\", \"multiclass_classification\", \"multiclass_classification\", \"multilabel\", \"multilabel\", \"nearest_neighbor\", \"nearest_neighbor\", \"nearest_neighbor\", \"nearest_neighbor\", \"neuron\", \"neuron\", \"neuron\", \"neuron\", \"nonconvex\", \"nonconvex\", \"nonconvex\", \"nonconvex\", \"nuclear_norm\", \"nuclear_norm\", \"nuclear_norm\", \"nuclear_norm\", \"number_iteration\", \"number_iteration\", \"number_iteration\", \"number_iteration\", \"number_topic\", \"number_topic\", \"number_topic\", \"online_learning\", \"online_learning\", \"online_learning\", \"online_learning\", \"optimal_control\", \"optimal_control\", \"optimal_control\", \"optimal_control\", \"optimal_policy\", \"optimal_policy\", \"optimal_policy\", \"optimal_policy\", \"optimal_solution\", \"optimal_solution\", \"optimal_solution\", \"optimal_solution\", \"oracle\", \"oracle\", \"oracle\", \"oracle\", \"orthogonal_matrix\", \"orthogonal_matrix\", \"orthogonal_matrix\", \"orthogonal_matrix\", \"parent\", \"parent\", \"parent\", \"parent\", \"parsing\", \"parsing\", \"participant\", \"participant\", \"participant\", \"participant\", \"patch\", \"patch\", \"patch\", \"patch\", \"pixel\", \"pixel\", \"pixel\", \"pixel\", \"placement\", \"placement\", \"planning\", \"planning\", \"planning\", \"planning\", \"policy\", \"policy\", \"policy\", \"policy\", \"pooling_layer\", \"posterior_distribution\", \"posterior_distribution\", \"posterior_distribution\", \"posterior_distribution\", \"predicate\", \"predicate\", \"predicate\", \"predicate\", \"price\", \"price\", \"price\", \"price\", \"primal\", \"primal\", \"primal\", \"primal\", \"primal_dual\", \"primal_dual\", \"principal\", \"principal\", \"principal\", \"principal\", \"principal_component\", \"principal_component\", \"principal_component\", \"principal_component\", \"private\", \"private\", \"private\", \"private\", \"probability_least\", \"probability_least\", \"probability_least\", \"probability_least\", \"probability_measure\", \"probability_measure\", \"probability_measure\", \"probability_measure\", \"proposal\", \"proposal\", \"proposal\", \"proposal\", \"protein\", \"protein\", \"protein\", \"protein\", \"proximal\", \"proximal\", \"proximal\", \"proximal\", \"query\", \"query\", \"query\", \"query\", \"random_feature\", \"random_feature\", \"random_feature\", \"random_feature\", \"random_projection\", \"random_projection\", \"random_projection\", \"random_projection\", \"random_walk\", \"random_walk\", \"random_walk\", \"random_walk\", \"rank_approximation\", \"rank_approximation\", \"rank_approximation\", \"rank_approximation\", \"rank_matrix\", \"rank_matrix\", \"rank_matrix\", \"rank_matrix\", \"rate_convergence\", \"rate_convergence\", \"rate_convergence\", \"rate_convergence\", \"receptive_field\", \"recovery\", \"recovery\", \"recovery\", \"recovery\", \"recurrent\", \"recurrent\", \"recurrent\", \"recurrent\", \"recurrent_connection\", \"recurrent_network\", \"recurrent_network\", \"recurrent_network\", \"recurrent_neural\", \"recurrent_neural\", \"recurrent_neural\", \"recurrent_neural\", \"regret\", \"regret\", \"regret\", \"regret\", \"regret_bound\", \"regret_bound\", \"regret_bound\", \"regret_bound\", \"regularization_parameter\", \"regularization_parameter\", \"regularization_parameter\", \"regularization_parameter\", \"reinforcement\", \"reinforcement\", \"reinforcement\", \"reinforcement\", \"reinforcement_learning\", \"reinforcement_learning\", \"reinforcement_learning\", \"reinforcement_learning\", \"relational\", \"relational\", \"relational\", \"relational\", \"relationship_between\", \"relationship_between\", \"relationship_between\", \"relationship_between\", \"relative_error\", \"relative_error\", \"relative_error\", \"relative_error\", \"restricted_strong\", \"reward\", \"reward\", \"reward\", \"reward\", \"reward_function\", \"reward_function\", \"reward_function\", \"reward_function\", \"richta\", \"richta_taka\", \"rnns\", \"round\", \"round\", \"round\", \"round\", \"royal_statistical\", \"running_time\", \"running_time\", \"running_time\", \"running_time\", \"sample_complexity\", \"sample_complexity\", \"sample_complexity\", \"sample_complexity\", \"sample_size\", \"sample_size\", \"sample_size\", \"sample_size\", \"sampler\", \"sampler\", \"sampler\", \"sampler\", \"schematic\", \"schematic\", \"segmentation\", \"segmentation\", \"segmentation\", \"segmentation\", \"sensor\", \"sensor\", \"sensor\", \"sensor\", \"sentence\", \"sentence\", \"sentence\", \"sentence\", \"sigmoid_belief\", \"singular_value\", \"singular_value\", \"singular_value\", \"singular_value\", \"singular_vector\", \"singular_vector\", \"singular_vector\", \"singular_vector\", \"sketch\", \"sketch\", \"sketch\", \"sketch\", \"sketching\", \"sketching\", \"sketching\", \"sketching\", \"society_series\", \"softmax_layer\", \"sparse_regression\", \"sparse_regression\", \"sparse_regression\", \"sparse_regression\", \"spatial\", \"spatial\", \"spatial\", \"spatial\", \"spectral_clustering\", \"spectral_clustering\", \"spectral_clustering\", \"spectral_clustering\", \"speech_recognition\", \"speech_recognition\", \"speech_recognition\", \"speech_recognition\", \"stack\", \"stack\", \"stack\", \"stack\", \"state_action\", \"state_space\", \"state_space\", \"state_space\", \"state_space\", \"statistical_guarantee\", \"stein\", \"stein\", \"stein\", \"stein\", \"step_size\", \"step_size\", \"step_size\", \"step_size\", \"stochastic_dual\", \"stochastic_dual_coordinate_ascent\", \"strong_convexity\", \"strong_convexity\", \"strongly_convex\", \"strongly_convex\", \"strongly_convex\", \"strongly_convex\", \"submodular\", \"submodular\", \"submodular\", \"submodular\", \"submodular_function\", \"submodular_function\", \"submodular_function\", \"submodular_function\", \"support_vector\", \"support_vector\", \"support_vector\", \"support_vector\", \"symmetry\", \"symmetry\", \"symmetry\", \"symmetry\", \"tensor\", \"tensor\", \"tensor\", \"tensor\", \"texture\", \"texture\", \"texture\", \"texture\", \"thompson\", \"thompson\", \"time_horizon\", \"time_horizon\", \"time_horizon\", \"time_horizon\", \"time_step\", \"time_step\", \"time_step\", \"time_step\", \"topic_model\", \"topic_model\", \"topic_model\", \"topic_model\", \"total_variation\", \"total_variation\", \"total_variation\", \"total_variation\", \"training_instance\", \"training_instance\", \"training_instance\", \"trajectory\", \"trajectory\", \"trajectory\", \"trajectory\", \"true_label\", \"true_label\", \"true_label\", \"true_label\", \"tuning_parameter\", \"tuning_parameter\", \"tuning_parameter\", \"universal_constant\", \"universal_constant\", \"upper_confidence\", \"upper_confidence\", \"variational_bayes\", \"variational_bayes\", \"variational_bayes\", \"variational_bayes\", \"variational_distribution\", \"variational_inference\", \"variational_inference\", \"variational_inference\", \"variational_inference\", \"variational_lower\", \"variational_lower\", \"variational_lower\", \"vertex\", \"vertex\", \"vertex\", \"vertex\", \"very_deep\", \"very_deep\", \"very_deep\", \"warde_farley\", \"wolfe\", \"wolfe\", \"wolfe\", \"wolfe\", \"yoshua_bengio\", \"yoshua_bengio\", \"yoshua_bengio\", \"yoshua_bengio\"]}, \"R\": 30, \"lambda.step\": 0.01, \"plot.opts\": {\"xlab\": \"PC1\", \"ylab\": \"PC2\"}, \"topic.order\": [3, 4, 1, 2]};\n",
       "\n",
       "function LDAvis_load_lib(url, callback){\n",
       "  var s = document.createElement('script');\n",
       "  s.src = url;\n",
       "  s.async = true;\n",
       "  s.onreadystatechange = s.onload = callback;\n",
       "  s.onerror = function(){console.warn(\"failed to load library \" + url);};\n",
       "  document.getElementsByTagName(\"head\")[0].appendChild(s);\n",
       "}\n",
       "\n",
       "if(typeof(LDAvis) !== \"undefined\"){\n",
       "   // already loaded: just create the visualization\n",
       "   !function(LDAvis){\n",
       "       new LDAvis(\"#\" + \"ldavis_el131399277033050966628785108\", ldavis_el131399277033050966628785108_data);\n",
       "   }(LDAvis);\n",
       "}else if(typeof define === \"function\" && define.amd){\n",
       "   // require.js is available: use it to load d3/LDAvis\n",
       "   require.config({paths: {d3: \"https://cdnjs.cloudflare.com/ajax/libs/d3/3.5.5/d3.min\"}});\n",
       "   require([\"d3\"], function(d3){\n",
       "      window.d3 = d3;\n",
       "      LDAvis_load_lib(\"https://cdn.rawgit.com/bmabey/pyLDAvis/files/ldavis.v1.0.0.js\", function(){\n",
       "        new LDAvis(\"#\" + \"ldavis_el131399277033050966628785108\", ldavis_el131399277033050966628785108_data);\n",
       "      });\n",
       "    });\n",
       "}else{\n",
       "    // require.js not available: dynamically load d3 & LDAvis\n",
       "    LDAvis_load_lib(\"https://cdnjs.cloudflare.com/ajax/libs/d3/3.5.5/d3.min.js\", function(){\n",
       "         LDAvis_load_lib(\"https://cdn.rawgit.com/bmabey/pyLDAvis/files/ldavis.v1.0.0.js\", function(){\n",
       "                 new LDAvis(\"#\" + \"ldavis_el131399277033050966628785108\", ldavis_el131399277033050966628785108_data);\n",
       "            })\n",
       "         });\n",
       "}\n",
       "</script>"
      ],
      "text/plain": [
       "PreparedData(topic_coordinates=            Freq  cluster  topics         x         y\n",
       "topic                                                \n",
       "2      30.480169        1       1  0.161338 -0.011386\n",
       "3      27.939551        1       2 -0.128325 -0.044690\n",
       "0      21.163156        1       3 -0.000128 -0.062697\n",
       "1      20.417123        1       4 -0.032885  0.118774, topic_info=     Category         Freq                    Term        Total  loglift  \\\n",
       "term                                                                       \n",
       "3262  Default   671.000000                  policy   671.000000  30.0000   \n",
       "406   Default  1170.000000                  regret  1170.000000  29.0000   \n",
       "3155  Default   698.000000       matrix_completion   698.000000  28.0000   \n",
       "3116  Default   899.000000        convergence_rate   899.000000  27.0000   \n",
       "124   Default   534.000000                  reward   534.000000  26.0000   \n",
       "3246  Default   683.000000                  bandit   683.000000  25.0000   \n",
       "108   Default   473.000000                   agent   473.000000  24.0000   \n",
       "2144  Default   677.000000           convolutional   677.000000  23.0000   \n",
       "5028  Default   415.000000         reward_function   415.000000  22.0000   \n",
       "1888  Default   791.000000               step_size   791.000000  21.0000   \n",
       "2143  Default   579.000000               recurrent   579.000000  20.0000   \n",
       "2331  Default   544.000000        recurrent_neural   544.000000  19.0000   \n",
       "3104  Default   672.000000             rank_matrix   672.000000  18.0000   \n",
       "3268  Default   662.000000         active_learning   662.000000  17.0000   \n",
       "3976  Default   501.000000            hidden_layer   501.000000  16.0000   \n",
       "2256  Default   482.000000                    lstm   482.000000  15.0000   \n",
       "1424  Default   550.000000             hidden_unit   550.000000  14.0000   \n",
       "3122  Default   464.000000         strongly_convex   464.000000  13.0000   \n",
       "3184  Default   582.000000              submodular   582.000000  12.0000   \n",
       "2420  Default   597.000000                    item   597.000000  11.0000   \n",
       "3293  Default   922.000000        gaussian_process   922.000000  10.0000   \n",
       "585   Default   616.000000               embedding   616.000000   9.0000   \n",
       "1951  Default   663.000000                  vertex   663.000000   8.0000   \n",
       "2349  Default   597.000000         fully_connected   597.000000   7.0000   \n",
       "4933  Default   441.000000  reinforcement_learning   441.000000   6.0000   \n",
       "1125  Default   766.000000                data_set   766.000000   5.0000   \n",
       "4663  Default   527.000000              trajectory   527.000000   4.0000   \n",
       "3632  Default   683.000000               time_step   683.000000   3.0000   \n",
       "1855  Default   332.000000             multi_label   332.000000   2.0000   \n",
       "2321  Default   430.000000    convolutional_neural   430.000000   1.0000   \n",
       "...       ...          ...                     ...          ...      ...   \n",
       "3246   Topic4   555.607024                  bandit   683.454118   1.3817   \n",
       "1495   Topic4   215.058775                   price   261.591526   1.3929   \n",
       "4933   Topic4   353.084789  reinforcement_learning   441.467288   1.3654   \n",
       "4180   Topic4   145.559858                     arm   174.530139   1.4073   \n",
       "5889   Topic4    92.252565             participant   107.470224   1.4361   \n",
       "5740   Topic4    99.797211         bandit_feedback   117.223055   1.4279   \n",
       "2420   Topic4   438.842026                    item   597.577569   1.2801   \n",
       "3268   Topic4   479.949459         active_learning   662.648333   1.2662   \n",
       "4909   Topic4   142.861245           reinforcement   174.313275   1.3898   \n",
       "3295   Topic4   234.738582             multi_armed   303.289970   1.3326   \n",
       "4663   Topic4   375.294870              trajectory   527.738051   1.2479   \n",
       "3184   Topic4   404.160209              submodular   582.998120   1.2224   \n",
       "1951   Topic4   446.680607                  vertex   663.469250   1.1932   \n",
       "837    Topic4   273.942133                   cover   393.104226   1.2276   \n",
       "1275   Topic4   211.192176                feedback   284.548974   1.2907   \n",
       "3282   Topic4   206.096054         decision_making   276.967306   1.2932   \n",
       "406    Topic4   620.153991                  regret  1170.472840   0.9536   \n",
       "1008   Topic4   358.656338                  greedy   571.885506   1.1222   \n",
       "89     Topic4   256.322029              confidence   373.036188   1.2136   \n",
       "2574   Topic4   272.082526        greedy_algorithm   412.064329   1.1737   \n",
       "113    Topic4   261.516871                   event   397.723704   1.1695   \n",
       "3632   Topic4   382.016706               time_step   683.689068   1.0068   \n",
       "636    Topic4   281.953958            regret_bound   479.486676   1.0578   \n",
       "3610   Topic4   290.758334             state_space   524.913935   0.9981   \n",
       "4      Topic4   255.856474               mechanism   469.370656   0.9820   \n",
       "3293   Topic4   340.187747        gaussian_process   922.831866   0.5908   \n",
       "90     Topic4   235.634555                  belief   420.170220   1.0104   \n",
       "3266   Topic4   228.338510     submodular_function   385.109390   1.0661   \n",
       "3134   Topic4   254.572276       sample_complexity   879.025435   0.3496   \n",
       "2006   Topic4   217.642446                   round   500.002980   0.7570   \n",
       "\n",
       "      logprob  \n",
       "term           \n",
       "3262  30.0000  \n",
       "406   29.0000  \n",
       "3155  28.0000  \n",
       "3116  27.0000  \n",
       "124   26.0000  \n",
       "3246  25.0000  \n",
       "108   24.0000  \n",
       "2144  23.0000  \n",
       "5028  22.0000  \n",
       "1888  21.0000  \n",
       "2143  20.0000  \n",
       "2331  19.0000  \n",
       "3104  18.0000  \n",
       "3268  17.0000  \n",
       "3976  16.0000  \n",
       "2256  15.0000  \n",
       "1424  14.0000  \n",
       "3122  13.0000  \n",
       "3184  12.0000  \n",
       "2420  11.0000  \n",
       "3293  10.0000  \n",
       "585    9.0000  \n",
       "1951   8.0000  \n",
       "2349   7.0000  \n",
       "4933   6.0000  \n",
       "1125   5.0000  \n",
       "4663   4.0000  \n",
       "3632   3.0000  \n",
       "1855   2.0000  \n",
       "2321   1.0000  \n",
       "...       ...  \n",
       "3246  -5.0874  \n",
       "1495  -6.0365  \n",
       "4933  -5.5407  \n",
       "4180  -6.4268  \n",
       "5889  -6.8829  \n",
       "5740  -6.8043  \n",
       "2420  -5.3233  \n",
       "3268  -5.2337  \n",
       "4909  -6.4456  \n",
       "3295  -5.9490  \n",
       "4663  -5.4797  \n",
       "3184  -5.4056  \n",
       "1951  -5.3056  \n",
       "837   -5.7945  \n",
       "1275  -6.0547  \n",
       "3282  -6.0791  \n",
       "406   -4.9775  \n",
       "1008  -5.5251  \n",
       "89    -5.8610  \n",
       "2574  -5.8013  \n",
       "113   -5.8409  \n",
       "3632  -5.4620  \n",
       "636   -5.7657  \n",
       "3610  -5.7349  \n",
       "4     -5.8628  \n",
       "3293  -5.5779  \n",
       "90    -5.9451  \n",
       "3266  -5.9766  \n",
       "3134  -5.8678  \n",
       "2006  -6.0246  \n",
       "\n",
       "[294 rows x 6 columns], token_table=      Topic      Freq                      Term\n",
       "term                                           \n",
       "1627      2  0.983193         absolute_constant\n",
       "1627      3  0.014897         absolute_constant\n",
       "4765      1  0.016189      accelerated_gradient\n",
       "4765      2  0.971360      accelerated_gradient\n",
       "3268      1  0.010564           active_learning\n",
       "3268      2  0.220328           active_learning\n",
       "3268      3  0.045273           active_learning\n",
       "3268      4  0.724366           active_learning\n",
       "108       1  0.010561                     agent\n",
       "108       2  0.014785                     agent\n",
       "108       3  0.004224                     agent\n",
       "108       4  0.971597                     agent\n",
       "5883      1  0.987485                 alex_graf\n",
       "5883      2  0.012191                 alex_graf\n",
       "2834      1  0.037044                   analogy\n",
       "2834      2  0.008232                   analogy\n",
       "2834      3  0.954902                   analogy\n",
       "2834      4  0.004116                   analogy\n",
       "5384      1  0.035788                anandkumar\n",
       "5384      2  0.035788                anandkumar\n",
       "5384      3  0.930500                anandkumar\n",
       "4180      1  0.022919                       arm\n",
       "4180      2  0.137512                       arm\n",
       "4180      3  0.005730                       arm\n",
       "4180      4  0.836532                       arm\n",
       "5578      2  0.967879    asymptotic_convergence\n",
       "5578      3  0.019753    asymptotic_convergence\n",
       "5923      1  0.989581               autoencoder\n",
       "5265      1  0.032729                autonomous\n",
       "5265      2  0.032729                autonomous\n",
       "...     ...       ...                       ...\n",
       "4225      2  0.062728          upper_confidence\n",
       "4225      4  0.928381          upper_confidence\n",
       "3981      1  0.971104         variational_bayes\n",
       "3981      2  0.013614         variational_bayes\n",
       "3981      3  0.013614         variational_bayes\n",
       "3981      4  0.004538         variational_bayes\n",
       "4693      1  0.985955  variational_distribution\n",
       "332       1  0.753878     variational_inference\n",
       "332       2  0.049679     variational_inference\n",
       "332       3  0.151521     variational_inference\n",
       "332       4  0.044711     variational_inference\n",
       "3630      1  0.989443         variational_lower\n",
       "3630      3  0.006731         variational_lower\n",
       "3630      4  0.006731         variational_lower\n",
       "1951      1  0.015072                    vertex\n",
       "1951      2  0.093448                    vertex\n",
       "1951      3  0.218548                    vertex\n",
       "1951      4  0.673731                    vertex\n",
       "2383      1  0.986635                 very_deep\n",
       "2383      3  0.009673                 very_deep\n",
       "2383      4  0.009673                 very_deep\n",
       "5329      1  0.993961              warde_farley\n",
       "3880      1  0.006245                     wolfe\n",
       "3880      2  0.980434                     wolfe\n",
       "3880      3  0.012490                     wolfe\n",
       "3880      4  0.006245                     wolfe\n",
       "3403      1  0.953641             yoshua_bengio\n",
       "3403      2  0.038146             yoshua_bengio\n",
       "3403      3  0.004768             yoshua_bengio\n",
       "3403      4  0.004768             yoshua_bengio\n",
       "\n",
       "[868 rows x 3 columns], R=30, lambda_step=0.01, plot_opts={'xlab': 'PC1', 'ylab': 'PC2'}, topic_order=[3, 4, 1, 2])"
      ]
     },
     "execution_count": 12,
     "metadata": {},
     "output_type": "execute_result"
    }
   ],
   "source": [
    "pyLDAvis.gensim.prepare(model, corpus, dictionary)"
   ]
  },
  {
   "cell_type": "markdown",
   "metadata": {
    "_cell_guid": "aa6b35ff-22bf-44a7-ba48-2c7a368407fe",
    "_uuid": "864ddc392f72ba631bf372d038385d72301816ec"
   },
   "source": [
    "** What do we see here? **\n",
    "\n",
    "**The left panel**, labeld Intertopic Distance Map, circles represent different topics and the distance between them. Similar topics appear closer and the dissimilar topics farther.\n",
    "The relative size of a topic's circle in the plot corresponds to the relative frequency of the topic in the corpus.\n",
    "An individual topic may be selected for closer scrutiny by clicking on its circle, or entering its number in the \"selected topic\" box in the upper-left.\n",
    " \n",
    "**The right panel**, include the bar chart of the top 30 terms. When no topic is selected in the plot on the left, the bar chart shows the top-30 most \"salient\" terms in the corpus. A term's saliency is a measure of both how frequent the term is in the corpus and how \"distinctive\" it is in distinguishing between different topics.\n",
    "Selecting each topic on the right, modifies the bar chart to show the \"relevant\" terms for the selected topic. \n",
    "Relevence is defined as in footer 2 and can be tuned by parameter $\\lambda$, smaller $\\lambda$ gives higher weight to the term's distinctiveness while larger $\\lambda$s corresponds to probablity of the term occurance per topics. \n",
    "\n",
    "Therefore, to get a better sense of terms per topic we'll use  $\\lambda$=0."
   ]
  },
  {
   "cell_type": "markdown",
   "metadata": {
    "_cell_guid": "66d42d65-8258-40bf-9fb0-d304f4ed54ea",
    "_uuid": "132463131ee73972307d5a3560da8db816f519e2"
   },
   "source": [
    "**How to evaluate our model?**  \n",
    "So again since there is no ground through here, we have to be creative in defining ways to evaluate. I do this in two steps:\n",
    "\n",
    "1. divide each document in two parts and see if the topics assign to them are simialr. => the more similar the better\n",
    "2. compare randomly chosen docs with each other. => the less similar the better"
   ]
  },
  {
   "cell_type": "code",
   "execution_count": 13,
   "metadata": {
    "_cell_guid": "b522a831-eb7e-4d54-a839-7d21d2194a96",
    "_uuid": "71d492523a3cbcfd89141a9d13b66ac5a1f1f2e0",
    "collapsed": true
   },
   "outputs": [],
   "source": [
    "from sklearn.metrics.pairwise import cosine_similarity\n",
    "\n",
    "p_df['tokenz'] = docs\n",
    "\n",
    "docs1 = p_df['tokenz'].apply(lambda l: l[:int0(len(l)/2)])\n",
    "docs2 = p_df['tokenz'].apply(lambda l: l[int0(len(l)/2):])"
   ]
  },
  {
   "cell_type": "markdown",
   "metadata": {
    "_cell_guid": "b757e081-e199-4f92-8f86-22bd82050dc6",
    "_uuid": "60006b777f680005368652ec6a395d873b80b246"
   },
   "source": [
    "Transform the data "
   ]
  },
  {
   "cell_type": "code",
   "execution_count": 14,
   "metadata": {
    "_cell_guid": "c88c3646-2a4c-4e77-a6bf-e92ecdcbf627",
    "_uuid": "1e989bc95613b95e5d9c40c0f91f31b93b6c5aab",
    "collapsed": true
   },
   "outputs": [],
   "source": [
    "corpus1 = [dictionary.doc2bow(doc) for doc in docs1]\n",
    "corpus2 = [dictionary.doc2bow(doc) for doc in docs2]\n",
    "\n",
    "# Using the corpus LDA model tranformation\n",
    "lda_corpus1 = model[corpus1]\n",
    "lda_corpus2 = model[corpus2]"
   ]
  },
  {
   "cell_type": "code",
   "execution_count": 15,
   "metadata": {
    "_cell_guid": "d94655b5-1fb1-49ab-af80-90140319a040",
    "_uuid": "eea1742d65603d9463bc8689a501ac3fda4049c8",
    "collapsed": true
   },
   "outputs": [],
   "source": [
    "from collections import OrderedDict\n",
    "def get_doc_topic_dist(model, corpus, kwords=False):\n",
    "    \n",
    "    '''\n",
    "    LDA transformation, for each doc only returns topics with non-zero weight\n",
    "    This function makes a matrix transformation of docs in the topic space.\n",
    "    '''\n",
    "    top_dist =[]\n",
    "    keys = []\n",
    "\n",
    "    for d in corpus:\n",
    "        tmp = {i:0 for i in range(num_topics)}\n",
    "        tmp.update(dict(model[d]))\n",
    "        vals = list(OrderedDict(tmp).values())\n",
    "        top_dist += [array(vals)]\n",
    "        if kwords:\n",
    "            keys += [array(vals).argmax()]\n",
    "\n",
    "    return array(top_dist), keys"
   ]
  },
  {
   "cell_type": "code",
   "execution_count": 16,
   "metadata": {
    "_cell_guid": "48443091-a545-47b3-87c5-69e27985d05c",
    "_uuid": "36f95ae8a010e1dfd3f441be37b179973c742b1a",
    "collapsed": true
   },
   "outputs": [
    {
     "name": "stdout",
     "output_type": "stream",
     "text": [
      "Intra similarity: cosine similarity for corresponding parts of a doc(higher is better):\n",
      "0.906086532099\n",
      "Inter similarity: cosine similarity between random parts (lower is better):\n",
      "0.846485334252\n"
     ]
    }
   ],
   "source": [
    "top_dist1, _ = get_doc_topic_dist(model, lda_corpus1)\n",
    "top_dist2, _ = get_doc_topic_dist(model, lda_corpus2)\n",
    "\n",
    "print(\"Intra similarity: cosine similarity for corresponding parts of a doc(higher is better):\")\n",
    "print(mean([cosine_similarity(c1.reshape(1, -1), c2.reshape(1, -1))[0][0] for c1,c2 in zip(top_dist1, top_dist2)]))\n",
    "\n",
    "random_pairs = np.random.randint(0, len(p_df['PaperText']), size=(400, 2))\n",
    "\n",
    "print(\"Inter similarity: cosine similarity between random parts (lower is better):\")\n",
    "print(np.mean([cosine_similarity(top_dist1[i[0]].reshape(1, -1), top_dist2[i[1]].reshape(1, -1)) for i in random_pairs]))"
   ]
  },
  {
   "cell_type": "markdown",
   "metadata": {
    "_cell_guid": "91108906-bd63-4c7b-8b9d-fea0dc5776ce",
    "_uuid": "d69f784d5b4a966efb9c7169938b312e53f25d6c"
   },
   "source": [
    "## Let's look at the terms that appear more in each topic. "
   ]
  },
  {
   "cell_type": "code",
   "execution_count": 17,
   "metadata": {
    "_cell_guid": "521793ab-fd0d-4b31-a19c-238482821dfd",
    "_uuid": "5d5c2efcf69d5a7a8b4c15d747c3fac732fa1fd7",
    "collapsed": true
   },
   "outputs": [],
   "source": [
    "def explore_topic(lda_model, topic_number, topn, output=True):\n",
    "    \"\"\"\n",
    "    accept a ldamodel, atopic number and topn vocabs of interest\n",
    "    prints a formatted list of the topn terms\n",
    "    \"\"\"\n",
    "    terms = []\n",
    "    for term, frequency in lda_model.show_topic(topic_number, topn=topn):\n",
    "        terms += [term]\n",
    "        if output:\n",
    "            print(u'{:20} {:.3f}'.format(term, round(frequency, 3)))\n",
    "    \n",
    "    return terms"
   ]
  },
  {
   "cell_type": "code",
   "execution_count": 18,
   "metadata": {
    "_cell_guid": "8b32274f-ca80-4bd7-88d1-41d207bd2bdd",
    "_uuid": "e61600b519fa785ac652a70782a23b229b28be51",
    "collapsed": true
   },
   "outputs": [
    {
     "name": "stdout",
     "output_type": "stream",
     "text": [
      "term                 frequency\n",
      "\n",
      "Topic 0 |---------------------\n",
      "\n",
      "data_set             0.006\n",
      "embedding            0.004\n",
      "query                0.004\n",
      "document             0.003\n",
      "tensor               0.003\n",
      "multi_label          0.003\n",
      "graphical_model      0.003\n",
      "singular_value       0.003\n",
      "topic_model          0.003\n",
      "margin               0.003\n",
      "Topic 1 |---------------------\n",
      "\n",
      "policy               0.007\n",
      "regret               0.007\n",
      "bandit               0.006\n",
      "reward               0.006\n",
      "active_learning      0.005\n",
      "agent                0.005\n",
      "vertex               0.005\n",
      "item                 0.005\n",
      "reward_function      0.005\n",
      "submodular           0.004\n",
      "Topic 2 |---------------------\n",
      "\n",
      "convolutional        0.005\n",
      "generative_model     0.005\n",
      "variational_inference 0.005\n",
      "recurrent            0.004\n",
      "gaussian_process     0.004\n",
      "fully_connected      0.004\n",
      "recurrent_neural     0.004\n",
      "hidden_unit          0.004\n",
      "deep_learning        0.004\n",
      "hidden_layer         0.004\n",
      "Topic 3 |---------------------\n",
      "\n",
      "convergence_rate     0.007\n",
      "step_size            0.006\n",
      "matrix_completion    0.006\n",
      "rank_matrix          0.005\n",
      "gradient_descent     0.005\n",
      "regret               0.004\n",
      "sample_complexity    0.004\n",
      "strongly_convex      0.004\n",
      "line_search          0.003\n",
      "sample_size          0.003\n"
     ]
    }
   ],
   "source": [
    "topic_summaries = []\n",
    "print(u'{:20} {}'.format(u'term', u'frequency') + u'\\n')\n",
    "for i in range(num_topics):\n",
    "    print('Topic '+str(i)+' |---------------------\\n')\n",
    "    tmp = explore_topic(model,topic_number=i, topn=10, output=True )\n",
    "#     print tmp[:5]\n",
    "    topic_summaries += [tmp[:5]]\n",
    "    print"
   ]
  },
  {
   "cell_type": "markdown",
   "metadata": {
    "_cell_guid": "2bc62349-d01d-4fe7-8daf-7996155e8c70",
    "_uuid": "33ecddaa5755866ad6e9f8f7c5072859d09c27b4"
   },
   "source": [
    "From above, it's possible to inspect each topic and assign a human-interpretable label to it. Here I labeled them as follows:"
   ]
  },
  {
   "cell_type": "code",
   "execution_count": 19,
   "metadata": {
    "_cell_guid": "76ffa777-cce7-46c8-b0fc-3762f514793d",
    "_uuid": "a52935b629c3b73bfb9c76536bbc00826fbb8dbe",
    "collapsed": true
   },
   "outputs": [],
   "source": [
    "top_labels = {0: 'Statistics', 1:'Numerical Analysis', 2:'Online Learning', 3:'Deep Learning'}"
   ]
  },
  {
   "cell_type": "code",
   "execution_count": 20,
   "metadata": {
    "_cell_guid": "b8b9599c-c6d8-4d7a-a85e-3ec0aae9e951",
    "_uuid": "8a88e101807551ee914967e17d542204378db86a",
    "collapsed": true
   },
   "outputs": [],
   "source": [
    "import re\n",
    "import nltk\n",
    "\n",
    "from nltk.corpus import stopwords\n",
    "\n",
    "stops = set(stopwords.words('english'))\n",
    "\n",
    "def paper_to_wordlist( paper, remove_stopwords=True ):\n",
    "    '''\n",
    "        Function converts text to a sequence of words,\n",
    "        Returns a list of words.\n",
    "    '''\n",
    "    lemmatizer = WordNetLemmatizer()\n",
    "    # 1. Remove non-letters\n",
    "    paper_text = re.sub(\"[^a-zA-Z]\",\" \", paper)\n",
    "    # 2. Convert words to lower case and split them\n",
    "    words = paper_text.lower().split()\n",
    "    # 3. Remove stop words\n",
    "    words = [w for w in words if not w in stops]\n",
    "    # 4. Remove short words\n",
    "    words = [t for t in words if len(t) > 2]\n",
    "    # 5. lemmatizing\n",
    "    words = [nltk.stem.WordNetLemmatizer().lemmatize(t) for t in words]\n",
    "\n",
    "    return(words)"
   ]
  },
  {
   "cell_type": "code",
   "execution_count": 21,
   "metadata": {
    "_cell_guid": "96d23559-83cd-41cd-9c5c-33bd55afe656",
    "_uuid": "3830dfd544633111cfa445aaf44260b2f0a03b32",
    "collapsed": true
   },
   "outputs": [],
   "source": [
    "from sklearn.feature_extraction.text import TfidfVectorizer\n",
    "\n",
    "tvectorizer = TfidfVectorizer(input='content', analyzer = 'word', lowercase=True, stop_words='english',\\\n",
    "                                  tokenizer=paper_to_wordlist, ngram_range=(1, 3), min_df=40, max_df=0.20,\\\n",
    "                                  norm='l2', use_idf=True, smooth_idf=True, sublinear_tf=True)\n",
    "\n",
    "dtm = tvectorizer.fit_transform(p_df['PaperText']).toarray()"
   ]
  },
  {
   "cell_type": "code",
   "execution_count": 22,
   "metadata": {
    "_cell_guid": "630c13fe-57c6-49df-a2f5-2958b70a8271",
    "_uuid": "917fb65ed246a61182d9606c6b8cd786abaef53b",
    "collapsed": true
   },
   "outputs": [],
   "source": [
    "top_dist =[]\n",
    "for d in corpus:\n",
    "    tmp = {i:0 for i in range(num_topics)}\n",
    "    tmp.update(dict(model[d]))\n",
    "    vals = list(OrderedDict(tmp).values())\n",
    "    top_dist += [array(vals)]"
   ]
  },
  {
   "cell_type": "code",
   "execution_count": 23,
   "metadata": {
    "_cell_guid": "8d2615ec-62b5-4443-b57c-39482093f7f8",
    "_uuid": "7422b187c28d1f2b6da57536a866a25fe9255e24",
    "collapsed": true
   },
   "outputs": [],
   "source": [
    "top_dist, lda_keys= get_doc_topic_dist(model, corpus, True)\n",
    "features = tvectorizer.get_feature_names()"
   ]
  },
  {
   "cell_type": "code",
   "execution_count": 24,
   "metadata": {
    "_cell_guid": "154bfbfe-1c83-4a27-9602-90fbc8c09741",
    "_uuid": "389811cde90d4989b10b4fd18d641f9e1896b746",
    "collapsed": true
   },
   "outputs": [],
   "source": [
    "top_ws = []\n",
    "for n in range(len(dtm)):\n",
    "    inds = int0(argsort(dtm[n])[::-1][:4])\n",
    "    tmp = [features[i] for i in inds]\n",
    "    \n",
    "    top_ws += [' '.join(tmp)]\n",
    "    \n",
    "p_df['Text_Rep'] = pd.DataFrame(top_ws)\n",
    "p_df['clusters'] = pd.DataFrame(lda_keys)\n",
    "p_df['clusters'].fillna(10, inplace=True)\n",
    "\n",
    "cluster_colors = {0: 'blue', 1: 'green', 2: 'yellow', 3: 'red', 4: 'skyblue', 5:'salmon', 6:'orange', 7:'maroon', 8:'crimson', 9:'black', 10:'gray'}\n",
    "\n",
    "p_df['colors'] = p_df['clusters'].apply(lambda l: cluster_colors[l])"
   ]
  },
  {
   "cell_type": "code",
   "execution_count": 25,
   "metadata": {
    "_cell_guid": "a356fc0e-e589-4e5d-b5da-f03328c9dc27",
    "_uuid": "d16af6cfc14d9b8d7d3ac9851e2d4d3ceefe0cc1",
    "collapsed": true
   },
   "outputs": [],
   "source": [
    "from sklearn.manifold import TSNE\n",
    "tsne = TSNE(n_components=2)\n",
    "X_tsne = tsne.fit_transform(top_dist)"
   ]
  },
  {
   "cell_type": "code",
   "execution_count": 26,
   "metadata": {
    "_cell_guid": "b62decb3-60e7-4e20-8319-a3fbda8ee1bc",
    "_uuid": "6e23799bea222f5acb56add0c481c1b0c82fed8b",
    "collapsed": true
   },
   "outputs": [],
   "source": [
    "p_df['X_tsne'] =X_tsne[:, 0]\n",
    "p_df['Y_tsne'] =X_tsne[:, 1]"
   ]
  },
  {
   "cell_type": "code",
   "execution_count": 27,
   "metadata": {
    "_cell_guid": "cc8deea2-d651-4eb9-8928-28882e091c3c",
    "_uuid": "1f1d4ff6071ed132a4a6a68e86987e65f8bd5956",
    "collapsed": true
   },
   "outputs": [
    {
     "data": {
      "text/html": [
       "\n",
       "    <div class=\"bk-root\">\n",
       "        <a href=\"http://bokeh.pydata.org\" target=\"_blank\" class=\"bk-logo bk-logo-small bk-logo-notebook\"></a>\n",
       "        <span id=\"65f1e975-0b44-4eb5-8440-effad98ad911\">Loading BokehJS ...</span>\n",
       "    </div>"
      ]
     },
     "metadata": {},
     "output_type": "display_data"
    },
    {
     "data": {
      "application/javascript": [
       "\n",
       "(function(global) {\n",
       "  function now() {\n",
       "    return new Date();\n",
       "  }\n",
       "\n",
       "  var force = true;\n",
       "\n",
       "  if (typeof (window._bokeh_onload_callbacks) === \"undefined\" || force === true) {\n",
       "    window._bokeh_onload_callbacks = [];\n",
       "    window._bokeh_is_loading = undefined;\n",
       "  }\n",
       "\n",
       "\n",
       "  \n",
       "  if (typeof (window._bokeh_timeout) === \"undefined\" || force === true) {\n",
       "    window._bokeh_timeout = Date.now() + 5000;\n",
       "    window._bokeh_failed_load = false;\n",
       "  }\n",
       "\n",
       "  var NB_LOAD_WARNING = {'data': {'text/html':\n",
       "     \"<div style='background-color: #fdd'>\\n\"+\n",
       "     \"<p>\\n\"+\n",
       "     \"BokehJS does not appear to have successfully loaded. If loading BokehJS from CDN, this \\n\"+\n",
       "     \"may be due to a slow or bad network connection. Possible fixes:\\n\"+\n",
       "     \"</p>\\n\"+\n",
       "     \"<ul>\\n\"+\n",
       "     \"<li>re-rerun `output_notebook()` to attempt to load from CDN again, or</li>\\n\"+\n",
       "     \"<li>use INLINE resources instead, as so:</li>\\n\"+\n",
       "     \"</ul>\\n\"+\n",
       "     \"<code>\\n\"+\n",
       "     \"from bokeh.resources import INLINE\\n\"+\n",
       "     \"output_notebook(resources=INLINE)\\n\"+\n",
       "     \"</code>\\n\"+\n",
       "     \"</div>\"}};\n",
       "\n",
       "  function display_loaded() {\n",
       "    if (window.Bokeh !== undefined) {\n",
       "      var el = document.getElementById(\"65f1e975-0b44-4eb5-8440-effad98ad911\");\n",
       "      el.textContent = \"BokehJS \" + Bokeh.version + \" successfully loaded.\";\n",
       "    } else if (Date.now() < window._bokeh_timeout) {\n",
       "      setTimeout(display_loaded, 100)\n",
       "    }\n",
       "  }\n",
       "\n",
       "  function run_callbacks() {\n",
       "    window._bokeh_onload_callbacks.forEach(function(callback) { callback() });\n",
       "    delete window._bokeh_onload_callbacks\n",
       "    console.info(\"Bokeh: all callbacks have finished\");\n",
       "  }\n",
       "\n",
       "  function load_libs(js_urls, callback) {\n",
       "    window._bokeh_onload_callbacks.push(callback);\n",
       "    if (window._bokeh_is_loading > 0) {\n",
       "      console.log(\"Bokeh: BokehJS is being loaded, scheduling callback at\", now());\n",
       "      return null;\n",
       "    }\n",
       "    if (js_urls == null || js_urls.length === 0) {\n",
       "      run_callbacks();\n",
       "      return null;\n",
       "    }\n",
       "    console.log(\"Bokeh: BokehJS not loaded, scheduling load and callback at\", now());\n",
       "    window._bokeh_is_loading = js_urls.length;\n",
       "    for (var i = 0; i < js_urls.length; i++) {\n",
       "      var url = js_urls[i];\n",
       "      var s = document.createElement('script');\n",
       "      s.src = url;\n",
       "      s.async = false;\n",
       "      s.onreadystatechange = s.onload = function() {\n",
       "        window._bokeh_is_loading--;\n",
       "        if (window._bokeh_is_loading === 0) {\n",
       "          console.log(\"Bokeh: all BokehJS libraries loaded\");\n",
       "          run_callbacks()\n",
       "        }\n",
       "      };\n",
       "      s.onerror = function() {\n",
       "        console.warn(\"failed to load library \" + url);\n",
       "      };\n",
       "      console.log(\"Bokeh: injecting script tag for BokehJS library: \", url);\n",
       "      document.getElementsByTagName(\"head\")[0].appendChild(s);\n",
       "    }\n",
       "  };var element = document.getElementById(\"65f1e975-0b44-4eb5-8440-effad98ad911\");\n",
       "  if (element == null) {\n",
       "    console.log(\"Bokeh: ERROR: autoload.js configured with elementid '65f1e975-0b44-4eb5-8440-effad98ad911' but no matching script tag was found. \")\n",
       "    return false;\n",
       "  }\n",
       "\n",
       "  var js_urls = [\"https://cdn.pydata.org/bokeh/release/bokeh-0.12.5.min.js\", \"https://cdn.pydata.org/bokeh/release/bokeh-widgets-0.12.5.min.js\"];\n",
       "\n",
       "  var inline_js = [\n",
       "    function(Bokeh) {\n",
       "      Bokeh.set_log_level(\"info\");\n",
       "    },\n",
       "    \n",
       "    function(Bokeh) {\n",
       "      \n",
       "    },\n",
       "    \n",
       "    function(Bokeh) {\n",
       "      \n",
       "      document.getElementById(\"65f1e975-0b44-4eb5-8440-effad98ad911\").textContent = \"BokehJS is loading...\";\n",
       "    },\n",
       "    function(Bokeh) {\n",
       "      console.log(\"Bokeh: injecting CSS: https://cdn.pydata.org/bokeh/release/bokeh-0.12.5.min.css\");\n",
       "      Bokeh.embed.inject_css(\"https://cdn.pydata.org/bokeh/release/bokeh-0.12.5.min.css\");\n",
       "      console.log(\"Bokeh: injecting CSS: https://cdn.pydata.org/bokeh/release/bokeh-widgets-0.12.5.min.css\");\n",
       "      Bokeh.embed.inject_css(\"https://cdn.pydata.org/bokeh/release/bokeh-widgets-0.12.5.min.css\");\n",
       "    }\n",
       "  ];\n",
       "\n",
       "  function run_inline_js() {\n",
       "    \n",
       "    if ((window.Bokeh !== undefined) || (force === true)) {\n",
       "      for (var i = 0; i < inline_js.length; i++) {\n",
       "        inline_js[i](window.Bokeh);\n",
       "      }if (force === true) {\n",
       "        display_loaded();\n",
       "      }} else if (Date.now() < window._bokeh_timeout) {\n",
       "      setTimeout(run_inline_js, 100);\n",
       "    } else if (!window._bokeh_failed_load) {\n",
       "      console.log(\"Bokeh: BokehJS failed to load within specified timeout.\");\n",
       "      window._bokeh_failed_load = true;\n",
       "    } else if (force !== true) {\n",
       "      var cell = $(document.getElementById(\"65f1e975-0b44-4eb5-8440-effad98ad911\")).parents('.cell').data().cell;\n",
       "      cell.output_area.append_execute_result(NB_LOAD_WARNING)\n",
       "    }\n",
       "\n",
       "  }\n",
       "\n",
       "  if (window._bokeh_is_loading === 0) {\n",
       "    console.log(\"Bokeh: BokehJS loaded, going straight to plotting\");\n",
       "    run_inline_js();\n",
       "  } else {\n",
       "    load_libs(js_urls, function() {\n",
       "      console.log(\"Bokeh: BokehJS plotting callback run at\", now());\n",
       "      run_inline_js();\n",
       "    });\n",
       "  }\n",
       "}(this));"
      ]
     },
     "metadata": {},
     "output_type": "display_data"
    }
   ],
   "source": [
    "from bokeh.plotting import figure, show, output_notebook, save#, output_file\n",
    "from bokeh.models import HoverTool, value, LabelSet, Legend, ColumnDataSource\n",
    "output_notebook()"
   ]
  },
  {
   "cell_type": "code",
   "execution_count": 28,
   "metadata": {
    "_cell_guid": "153dde79-a07b-4041-81ce-e0d2cf4c2f24",
    "_uuid": "27ddd00b2085860a52118d995cf7c461885cefb4",
    "collapsed": true
   },
   "outputs": [],
   "source": [
    "source = ColumnDataSource(dict(\n",
    "    x=p_df['X_tsne'],\n",
    "    y=p_df['Y_tsne'],\n",
    "    color=p_df['colors'],\n",
    "    label=p_df['clusters'].apply(lambda l: top_labels[l]),\n",
    "#     msize= p_df['marker_size'],\n",
    "    topic_key= p_df['clusters'],\n",
    "    title= p_df[u'Title'],\n",
    "    content = p_df['Text_Rep']\n",
    "))"
   ]
  },
  {
   "cell_type": "code",
   "execution_count": 29,
   "metadata": {
    "_cell_guid": "2c2e7018-1fc5-4f85-a205-2ae00be40845",
    "_uuid": "ecb9b9f46894e857788141b271be186fb8ffcb2e",
    "collapsed": true
   },
   "outputs": [
    {
     "data": {
      "text/html": [
       "\n",
       "\n",
       "    <div class=\"bk-root\">\n",
       "        <div class=\"bk-plotdiv\" id=\"e813739b-e49b-4acb-8120-feef9e364f28\"></div>\n",
       "    </div>\n",
       "<script type=\"text/javascript\">\n",
       "  \n",
       "  (function(global) {\n",
       "    function now() {\n",
       "      return new Date();\n",
       "    }\n",
       "  \n",
       "    var force = false;\n",
       "  \n",
       "    if (typeof (window._bokeh_onload_callbacks) === \"undefined\" || force === true) {\n",
       "      window._bokeh_onload_callbacks = [];\n",
       "      window._bokeh_is_loading = undefined;\n",
       "    }\n",
       "  \n",
       "  \n",
       "    \n",
       "    if (typeof (window._bokeh_timeout) === \"undefined\" || force === true) {\n",
       "      window._bokeh_timeout = Date.now() + 0;\n",
       "      window._bokeh_failed_load = false;\n",
       "    }\n",
       "  \n",
       "    var NB_LOAD_WARNING = {'data': {'text/html':\n",
       "       \"<div style='background-color: #fdd'>\\n\"+\n",
       "       \"<p>\\n\"+\n",
       "       \"BokehJS does not appear to have successfully loaded. If loading BokehJS from CDN, this \\n\"+\n",
       "       \"may be due to a slow or bad network connection. Possible fixes:\\n\"+\n",
       "       \"</p>\\n\"+\n",
       "       \"<ul>\\n\"+\n",
       "       \"<li>re-rerun `output_notebook()` to attempt to load from CDN again, or</li>\\n\"+\n",
       "       \"<li>use INLINE resources instead, as so:</li>\\n\"+\n",
       "       \"</ul>\\n\"+\n",
       "       \"<code>\\n\"+\n",
       "       \"from bokeh.resources import INLINE\\n\"+\n",
       "       \"output_notebook(resources=INLINE)\\n\"+\n",
       "       \"</code>\\n\"+\n",
       "       \"</div>\"}};\n",
       "  \n",
       "    function display_loaded() {\n",
       "      if (window.Bokeh !== undefined) {\n",
       "        var el = document.getElementById(\"e813739b-e49b-4acb-8120-feef9e364f28\");\n",
       "        el.textContent = \"BokehJS \" + Bokeh.version + \" successfully loaded.\";\n",
       "      } else if (Date.now() < window._bokeh_timeout) {\n",
       "        setTimeout(display_loaded, 100)\n",
       "      }\n",
       "    }\n",
       "  \n",
       "    function run_callbacks() {\n",
       "      window._bokeh_onload_callbacks.forEach(function(callback) { callback() });\n",
       "      delete window._bokeh_onload_callbacks\n",
       "      console.info(\"Bokeh: all callbacks have finished\");\n",
       "    }\n",
       "  \n",
       "    function load_libs(js_urls, callback) {\n",
       "      window._bokeh_onload_callbacks.push(callback);\n",
       "      if (window._bokeh_is_loading > 0) {\n",
       "        console.log(\"Bokeh: BokehJS is being loaded, scheduling callback at\", now());\n",
       "        return null;\n",
       "      }\n",
       "      if (js_urls == null || js_urls.length === 0) {\n",
       "        run_callbacks();\n",
       "        return null;\n",
       "      }\n",
       "      console.log(\"Bokeh: BokehJS not loaded, scheduling load and callback at\", now());\n",
       "      window._bokeh_is_loading = js_urls.length;\n",
       "      for (var i = 0; i < js_urls.length; i++) {\n",
       "        var url = js_urls[i];\n",
       "        var s = document.createElement('script');\n",
       "        s.src = url;\n",
       "        s.async = false;\n",
       "        s.onreadystatechange = s.onload = function() {\n",
       "          window._bokeh_is_loading--;\n",
       "          if (window._bokeh_is_loading === 0) {\n",
       "            console.log(\"Bokeh: all BokehJS libraries loaded\");\n",
       "            run_callbacks()\n",
       "          }\n",
       "        };\n",
       "        s.onerror = function() {\n",
       "          console.warn(\"failed to load library \" + url);\n",
       "        };\n",
       "        console.log(\"Bokeh: injecting script tag for BokehJS library: \", url);\n",
       "        document.getElementsByTagName(\"head\")[0].appendChild(s);\n",
       "      }\n",
       "    };var element = document.getElementById(\"e813739b-e49b-4acb-8120-feef9e364f28\");\n",
       "    if (element == null) {\n",
       "      console.log(\"Bokeh: ERROR: autoload.js configured with elementid 'e813739b-e49b-4acb-8120-feef9e364f28' but no matching script tag was found. \")\n",
       "      return false;\n",
       "    }\n",
       "  \n",
       "    var js_urls = [];\n",
       "  \n",
       "    var inline_js = [\n",
       "      function(Bokeh) {\n",
       "        (function() {\n",
       "          var fn = function() {\n",
       "            var docs_json = {\"12593cc1-82f2-4138-bd20-c3b3121f5484\":{\"roots\":{\"references\":[{\"attributes\":{\"items\":[{\"id\":\"09b0b5de-c5c6-4397-85e4-add02c78685d\",\"type\":\"LegendItem\"}],\"location\":\"top_left\",\"plot\":{\"id\":\"9630ca82-bd8f-4f93-877e-2cba13747b02\",\"subtype\":\"Figure\",\"type\":\"Plot\"}},\"id\":\"d8acf62a-bf21-4c62-8dfd-9a1a2fb22bde\",\"type\":\"Legend\"},{\"attributes\":{\"label\":{\"field\":\"label\"},\"renderers\":[{\"id\":\"e3e7cc9f-94c7-47ed-b9e5-4f8bec90463f\",\"type\":\"GlyphRenderer\"}]},\"id\":\"09b0b5de-c5c6-4397-85e4-add02c78685d\",\"type\":\"LegendItem\"},{\"attributes\":{\"fill_alpha\":{\"value\":0.1},\"fill_color\":{\"value\":\"#1f77b4\"},\"line_alpha\":{\"value\":0.1},\"line_color\":{\"value\":\"#1f77b4\"},\"size\":{\"units\":\"screen\",\"value\":10},\"x\":{\"field\":\"x\"},\"y\":{\"field\":\"y\"}},\"id\":\"bd2b6e31-10d6-443a-bcb6-6e3b8089e2a1\",\"type\":\"Circle\"},{\"attributes\":{\"plot\":null,\"text\":\"T-SNE visualization of topics\"},\"id\":\"385935fe-4a67-4267-aa3c-f71fa211e2f1\",\"type\":\"Title\"},{\"attributes\":{\"callback\":null},\"id\":\"07622c5e-e3d2-4f19-a739-f5d14309cd4d\",\"type\":\"DataRange1d\"},{\"attributes\":{},\"id\":\"0e4ec340-0713-40ef-a5d1-72c30fb25be8\",\"type\":\"ToolEvents\"},{\"attributes\":{\"active_drag\":\"auto\",\"active_scroll\":\"auto\",\"active_tap\":\"auto\",\"tools\":[{\"id\":\"464f51e6-5819-442e-af7f-90c281059603\",\"type\":\"PanTool\"},{\"id\":\"d0df3f16-bcba-4bfa-85b1-8fa7af5d7ea1\",\"type\":\"WheelZoomTool\"},{\"id\":\"47c68e0f-f619-4e8f-80b1-8bc5c3ca37d9\",\"type\":\"BoxZoomTool\"},{\"id\":\"70953e5d-8992-4c18-926b-a9445ca40b78\",\"type\":\"ResetTool\"},{\"id\":\"8f6725a3-d74a-4972-b688-6474b1d8b533\",\"type\":\"HoverTool\"},{\"id\":\"3d0039a9-1922-4721-94b0-c8354c3c3583\",\"type\":\"SaveTool\"}]},\"id\":\"042e955c-7fa1-4ccb-9d5f-faa6f7ab121a\",\"type\":\"Toolbar\"},{\"attributes\":{\"plot\":{\"id\":\"9630ca82-bd8f-4f93-877e-2cba13747b02\",\"subtype\":\"Figure\",\"type\":\"Plot\"}},\"id\":\"464f51e6-5819-442e-af7f-90c281059603\",\"type\":\"PanTool\"},{\"attributes\":{\"callback\":null},\"id\":\"366544e0-61d1-4575-b9c5-eeaba42a0145\",\"type\":\"DataRange1d\"},{\"attributes\":{\"callback\":null,\"column_names\":[\"x\",\"y\",\"color\",\"label\",\"topic_key\",\"title\",\"content\"],\"data\":{\"color\":[\"green\",\"blue\",\"blue\",\"yellow\",\"yellow\",\"red\",\"blue\",\"green\",\"yellow\",\"green\",\"yellow\",\"blue\",\"red\",\"green\",\"yellow\",\"green\",\"yellow\",\"yellow\",\"yellow\",\"red\",\"red\",\"yellow\",\"yellow\",\"green\",\"red\",\"red\",\"yellow\",\"green\",\"blue\",\"yellow\",\"red\",\"yellow\",\"yellow\",\"red\",\"green\",\"yellow\",\"blue\",\"green\",\"blue\",\"green\",\"blue\",\"yellow\",\"red\",\"blue\",\"green\",\"red\",\"red\",\"yellow\",\"green\",\"yellow\",\"yellow\",\"blue\",\"blue\",\"green\",\"blue\",\"red\",\"yellow\",\"blue\",\"red\",\"red\",\"red\",\"blue\",\"red\",\"yellow\",\"yellow\",\"red\",\"red\",\"green\",\"green\",\"green\",\"blue\",\"yellow\",\"yellow\",\"blue\",\"red\",\"blue\",\"red\",\"green\",\"green\",\"blue\",\"red\",\"blue\",\"red\",\"green\",\"red\",\"blue\",\"red\",\"green\",\"yellow\",\"yellow\",\"red\",\"red\",\"yellow\",\"blue\",\"green\",\"yellow\",\"red\",\"red\",\"yellow\",\"blue\",\"yellow\",\"blue\",\"yellow\",\"blue\",\"yellow\",\"blue\",\"yellow\",\"green\",\"yellow\",\"yellow\",\"blue\",\"red\",\"blue\",\"blue\",\"red\",\"green\",\"green\",\"red\",\"red\",\"blue\",\"red\",\"red\",\"yellow\",\"yellow\",\"yellow\",\"red\",\"yellow\",\"red\",\"yellow\",\"red\",\"yellow\",\"red\",\"red\",\"yellow\",\"yellow\",\"red\",\"blue\",\"yellow\",\"red\",\"yellow\",\"red\",\"red\",\"red\",\"green\",\"green\",\"red\",\"blue\",\"red\",\"blue\",\"green\",\"blue\",\"green\",\"blue\",\"green\",\"yellow\",\"blue\",\"blue\",\"yellow\",\"green\",\"green\",\"yellow\",\"green\",\"red\",\"green\",\"red\",\"yellow\",\"yellow\",\"yellow\",\"blue\",\"green\",\"red\",\"green\",\"red\",\"blue\",\"red\",\"green\",\"red\",\"yellow\",\"red\",\"blue\",\"red\",\"blue\",\"yellow\",\"red\",\"yellow\",\"red\",\"yellow\",\"yellow\",\"red\",\"green\",\"blue\",\"blue\",\"yellow\",\"green\",\"red\",\"blue\",\"red\",\"green\",\"green\",\"green\",\"blue\",\"red\",\"yellow\",\"yellow\",\"blue\",\"yellow\",\"blue\",\"red\",\"blue\",\"yellow\",\"green\",\"red\",\"yellow\",\"yellow\",\"red\",\"green\",\"green\",\"yellow\",\"red\",\"blue\",\"yellow\",\"yellow\",\"blue\",\"yellow\",\"green\",\"blue\",\"yellow\",\"blue\",\"red\",\"yellow\",\"yellow\",\"red\",\"blue\",\"red\",\"green\",\"green\",\"blue\",\"red\",\"green\",\"yellow\",\"blue\",\"red\",\"yellow\",\"red\",\"red\",\"blue\",\"yellow\",\"red\",\"blue\",\"red\",\"blue\",\"blue\",\"red\",\"red\",\"yellow\",\"red\",\"green\",\"yellow\",\"red\",\"blue\",\"blue\",\"green\",\"red\",\"yellow\",\"green\",\"yellow\",\"blue\",\"green\",\"yellow\",\"red\",\"yellow\",\"yellow\",\"red\",\"yellow\",\"yellow\",\"green\",\"yellow\",\"green\",\"blue\",\"red\",\"green\",\"yellow\",\"red\",\"red\",\"red\",\"blue\",\"yellow\",\"red\",\"red\",\"blue\",\"yellow\",\"yellow\",\"red\",\"green\",\"blue\",\"red\",\"yellow\",\"yellow\",\"blue\",\"blue\",\"red\",\"green\",\"red\",\"yellow\",\"green\",\"green\",\"yellow\",\"red\",\"yellow\",\"yellow\",\"green\",\"green\",\"blue\",\"blue\",\"red\",\"green\",\"yellow\",\"blue\",\"green\",\"blue\",\"green\",\"red\",\"yellow\",\"red\",\"green\",\"green\",\"yellow\",\"blue\",\"yellow\",\"yellow\",\"red\",\"yellow\",\"yellow\",\"blue\",\"red\",\"green\",\"yellow\",\"red\",\"red\",\"blue\",\"yellow\",\"yellow\",\"green\",\"red\",\"green\",\"yellow\",\"green\",\"green\",\"red\",\"blue\",\"green\",\"blue\",\"green\",\"blue\",\"red\",\"blue\",\"blue\",\"green\",\"blue\",\"yellow\",\"red\",\"red\",\"blue\",\"blue\",\"yellow\",\"blue\",\"blue\",\"blue\",\"green\",\"green\",\"yellow\",\"green\",\"blue\",\"red\",\"red\",\"yellow\",\"yellow\",\"red\",\"red\",\"blue\",\"yellow\",\"red\",\"yellow\",\"green\",\"blue\",\"yellow\",\"green\",\"yellow\",\"green\",\"blue\",\"yellow\",\"green\",\"yellow\",\"blue\",\"yellow\",\"yellow\",\"red\",\"red\",\"green\",\"green\",\"yellow\",\"red\",\"yellow\"],\"content\":[\"mechanism answer confidence multiplicative\",\"robustness learner svm equivalence\",\"stability vol training example parametric\",\"dirichlet mixture model concentration hyperparameters\",\"covariance matrix article maintaining letter\",\"covariance matrix rate convergence tail oracle\",\"leaf logarithmic pure left right\",\"segmentation closest plane vertex\",\"retrieval post recurrent query\",\"vertex round item permutation\",\"proposal box shared convolutional\",\"manifold embeddings embedding euclidean\",\"svd descent algorithm retrieval jain\",\"real valued utility cover feedback\",\"physical video physic mass\",\"item sample complexity pseudo price\",\"neuron trial population stationary\",\"manifold digit locally low dimensional\",\"color pixel fold end end\",\"ranking item stationary pairwise\",\"sgd step size gaussian process mnist\",\"recurrent list hidden unit hidden layer\",\"grid ground truth convolutional social\",\"regret learner expert reward\",\"law eigenvalue polynomial time orthogonal\",\"sampler boundary step size biased\",\"video resolution convolution recurrent\",\"moment concave hybrid mode\",\"embedding embeddings parametric auxiliary\",\"convolutional convolutional neural network convolutional neural spatial\",\"averaging auxiliary communication propagation\",\"identification dirichlet mixture model central\",\"svm white category ball\",\"soft subgradient accelerated relaxation\",\"regret retrieval confidence existence\",\"smoothing manifold principal green\",\"svm biased ranking conjugate\",\"trajectory policy reinforcement learning reinforcement\",\"orthogonal factorization svd pca\",\"regret greedy reward maximal\",\"segmentation extra semantic feature vector\",\"neuron posterior distribution stationary inherent\",\"accelerated gradient method critical convergence rate\",\"pca principal component sketch principal\",\"functional nonparametric expansion theoretic\",\"round singular value singular reconstruction\",\"non convex kdd supplement cpu\",\"proposal box overlap plane\",\"regret budget reward boundary\",\"fully connected hidden unit number parameter convolutional\",\"mcmc partitioning sampler smoothing\",\"shared segment brain functional\",\"cell biological root mark\",\"backward greedy reward trajectory\",\"moment mixture model gaussians kakade\",\"width away strongly convex oracle\",\"recurrent neural network recurrent neural interaction recurrent\",\"moment document dirichlet component analysis\",\"sensing retrieval low rank rank matrix\",\"marginals solver vertex iterates\",\"mixing stationary sup exp exp\",\"svd embedding embeddings pairwise\",\"alternating oracle completion rank matrix\",\"variational inference automatic mixture model dirichlet\",\"speech mechanism content recurrent\",\"regression model closed form thresholding exponential family\",\"learner pas online learning regret\",\"item ranking pairwise marginals\",\"diverse energy segmentation ordered\",\"vertex width cover polynomial time\",\"ordering undirected directed vol\",\"boltzmann hidden unit expansion epoch\",\"article convolutional corpus language processing\",\"discriminative brain proposed method labeled\",\"partitioning regret smoothness cell\",\"vertex community recovery regime\",\"momentum communication imagenet moving\",\"greedy item vertex disjoint\",\"oracle query weak false\",\"globally margin classification problem time complexity\",\"recovery thresholding solver dense\",\"embeddings embedding learner ensemble\",\"truncated retrieval kxk flow\",\"trajectory population gaussian process cause\",\"subspace inner product counterpart segmentation\",\"pca vol disjoint extracted\",\"leverage bach running time low rank\",\"regret policy round strongly convex\",\"neuron diag filter moment\",\"flow cell convolutional digit\",\"logistic regression solver regularization parameter radius\",\"boltzmann calculation probabilistic model normalization\",\"stat digit gaussian process modelling\",\"precision false segment figure left\",\"budget greedy cover allocation\",\"missing mcmc recurrent neural network recurrent neural\",\"mini accelerated strongly convex maxi\",\"mixing strongly convex markov chain mcmc\",\"hessian recurrent neural network recurrent neural recurrent\",\"predictor fold minimax proper\",\"resolution translation convolutional convolutional neural network\",\"manifold mixture model euclidean convexity\",\"embeddings embedding convolution error rate\",\"grid cpu depth recursive\",\"labeling recurrent convolutional pixel\",\"leaf assignment store conditioning\",\"mcmc markov chain flow exponential family\",\"resource regret allocation confidence\",\"shape learner unsupervised solver\",\"neuron recurrent balance feedback\",\"sketch gibbs moment latent variable model\",\"subspace gibbs utility sampler\",\"margin ranking document learner\",\"characterization embedding embeddings geometric\",\"sgd ranking computational cost estimation error\",\"vertex sample complexity reward round\",\"brain dot trial neuron\",\"bayes discriminative naive logistic regression\",\"round closest counterpart assigned\",\"walk list semantic item\",\"rate convergence precision frobenius estimation error\",\"fisher linear model query convergence rate\",\"pose recurrent face manifold\",\"softmax cpu hidden layer backpropagation\",\"neuron backpropagation vol ensemble\",\"zhu formed flow fold\",\"fully connected neuron bit imagenet\",\"compact characteristic vol rate convergence\",\"population dirichlet held variational inference\",\"integration integral posterior distribution model selection\",\"recurrent neural network recurrent neural recurrent model trained\",\"completion width estimation error sample complexity\",\"sun regularizer definite unconstrained\",\"proposal segmentation sampler dirichlet\",\"mcmc concave moment bayes\",\"hessian convergence rate second order step size\",\"nearest neighbor query sensitive\",\"video manifold temporal locally\",\"walk mixing ball box\",\"manifold pose query embedding\",\"hessian completion vol retrieval\",\"round regret feedback online learning\",\"leaf solver depth iii\",\"vertex perfect auxiliary vol\",\"item regret factorization cumulative\",\"journal optimization unconstrained stanford hessian\",\"permutation proc formula ordering\",\"greedy event strength confidence\",\"robustness transform transformed face\",\"regret reward treatment outcome\",\"ensemble game predictor leaf\",\"regret feedback minimax learner\",\"differential vertex nonparametric maximal\",\"proposal box greedy bounding\",\"hessian backpropagation variational inference auto\",\"singular singular value frobenius svd\",\"proposed method embeddings document embedding\",\"gaussian process error rate variational inference gaussians\",\"markov chain walk max max trajectory\",\"proposal wainwright pairwise confidence\",\"exponential family mcmc gibbs formula\",\"item regret reward combinatorial\",\"mixing markov chain confidence stationary\",\"policy formula trajectory sensitive\",\"concave stability strongly convex minimizer\",\"resolution model trained conditioning boltzmann\",\"segmentation semantic activation pixel\",\"hessian sgd non convex mnist\",\"environment shift strength covariance matrix\",\"perturbation policy budget robustness\",\"epoch linear regression fraction kxk\",\"environment hyper learner posterior distribution\",\"bit link compressed sensing\",\"invariant integration vol sample complexity\",\"estimation error mixed regularizer linear regression\",\"history stochastic optimization policy recursive\",\"locally convex function sgd lipschitz\",\"filtering coding population neuron\",\"pca relaxation moment principal component\",\"majority margin discriminative error rate\",\"stopping epoch inf iterates\",\"walk vertex geometric kxk\",\"gaussian process mcmc sampler gibbs\",\"leverage model selection statistical learning regularization parameter\",\"inference algorithm markov chain state space trajectory\",\"regularization parameter option grid support vector\",\"environment neuron spatial reward\",\"query document reader corpus\",\"projected relaxation population subgradient\",\"policy filter belief claim\",\"vertex directed mixed undirected\",\"leaf depth greedy augmented\",\"manifold video gaussian process missing\",\"reward expert trajectory segment\",\"round communication strongly convex convex function\",\"discriminative gibbs document dirichlet\",\"greedy decay bit zhou\",\"self normalization linear model characterization\",\"regret game learner round\",\"ranking proc social dot\",\"non linear proc closer link\",\"rank matrix pca low rank completion\",\"recurrent translation strength scalar\",\"margin discriminative missing subgradient\",\"positive definite transform compact definite\",\"projected coding reconstruction hidden unit\",\"identification ordering list independence\",\"completion rank matrix low rank lipschitz\",\"retrieval style embedding margin\",\"sampler gibbs mcmc mixture model\",\"item greedy partitioning vertex\",\"item rank matrix ranking low rank\",\"spatial frequency stationary width\",\"pixel neighborhood recurrent ensemble\",\"compressed low rank missing pca\",\"mixing gibbs sampler state space\",\"event link evolution social\",\"linear regression filtering moment history\",\"regret game history calculate\",\"characteristic analytic embeddings frequency\",\"proposal segmentation box pixel\",\"spectrum gaussian process frequency brain\",\"bit differential communication symposium\",\"spatial digit grid transformed\",\"critical radius inf tight\",\"svm margin vol structural\",\"neuron vol population trial\",\"digit semantic segmentation ground truth\",\"bit kxk sensing compressed\",\"fisher sgd conditioning normalization\",\"population ball mcmc manifold\",\"iterates scaled adapt hybrid\",\"document proportion variational inference dirichlet\",\"completion multiplication factorization rank matrix\",\"regret reward combinatorial feedback\",\"environment reward internal reinforcement learning\",\"smoothing walk compressed event\",\"regret min max oracle competitive\",\"policy budget leaf reward\",\"sampler hybrid mass biased\",\"query ensemble runtime coding\",\"smoothness svm locally ball\",\"pixel segmentation spatial theoretic\",\"regret perturbation penalty learner\",\"width sample complexity estimation error recovery\",\"embeddings vertex embedding mnist\",\"feature vector convolutional depth convolutional neural\",\"partitioning round segmentation greedy\",\"query answer supplement compact\",\"mixed support vector convergence rate grow\",\"formula vol dirichlet distinguish\",\"neuron principal thresholding eigenvalue\",\"step size mcmc invariant backward\",\"exponential family random field neighborhood undirected\",\"answer embedding translation content\",\"sgd epoch step size neighborhood\",\"integral policy trial trajectory\",\"approximating propagation gaussians moment\",\"concave relaxation cover tight\",\"pca subspace mini component analysis\",\"differential query data analysis overfitting\",\"price utility belief budget\",\"augmented iterates solver projected\",\"depth transform deep network mnist\",\"model selection gaussian process hyperparameters frequency\",\"sampler gibbs mixing state space\",\"manifold trajectory shift mcmc\",\"reward confidence trial dot\",\"sgd regularizer geometry invariant\",\"article sign predictor non zero\",\"softmax embedding answer recurrent\",\"frequency filter spatial conjugate\",\"regret learner base online learning\",\"hidden layer temporal recurrent belief\",\"cell electrical identification completion\",\"vol trial internal recovers\",\"spectrum physical resolution energy\",\"configuration software detect researcher\",\"cause independence identified directed\",\"latent variable model variable model rate convergence low dimensional\",\"price regret round game\",\"face neuron pose light\",\"low rank mode recovery rank matrix\",\"minimax regret round game\",\"differential running time sample size synthetic data\",\"sample complexity uci lipschitz nearest\",\"recurrent resolution proposal reinforcement learning\",\"error bound regularization parameter random field frobenius\",\"mixing markov chain sample size vol\",\"missing frobenius alternating ground truth\",\"proposal recurrent recurrent neural network recurrent neural\",\"variational inference gibbs mnist integration\",\"epoch iterate step size sgd\",\"query web embedding answer\",\"frequency recovery resolution minimal\",\"sgd precision non convex bit\",\"dot discriminative run time page ieee\",\"softmax mechanism input output combinatorial\",\"recovery store kxk subspace\",\"gibbs factorization corpus non negative\",\"vertex solver hessian minimizer\",\"game item precision ranking\",\"shared agarwal convergence rate mainly\",\"trajectory locally non linear reconstruction\",\"query epoch hyper parameter regret\",\"soft state space plan reinforcement learning\",\"corpus web ensemble google\",\"oracle recovery low rank covariance matrix\",\"convolutional filter hidden unit mnist\",\"dirichlet corpus document mcmc\",\"regret depth optimization method iii\",\"reward policy reinforcement learning reinforcement\",\"relaxation semantic relaxed translation\",\"vertex assignment singular running time\",\"accelerated trajectory interpretation differential\",\"gaussian process learner ranking covariance matrix\",\"game recurrent encoding video\",\"recovery gaussian noise recovering fourth\",\"round utility cover greedy\",\"community overlapping walk vertex\",\"state space reward base reinforcement learning\",\"width sign ball sup\",\"sampler mcmc stationary supplement\",\"regret self averaging perturbation\",\"vertex game flow labeled\",\"policy trajectory environment reward\",\"answer color vol embeddings\",\"auto ensemble hyperparameters configuration\",\"boltzmann euclidean sgd mnist\",\"modelling speech recurrent recurrent neural network\",\"regret game utility item\",\"segmentation pixel brain fully connected\",\"momentum boundary trajectory tuned\",\"neighbor link dense regime\",\"differential width vertex mechanism\",\"price outcome subspace belief\",\"hidden unit width hidden layer dirichlet\",\"hessian convergence rate eigenvalue sgd\",\"game regret price correlated\",\"universal hilbert space hilbert treatment\",\"recurrent document labeled error rate\",\"diag multiplication false sharing\",\"width gibbs mixing polynomial time\",\"subspace mode singular gaussian noise\",\"policy robustness environment trajectory\",\"regularizer backward propagation mnist\",\"trajectory policy feedback physical\",\"unconstrained diverse cardinality document\",\"universal vol accelerated gradient method\",\"ordering correctly examine greedy\",\"regret learner exploration game\",\"singular low rank pas singular value\",\"time step polynomial time sample complexity social\",\"directed undirected vol vertex\",\"oracle query concave convex function\",\"library gibbs document boundary\",\"gibbs embeddings dirichlet scalability\",\"overfitting feedback self policy\",\"formula equivalence assignment cell\",\"policy trajectory primary directed\",\"bayes strictly characterization link\",\"exp exp uai supplement log exp\",\"marginals twice feature vector stanford\",\"eigenvalue recovery grow community\",\"thought semantic translation corpus\",\"loop directed stopping compressed\",\"principal pca principal component color\",\"utility population averaging bayes\",\"regret gaussian process mcmc greedy\",\"mixing regret reward stationary\",\"brain logistic regression hidden layer reconstruction\",\"gaussian process random field spatial event\",\"tail detect post random field\",\"expert regret sup oracle\",\"strongly convex accelerated convergence rate rate convergence\",\"realization variational inference pseudo gaussian process\",\"conjugate variational inference diag geometry\",\"oracle smoothing enjoys sec\",\"regularizer precise non linear sign\",\"walk vertex neighborhood neighbor\",\"sgd mcmc hyper parameter precision\",\"completion sample complexity item recovery\",\"gibbs correlated auxiliary dirichlet\",\"query game utility stanford\",\"event confidence marginals margin\",\"segmentation pixel labeling neuron\",\"item event temporal history\",\"white gaussian process filter convolution\",\"price mechanism query exponential family\",\"formula proc canonical equality\",\"reinforcement learning reinforcement backpropagation surrogate\",\"surrogate policy reward considerably\",\"supervised learning mnist cost function unsupervised\",\"margin assignment embedding arg max\",\"variational inference factorization gaussians augmented\",\"recursive boundary segmentation dense\",\"augmented strongly convex solver regularizer\",\"sample complexity vol concave independence\",\"vol soft structural functional\",\"proposal belief exponential family propagation\",\"energy population modelling summary\",\"logistic regression radius ball confidence\",\"variational inference epoch activation trick\"],\"label\":[\"Numerical Analysis\",\"Statistics\",\"Statistics\",\"Online Learning\",\"Online Learning\",\"Deep Learning\",\"Statistics\",\"Numerical Analysis\",\"Online Learning\",\"Numerical Analysis\",\"Online Learning\",\"Statistics\",\"Deep Learning\",\"Numerical Analysis\",\"Online Learning\",\"Numerical Analysis\",\"Online Learning\",\"Online Learning\",\"Online Learning\",\"Deep Learning\",\"Deep Learning\",\"Online Learning\",\"Online Learning\",\"Numerical Analysis\",\"Deep Learning\",\"Deep Learning\",\"Online Learning\",\"Numerical Analysis\",\"Statistics\",\"Online Learning\",\"Deep Learning\",\"Online Learning\",\"Online Learning\",\"Deep Learning\",\"Numerical Analysis\",\"Online Learning\",\"Statistics\",\"Numerical Analysis\",\"Statistics\",\"Numerical Analysis\",\"Statistics\",\"Online Learning\",\"Deep Learning\",\"Statistics\",\"Numerical Analysis\",\"Deep Learning\",\"Deep Learning\",\"Online Learning\",\"Numerical Analysis\",\"Online Learning\",\"Online Learning\",\"Statistics\",\"Statistics\",\"Numerical Analysis\",\"Statistics\",\"Deep Learning\",\"Online Learning\",\"Statistics\",\"Deep Learning\",\"Deep Learning\",\"Deep Learning\",\"Statistics\",\"Deep Learning\",\"Online Learning\",\"Online Learning\",\"Deep Learning\",\"Deep Learning\",\"Numerical Analysis\",\"Numerical Analysis\",\"Numerical Analysis\",\"Statistics\",\"Online Learning\",\"Online Learning\",\"Statistics\",\"Deep Learning\",\"Statistics\",\"Deep Learning\",\"Numerical Analysis\",\"Numerical Analysis\",\"Statistics\",\"Deep Learning\",\"Statistics\",\"Deep Learning\",\"Numerical Analysis\",\"Deep Learning\",\"Statistics\",\"Deep Learning\",\"Numerical Analysis\",\"Online Learning\",\"Online Learning\",\"Deep Learning\",\"Deep Learning\",\"Online Learning\",\"Statistics\",\"Numerical Analysis\",\"Online Learning\",\"Deep Learning\",\"Deep Learning\",\"Online Learning\",\"Statistics\",\"Online Learning\",\"Statistics\",\"Online Learning\",\"Statistics\",\"Online Learning\",\"Statistics\",\"Online Learning\",\"Numerical Analysis\",\"Online Learning\",\"Online Learning\",\"Statistics\",\"Deep Learning\",\"Statistics\",\"Statistics\",\"Deep Learning\",\"Numerical Analysis\",\"Numerical Analysis\",\"Deep Learning\",\"Deep Learning\",\"Statistics\",\"Deep Learning\",\"Deep Learning\",\"Online Learning\",\"Online Learning\",\"Online Learning\",\"Deep Learning\",\"Online Learning\",\"Deep Learning\",\"Online Learning\",\"Deep Learning\",\"Online Learning\",\"Deep Learning\",\"Deep Learning\",\"Online Learning\",\"Online Learning\",\"Deep Learning\",\"Statistics\",\"Online Learning\",\"Deep Learning\",\"Online Learning\",\"Deep Learning\",\"Deep Learning\",\"Deep Learning\",\"Numerical Analysis\",\"Numerical Analysis\",\"Deep Learning\",\"Statistics\",\"Deep Learning\",\"Statistics\",\"Numerical Analysis\",\"Statistics\",\"Numerical Analysis\",\"Statistics\",\"Numerical Analysis\",\"Online Learning\",\"Statistics\",\"Statistics\",\"Online Learning\",\"Numerical Analysis\",\"Numerical Analysis\",\"Online Learning\",\"Numerical Analysis\",\"Deep Learning\",\"Numerical Analysis\",\"Deep Learning\",\"Online Learning\",\"Online Learning\",\"Online Learning\",\"Statistics\",\"Numerical Analysis\",\"Deep Learning\",\"Numerical Analysis\",\"Deep Learning\",\"Statistics\",\"Deep Learning\",\"Numerical Analysis\",\"Deep Learning\",\"Online Learning\",\"Deep Learning\",\"Statistics\",\"Deep Learning\",\"Statistics\",\"Online Learning\",\"Deep Learning\",\"Online Learning\",\"Deep Learning\",\"Online Learning\",\"Online Learning\",\"Deep Learning\",\"Numerical Analysis\",\"Statistics\",\"Statistics\",\"Online Learning\",\"Numerical Analysis\",\"Deep Learning\",\"Statistics\",\"Deep Learning\",\"Numerical Analysis\",\"Numerical Analysis\",\"Numerical Analysis\",\"Statistics\",\"Deep Learning\",\"Online Learning\",\"Online Learning\",\"Statistics\",\"Online Learning\",\"Statistics\",\"Deep Learning\",\"Statistics\",\"Online Learning\",\"Numerical Analysis\",\"Deep Learning\",\"Online Learning\",\"Online Learning\",\"Deep Learning\",\"Numerical Analysis\",\"Numerical Analysis\",\"Online Learning\",\"Deep Learning\",\"Statistics\",\"Online Learning\",\"Online Learning\",\"Statistics\",\"Online Learning\",\"Numerical Analysis\",\"Statistics\",\"Online Learning\",\"Statistics\",\"Deep Learning\",\"Online Learning\",\"Online Learning\",\"Deep Learning\",\"Statistics\",\"Deep Learning\",\"Numerical Analysis\",\"Numerical Analysis\",\"Statistics\",\"Deep Learning\",\"Numerical Analysis\",\"Online Learning\",\"Statistics\",\"Deep Learning\",\"Online Learning\",\"Deep Learning\",\"Deep Learning\",\"Statistics\",\"Online Learning\",\"Deep Learning\",\"Statistics\",\"Deep Learning\",\"Statistics\",\"Statistics\",\"Deep Learning\",\"Deep Learning\",\"Online Learning\",\"Deep Learning\",\"Numerical Analysis\",\"Online Learning\",\"Deep Learning\",\"Statistics\",\"Statistics\",\"Numerical Analysis\",\"Deep Learning\",\"Online Learning\",\"Numerical Analysis\",\"Online Learning\",\"Statistics\",\"Numerical Analysis\",\"Online Learning\",\"Deep Learning\",\"Online Learning\",\"Online Learning\",\"Deep Learning\",\"Online Learning\",\"Online Learning\",\"Numerical Analysis\",\"Online Learning\",\"Numerical Analysis\",\"Statistics\",\"Deep Learning\",\"Numerical Analysis\",\"Online Learning\",\"Deep Learning\",\"Deep Learning\",\"Deep Learning\",\"Statistics\",\"Online Learning\",\"Deep Learning\",\"Deep Learning\",\"Statistics\",\"Online Learning\",\"Online Learning\",\"Deep Learning\",\"Numerical Analysis\",\"Statistics\",\"Deep Learning\",\"Online Learning\",\"Online Learning\",\"Statistics\",\"Statistics\",\"Deep Learning\",\"Numerical Analysis\",\"Deep Learning\",\"Online Learning\",\"Numerical Analysis\",\"Numerical Analysis\",\"Online Learning\",\"Deep Learning\",\"Online Learning\",\"Online Learning\",\"Numerical Analysis\",\"Numerical Analysis\",\"Statistics\",\"Statistics\",\"Deep Learning\",\"Numerical Analysis\",\"Online Learning\",\"Statistics\",\"Numerical Analysis\",\"Statistics\",\"Numerical Analysis\",\"Deep Learning\",\"Online Learning\",\"Deep Learning\",\"Numerical Analysis\",\"Numerical Analysis\",\"Online Learning\",\"Statistics\",\"Online Learning\",\"Online Learning\",\"Deep Learning\",\"Online Learning\",\"Online Learning\",\"Statistics\",\"Deep Learning\",\"Numerical Analysis\",\"Online Learning\",\"Deep Learning\",\"Deep Learning\",\"Statistics\",\"Online Learning\",\"Online Learning\",\"Numerical Analysis\",\"Deep Learning\",\"Numerical Analysis\",\"Online Learning\",\"Numerical Analysis\",\"Numerical Analysis\",\"Deep Learning\",\"Statistics\",\"Numerical Analysis\",\"Statistics\",\"Numerical Analysis\",\"Statistics\",\"Deep Learning\",\"Statistics\",\"Statistics\",\"Numerical Analysis\",\"Statistics\",\"Online Learning\",\"Deep Learning\",\"Deep Learning\",\"Statistics\",\"Statistics\",\"Online Learning\",\"Statistics\",\"Statistics\",\"Statistics\",\"Numerical Analysis\",\"Numerical Analysis\",\"Online Learning\",\"Numerical Analysis\",\"Statistics\",\"Deep Learning\",\"Deep Learning\",\"Online Learning\",\"Online Learning\",\"Deep Learning\",\"Deep Learning\",\"Statistics\",\"Online Learning\",\"Deep Learning\",\"Online Learning\",\"Numerical Analysis\",\"Statistics\",\"Online Learning\",\"Numerical Analysis\",\"Online Learning\",\"Numerical Analysis\",\"Statistics\",\"Online Learning\",\"Numerical Analysis\",\"Online Learning\",\"Statistics\",\"Online Learning\",\"Online Learning\",\"Deep Learning\",\"Deep Learning\",\"Numerical Analysis\",\"Numerical Analysis\",\"Online Learning\",\"Deep Learning\",\"Online Learning\"],\"title\":[\"Double or Nothing: Multiplicative Incentive Mechanisms for Crowdsourcing\",\"Learning with Symmetric Label Noise: The Importance of Being Unhinged\",\"Algorithmic Stability and Uniform Generalization\",\"Adaptive Low-Complexity Sequential Inference for Dirichlet Process Mixture Models\",\"Covariance-Controlled Adaptive Langevin Thermostat for Large-Scale Bayesian Sampling\",\"Robust Portfolio Optimization\",\"Logarithmic Time Online Multiclass prediction\",\"Planar Ultrametrics for Image Segmentation\",\"Expressing an Image Stream with a Sequence of Natural Sentences\",\"Parallel Correlation Clustering on Big Graphs\",\"Faster R-CNN: Towards Real-Time Object Detection with Region Proposal Networks\",\"Space-Time Local Embeddings\",\"A Convergent Gradient Descent Algorithm for Rank Minimization and Semidefinite Programming from Random Linear Measurements\",\"Smooth Interactive Submodular Set Cover\",\"Galileo: Perceiving Physical Object Properties by Integrating a Physics Engine with Deep Learning\",\"On the Pseudo-Dimension of Nearly Optimal Auctions\",\"Unlocking neural population non-stationarities using hierarchical dynamics models\",\"Bayesian Manifold Learning: The Locally Linear Latent Variable Model (LL-LVM)\",\"Color Constancy by Learning to Predict Chromaticity from Luminance\",\"Fast and Accurate Inference of Plackett\\u2013Luce Models\",\"Probabilistic Line Searches for Stochastic Optimization\",\"Inferring Algorithmic Patterns with Stack-Augmented Recurrent Nets\",\"Where are they looking?\",\"The Pareto Regret Frontier for Bandits\",\"On the Limitation of Spectral Methods: From the Gaussian Hidden Clique Problem to Rank-One Perturbations of Gaussian Tensors\",\"Measuring Sample Quality with Stein's Method\",\"Bidirectional Recurrent Convolutional Networks for Multi-Frame Super-Resolution\",\"Bounding errors of Expectation-Propagation\",\"A fast, universal algorithm to learn parametric nonlinear embeddings\",\"Texture Synthesis Using Convolutional Neural Networks\",\"Extending Gossip Algorithms to Distributed Estimation of U-statistics\",\"Streaming, Distributed Variational Inference for Bayesian Nonparametrics\",\"Learning visual biases from human imagination\",\"Smooth and Strong: MAP Inference with Linear Convergence\",\"Copeland Dueling Bandits\",\"Optimal Ridge Detection using Coverage Risk\",\"Top-k Multiclass SVM\",\"Policy Evaluation Using the \\u03a9-Return\",\"Orthogonal NMF through Subspace Exploration\",\"Stochastic Online Greedy Learning with Semi-bandit Feedbacks\",\"Deeply Learning the Messages in Message Passing Inference\",\"Synaptic Sampling: A Bayesian Approach to Neural Network Plasticity and Rewiring\",\"Accelerated Proximal Gradient Methods for Nonconvex Programming\",\"Approximating Sparse PCA from Incomplete Data\",\"Nonparametric von Mises Estimators for Entropies, Divergences and Mutual Informations\",\"Column Selection via Adaptive Sampling\",\"HONOR: Hybrid Optimization for NOn-convex Regularized problems\",\"3D Object Proposals for Accurate Object Class Detection\",\"Algorithms with Logarithmic or Sublinear Regret for  Constrained Contextual Bandits\",\"Tensorizing Neural Networks\",\"Parallelizing MCMC with Random Partition Trees\",\"A Reduced-Dimension fMRI Shared Response Model\",\"Spectral Learning of Large Structured HMMs for Comparative Epigenomics\",\"Individual Planning in Infinite-Horizon Multiagent Settings: Inference, Structure and Scalability\",\"Estimating Mixture Models via Mixtures of Polynomials\",\"On the Global Linear Convergence of Frank-Wolfe Optimization Variants\",\"Deep Knowledge Tracing\",\"Rethinking LDA: Moment Matching for Discrete ICA\",\"Efficient Compressive Phase Retrieval with Constrained Sensing Vectors\",\"Barrier Frank-Wolfe for Marginal Inference\",\"Learning Theory and Algorithms for Forecasting Non-stationary Time Series\",\"Compressive spectral embedding: sidestepping the SVD\",\"A Nonconvex Optimization Framework for Low Rank Matrix Estimation\",\"Automatic Variational Inference in Stan\",\"Attention-Based Models for Speech Recognition\",\"Closed-form Estimators for High-dimensional Generalized Linear Models\",\"Online F-Measure Optimization\",\"Online Rank Elicitation for Plackett-Luce: A Dueling Bandits Approach\",\"M-Best-Diverse Labelings for Submodular Energies and Beyond\",\"Tractable Bayesian Network Structure Learning with Bounded Vertex Cover Number\",\"Learning Large-Scale Poisson DAG Models based on OverDispersion Scoring\",\"Training Restricted Boltzmann Machine via the \\ufffcThouless-Anderson-Palmer free energy\",\"Character-level Convolutional Networks for Text Classification\",\"Robust Feature-Sample Linear Discriminant Analysis for Brain Disorders Diagnosis\",\"Black-box optimization of noisy functions with unknown smoothness\",\"Recovering Communities in the General Stochastic Block Model Without Knowing the Parameters\",\"Deep learning with Elastic Averaging SGD\",\"Monotone k-Submodular Function Maximization with Size Constraints\",\"Active Learning from Weak and Strong Labelers\",\"On the Optimality of Classifier Chain for Multi-label Classification\",\"Robust Regression via Hard Thresholding\",\"Sparse Local Embeddings for Extreme Multi-label Classification\",\"Solving Random Quadratic Systems of Equations Is Nearly as Easy as Solving Linear Systems\",\"A Framework for Individualizing Predictions of Disease Trajectories by Exploiting Multi-Resolution Structure\",\"Subspace Clustering with Irrelevant Features via Robust Dantzig Selector\",\"Sparse PCA via Bipartite Matchings\",\"Fast Randomized Kernel Ridge Regression with Statistical Guarantees\",\"Online Learning for Adversaries with Memory: Price of Past Mistakes\",\"Convolutional spike-triggered covariance analysis for neural subunit models\",\"Convolutional LSTM Network: A Machine Learning Approach for Precipitation Nowcasting\",\"GAP Safe screening rules for sparse multi-task and multi-class models\",\"Empirical Localization of Homogeneous Divergences on Discrete Sample Spaces\",\"Statistical Model Criticism using Kernel Two Sample Tests\",\"Precision-Recall-Gain Curves: PR Analysis Done Right\",\"A Generalization of Submodular Cover via the Diminishing Return Property on the Integer Lattice\",\"Bidirectional Recurrent Neural Networks as Generative Models\",\"Quartz: Randomized Dual Coordinate Ascent with Arbitrary Sampling\",\"Maximum Likelihood Learning With Arbitrary Treewidth via Fast-Mixing Parameter Sets\",\"Hessian-free Optimization for Learning Deep Multidimensional Recurrent Neural Networks\",\"Large-scale probabilistic predictors with and without guarantees of validity\",\"Shepard Convolutional Neural Networks\",\"Matrix Manifold Optimization for Gaussian Mixtures\",\"Semi-supervised Convolutional Neural Networks for Text Categorization via Region Embedding\",\"Parallel Recursive Best-First AND/OR Search for Exact MAP Inference in Graphical Models\",\"Convolutional Neural Networks with Intra-Layer Recurrent Connections for Scene Labeling\",\"Bounding the Cost of Search-Based Lifted Inference\",\"Gradient-free Hamiltonian Monte Carlo with Efficient Kernel Exponential Families\",\"Linear Multi-Resource Allocation with Semi-Bandit Feedback\",\"Unsupervised Learning by Program Synthesis\",\"Enforcing balance allows local supervised learning in spiking recurrent networks\",\"Fast and Guaranteed Tensor Decomposition via Sketching\",\"Differentially private subspace clustering\",\"Predtron: A Family of Online Algorithms for General Prediction Problems\",\"Weighted Theta Functions and Embeddings with Applications to Max-Cut, Clustering and Summarization\",\"SGD Algorithms based on Incomplete U-statistics: Large-Scale Minimization of Empirical Risk\",\"On Top-k Selection in Multi-Armed Bandits and Hidden Bipartite Graphs\",\"The Brain Uses Reliability of Stimulus Information when Making Perceptual Decisions\",\"Fast Classification Rates for High-dimensional Gaussian Generative Models\",\"Fast Distributed k-Center Clustering with Outliers on Massive Data\",\"Human Memory Search as Initial-Visit Emitting Random Walk\",\"Non-convex Statistical Optimization for Sparse Tensor Graphical Model\",\"Convergence Rates of Active Learning for Maximum Likelihood Estimation\",\"Weakly-supervised Disentangling with Recurrent Transformations for 3D View Synthesis\",\"Efficient Exact Gradient Update for training Deep Networks with Very Large Sparse Targets\",\"Backpropagation for Energy-Efficient Neuromorphic Computing\",\"Alternating Minimization for Regression Problems with Vector-valued Outputs\",\"Learning both Weights and Connections for Efficient Neural Network\",\"Optimal Rates for Random Fourier Features\",\"The Population Posterior and Bayesian Modeling on Streams\",\"Frank-Wolfe Bayesian Quadrature: Probabilistic Integration with Theoretical Guarantees\",\"Scheduled Sampling for Sequence Prediction with Recurrent Neural Networks\",\"Unified View of Matrix Completion under General Structural Constraints\",\"Efficient Output Kernel Learning for Multiple Tasks\",\"Scalable Adaptation of State Complexity for Nonparametric Hidden Markov Models\",\"Variational Consensus Monte Carlo\",\"Newton-Stein Method: A Second Order Method for GLMs via Stein's Lemma\",\"Practical and Optimal LSH for Angular Distance\",\"Learning to Linearize Under Uncertainty\",\"Finite-Time Analysis of Projected Langevin Monte Carlo\",\"Deep Visual Analogy-Making\",\"Matrix Completion from Fewer Entries: Spectral Detectability and Rank Estimation\",\"Online Learning with Adversarial Delays\",\"Multi-Layer Feature Reduction for Tree Structured Group Lasso via Hierarchical Projection\",\"Minimum Weight Perfect Matching via Blossom Belief Propagation\",\"Efficient Thompson Sampling for Online \\ufffcMatrix-Factorization Recommendation\",\"Improved Iteration Complexity Bounds of Cyclic Block Coordinate Descent for Convex Problems\",\"Lifted Symmetry Detection and Breaking for MAP Inference\",\"Evaluating the statistical significance of biclusters\",\"Discriminative Robust Transformation Learning\",\"Bandits with Unobserved Confounders: A Causal Approach\",\"Scalable Semi-Supervised Aggregation of Classifiers\",\"Online Learning with Gaussian Payoffs and Side Observations\",\"Private Graphon Estimation for Sparse Graphs\",\"SubmodBoxes: Near-Optimal Search for a Set of Diverse Object Proposals\",\"Fast Second Order Stochastic Backpropagation for Variational Inference\",\"Randomized Block Krylov Methods for Stronger and Faster Approximate Singular Value Decomposition\",\"Cross-Domain Matching for Bag-of-Words Data via Kernel Embeddings of Latent Distributions\",\"Scalable Inference for Gaussian Process Models with Black-Box Likelihoods\",\"Fast Bidirectional Probability Estimation in Markov Models\",\"Probabilistic Variational Bounds for Graphical Models\",\"Linear Response Methods for Accurate Covariance Estimates from Mean Field Variational Bayes\",\"Combinatorial Cascading Bandits\",\"Mixing Time Estimation in Reversible Markov Chains from a Single Sample Path\",\"Policy Gradient for Coherent Risk Measures\",\"Fast Rates for Exp-concave Empirical Risk Minimization\",\"Deep Generative Image Models using a \\ufffcLaplacian Pyramid of Adversarial Networks\",\"Decoupled Deep Neural Network for Semi-supervised Semantic Segmentation\",\"Equilibrated adaptive learning rates for non-convex optimization\",\"BACKSHIFT: Learning causal cyclic graphs from unknown shift interventions\",\"Risk-Sensitive and Robust Decision-Making: a CVaR Optimization Approach\",\"Asynchronous stochastic convex optimization: the noise is in the noise and SGD don't care\",\"Lifelong Learning with Non-i.i.d. Tasks\",\"Optimal Linear Estimation under Unknown Nonlinear Transform\",\"Learning with Group Invariant Features: A Kernel Perspective.\",\"Regularized EM Algorithms: A Unified Framework and Statistical Guarantees\",\"Adaptive Stochastic Optimization: From Sets to Paths\",\"Beyond Convexity: Stochastic Quasi-Convex Optimization\",\"A Tractable Approximation to Optimal Point Process Filtering: Application to Neural Encoding\",\"Sum-of-Squares Lower Bounds for Sparse PCA\",\"Max-Margin Majority Voting for Learning from Crowds\",\"Learning with Incremental Iterative Regularization\",\"Halting in Random Walk Kernels\",\"MCMC for Variationally Sparse Gaussian Processes\",\"Less is More: Nystr\\u00f6m Computational Regularization\",\"Infinite Factorial Dynamical Model\",\"Regularization Path of Cross-Validation Error Lower Bounds\",\"Attractor Network Dynamics Enable Preplay and Rapid Path Planning in Maze\\u2013like Environments\",\"Teaching Machines to Read and Comprehend\",\"Principal Differences Analysis: Interpretable Characterization of Differences between Distributions\",\"When are Kalman-Filter Restless Bandits Indexable?\",\"Segregated Graphs and Marginals of Chain Graph Models\",\"Efficient Non-greedy Optimization of Decision Trees\",\"Probabilistic Curve Learning: Coulomb Repulsion and the Electrostatic Gaussian Process\",\"Inverse Reinforcement Learning with Locally Consistent Reward Functions\",\"Communication Complexity of Distributed Convex Learning and Optimization\",\"End-to-end Learning of LDA by Mirror-Descent Back Propagation over a Deep Architecture\",\"Subset Selection by Pareto Optimization\",\"On the Accuracy of Self-Normalized Log-Linear Models\",\"Regret Lower Bound and Optimal Algorithm in Finite Stochastic Partial Monitoring\",\"Is Approval Voting Optimal Given Approval Votes?\",\"Regressive Virtual Metric Learning\",\"Analysis of Robust PCA via Local Incoherence\",\"Learning to Transduce with Unbounded Memory\",\"Max-Margin Deep Generative Models\",\"Spherical Random Features for Polynomial Kernels\",\"Rectified Factor Networks\",\"Learning Bayesian Networks with Thousands of Variables\",\"Matrix Completion Under Monotonic Single Index Models\",\"Visalogy: Answering Visual Analogy Questions\",\"Tree-Guided MCMC Inference for Normalized Random Measure Mixture Models\",\"Streaming Min-max Hypergraph Partitioning\",\"Collaboratively Learning Preferences from Ordinal Data\",\"Biologically Inspired Dynamic Textures for Probing Motion Perception\",\"Generative Image Modeling Using Spatial LSTMs\",\"Robust PCA with compressed data\",\"Sampling from Probabilistic Submodular Models\",\"COEVOLVE: A Joint Point Process Model for Information Diffusion and Network Co-evolution\",\"Supervised Learning for Dynamical System Learning\",\"Regret-Based Pruning in Extensive-Form Games\",\"Fast Two-Sample Testing with Analytic Representations of Probability Measures\",\"Learning to Segment Object Candidates\",\"GP Kernels for Cross-Spectrum Analysis\",\"Secure Multi-party Differential Privacy\",\"Spatial Transformer Networks\",\"Anytime Influence Bounds and the Explosive Behavior of Continuous-Time Diffusion Networks\",\"Multi-class SVMs: From Tighter Data-Dependent Generalization Bounds to Novel Algorithms\",\"High-dimensional neural spike train analysis with generalized count linear dynamical systems\",\"Learning with a Wasserstein Loss\",\"b-bit Marginal Regression\",\"Natural Neural Networks\",\"Optimization Monte Carlo: Efficient and Embarrassingly Parallel Likelihood-Free Inference\",\"Adaptive Primal-Dual Splitting Methods for Statistical Learning and Image Processing\",\"On some provably correct cases of variational inference for topic models\",\"Collaborative Filtering with Graph Information: Consistency and Scalable Methods\",\"Combinatorial Bandits Revisited\",\"Variational Information Maximisation for Intrinsically Motivated Reinforcement Learning\",\"A Structural Smoothing Framework For Robust Graph Comparison\",\"Competitive Distribution Estimation: Why is Good-Turing Good\",\"Efficient Learning by Directed Acyclic Graph For Resource Constrained Prediction\",\"A hybrid sampler for Poisson-Kingman mixture models\",\"An Active Learning Framework using Sparse-Graph Codes for Sparse Polynomials and Graph Sketching\",\"Local Smoothness in Variance Reduced Optimization\",\"Saliency, Scale and Information: Towards a Unifying Theory\",\"Fighting Bandits with a New Kind of Smoothness\",\"Beyond Sub-Gaussian Measurements: High-Dimensional Structured Estimation with Sub-Exponential Designs\",\"Spectral Norm Regularization of Orthonormal Representations for Graph Transduction\",\"Convolutional Networks on Graphs for Learning Molecular Fingerprints\",\"Mixed Robust/Average Submodular Partitioning: Fast Algorithms, Guarantees, and Applications\",\"Tractable Learning for Complex Probability Queries\",\"StopWasting My Gradients: Practical SVRG\",\"Mind the Gap: A Generative Approach to Interpretable Feature Selection and Extraction\",\"A Normative Theory of Adaptive Dimensionality Reduction in Neural Networks\",\"On the Convergence of Stochastic Gradient MCMC Algorithms with High-Order Integrators\",\"Learning structured densities via infinite dimensional exponential families\",\"Are You Talking to a Machine? Dataset and Methods for Multilingual Image Question\",\"Variance Reduced Stochastic Gradient Descent with Neighbors\",\"Sample Efficient Path Integral Control under Uncertainty\",\"Stochastic Expectation Propagation\",\"Exactness of Approximate MAP Inference in Continuous MRFs\",\"Scale Up Nonlinear Component Analysis with Doubly Stochastic Gradients\",\"Generalization in Adaptive Data Analysis and Holdout Reuse\",\"Market Scoring Rules Act As Opinion Pools For Risk-Averse Agents\",\"Sparse Linear Programming via Primal and Dual Augmented Coordinate Descent\",\"Training Very Deep Networks\",\"Bayesian Active Model Selection with an Application to Automated Audiometry\",\"Particle Gibbs for Infinite Hidden Markov Models\",\"Learning spatiotemporal trajectories from manifold-valued longitudinal data\",\"A Bayesian Framework for Modeling Confidence in Perceptual Decision Making\",\"Path-SGD: Path-Normalized Optimization in Deep Neural Networks\",\"On the consistency theory of high dimensional variable screening\",\"End-To-End Memory Networks\",\"Spectral Representations for Convolutional Neural Networks\",\"Online Gradient Boosting\",\"Deep Temporal Sigmoid Belief Networks for Sequence Modeling\",\"Recognizing retinal ganglion cells in the dark\",\"A Theory of Decision Making Under Dynamic Context\",\"A Gaussian Process Model of Quasar Spectral Energy Distributions\",\"Hidden Technical Debt in Machine Learning Systems\",\"Local Causal Discovery of Direct Causes and Effects\",\"High Dimensional EM Algorithm: Statistical Optimization and Asymptotic Normality\",\"Revenue Optimization against Strategic Buyers\",\"Deep Convolutional Inverse Graphics Network\",\"Sparse and Low-Rank Tensor Decomposition\",\"Minimax Time Series Prediction\",\"Differentially Private Learning of Structured Discrete Distributions\",\"Sample Complexity of Learning Mahalanobis Distance Metrics\",\"Learning Wake-Sleep Recurrent Attention Models\",\"Robust Gaussian Graphical Modeling with the Trimmed Graphical Lasso\",\"Testing Closeness With Unequal Sized Samples\",\"Estimating Jaccard Index with Missing Observations: A Matrix Calibration Approach\",\"Neural Adaptive Sequential Monte Carlo\",\"Local Expectation Gradients for Black Box Variational Inference\",\"On Variance Reduction in Stochastic Gradient Descent and its Asynchronous Variants\",\"NEXT: A System for Real-World Development, Evaluation, and Application of Active Learning\",\"Super-Resolution Off the Grid\",\"Taming the Wild: A Unified Analysis of Hogwild-Style Algorithms\",\"The Return of the Gating Network: Combining Generative Models and Discriminative Training in Natural Image Priors\",\"Pointer Networks\",\"Associative Memory via a Sparse Recovery Model\",\"Robust Spectral Inference for Joint Stochastic Matrix Factorization\",\"Fast, Provable Algorithms for Isotonic Regression in all L_p-norms\",\"Adversarial Prediction Games for Multivariate Losses\",\"Asynchronous Parallel Stochastic Gradient for Nonconvex Optimization\",\"Embed to Control: A Locally Linear Latent Dynamics Model for Control from Raw Images\",\"Efficient and Parsimonious Agnostic Active Learning\",\"Softstar: Heuristic-Guided Probabilistic Inference\",\"Grammar as a Foreign Language\",\"Regularization-Free Estimation in Trace Regression with Symmetric Positive Semidefinite Matrices\",\"Winner-Take-All Autoencoders\",\"Deep Poisson Factor Modeling\",\"Bayesian Optimization with Exponential Convergence\",\"Sample Complexity of Episodic Fixed-Horizon Reinforcement Learning\",\"Learning with Relaxed Supervision\",\"Subsampled Power Iteration: a Unified Algorithm for Block Models and Planted CSP's\",\"Accelerated Mirror Descent in Continuous and Discrete Time\",\"The Human Kernel\",\"Action-Conditional Video Prediction using Deep Networks in Atari Games\",\"A Pseudo-Euclidean Iteration for Optimal Recovery in Noisy ICA\",\"Distributed Submodular Cover: Succinctly Summarizing Massive Data\",\"Community Detection via Measure Space Embedding\",\"Basis refinement strategies for linear value function approximation in MDPs\",\"Structured Estimation with Atomic Norms: General Bounds and Applications\",\"A Complete Recipe for Stochastic Gradient MCMC\",\"Bandit Smooth Convex Optimization: Improving the Bias-Variance Tradeoff\",\"Online Prediction at the Limit of Zero Temperature\",\"Learning Continuous Control Policies by Stochastic Value Gradients\",\"Exploring Models and Data for Image Question Answering\",\"Efficient and Robust Automated Machine Learning\",\"Preconditioned Spectral Descent for Deep Learning\",\"A Recurrent Latent Variable Model for Sequential Data\",\"Fast Convergence of Regularized Learning in Games\",\"Parallel Multi-Dimensional LSTM, With Application to Fast Biomedical Volumetric Image Segmentation\",\"Reflection, Refraction, and Hamiltonian Monte Carlo\",\"The Consistency of Common Neighbors for Link Prediction in Stochastic Blockmodels\",\"Nearly Optimal Private LASSO\",\"Convergence Analysis of Prediction Markets via Randomized Subspace Descent\",\"The Poisson Gamma Belief Network\",\"Convergence rates of sub-sampled Newton methods\",\"No-Regret Learning in Bayesian Games\",\"Statistical Topological Data Analysis - A Kernel Perspective\",\"Semi-supervised Sequence Learning\",\"Structured Transforms for Small-Footprint Deep Learning\",\"Rapidly Mixing Gibbs Sampling for a Class of Factor Graphs Using Hierarchy Width\",\"Interpolating Convex and Non-Convex Tensor Decompositions via the Subspace Norm\",\"Sample Complexity Bounds for Iterative Stochastic Policy Optimization\",\"BinaryConnect: Training Deep Neural Networks with binary weights during propagations\",\"Interactive Control of Diverse Complex Characters with Neural Networks\",\"Submodular Hamming Metrics\",\"A Universal Primal-Dual Convex Optimization Framework\",\"Learning From Small Samples: An Analysis of Simple Decision Heuristics\",\"Explore no more: Improved high-probability regret bounds for non-stochastic bandits\",\"Fast and Memory Optimal Low-Rank Matrix Approximation\",\"Learnability of Influence in Networks\",\"Learning Causal Graphs with Small Interventions\",\"Information-theoretic lower bounds for convex optimization with erroneous oracles\",\"Fixed-Length Poisson MRF: Adding Dependencies to the Multinomial\",\"Large-Scale Bayesian Multi-Label Learning via Topic-Based Label Embeddings\",\"The Self-Normalized Estimator for Counterfactual Learning\",\"Fast Lifted MAP Inference via Partitioning\",\"Data Generation as Sequential Decision Making\",\"On Elicitation Complexity\",\"Decomposition Bounds for Marginal MAP\",\"Discrete R\\u00e9nyi Classifiers\",\"A class of network models recoverable by spectral clustering\",\"Skip-Thought Vectors\",\"Rate-Agnostic (Causal) Structure Learning\",\"Principal Geodesic Analysis for Probability Measures under the Optimal Transport Metric\",\"Consistent Multilabel Classification\",\"Parallel Predictive Entropy Search for Batch Global Optimization of Expensive Objective Functions\",\"Cornering Stationary and Restless Mixing Bandits with Remix-UCB\",\"Semi-Supervised Factored Logistic Regression for High-Dimensional Neuroimaging Data\",\"Gaussian Process Random Fields\",\"M-Statistic for Kernel Change-Point Detection\",\"Adaptive Online Learning\",\"A Universal Catalyst for First-Order Optimization\",\"Inference for determinantal point processes without spectral knowledge\",\"Kullback-Leibler Proximal Variational Inference\",\"Semi-Proximal Mirror-Prox for Nonsmooth Composite Minimization\",\"LASSO with Non-linear Measurements is Equivalent to One With Linear Measurements\",\"From random walks to distances on unweighted graphs\",\"Bayesian dark knowledge\",\"Matrix Completion with Noisy Side Information\",\"Dependent Multinomial Models Made Easy: Stick-Breaking with the Polya-gamma Augmentation\",\"On-the-Job Learning with Bayesian Decision Theory\",\"Calibrated Structured Prediction\",\"Learning Structured Output Representation using Deep Conditional Generative Models\",\"Time-Sensitive Recommendation From Recurrent User Activities\",\"Learning Stationary Time Series using Gaussian Processes with Nonparametric Kernels\",\"A Market Framework for Eliciting Private Data\",\"Lifted Inference Rules With Constraints\",\"Gradient Estimation Using Stochastic Computation Graphs\",\"Model-Based Relative Entropy Stochastic Search\",\"Semi-supervised Learning with Ladder Networks\",\"Embedding Inference for Structured Multilabel Prediction\",\"Copula variational inference\",\"Recursive Training of 2D-3D Convolutional Networks for Neuronal Boundary Prediction\",\"A Dual Augmented Block Minimization Framework for Learning with Limited Memory\",\"Optimal Testing for Properties of Distributions\",\"Efficient Learning of Continuous-Time Hidden Markov Models for Disease Progression\",\"Expectation Particle Belief Propagation\",\"Latent Bayesian melding for integrating individual and population models\",\"Distributionally Robust Logistic Regression\",\"Variational Dropout and the Local Reparameterization Trick\"],\"topic_key\":[1,0,0,2,2,3,0,1,2,1,2,0,3,1,2,1,2,2,2,3,3,2,2,1,3,3,2,1,0,2,3,2,2,3,1,2,0,1,0,1,0,2,3,0,1,3,3,2,1,2,2,0,0,1,0,3,2,0,3,3,3,0,3,2,2,3,3,1,1,1,0,2,2,0,3,0,3,1,1,0,3,0,3,1,3,0,3,1,2,2,3,3,2,0,1,2,3,3,2,0,2,0,2,0,2,0,2,1,2,2,0,3,0,0,3,1,1,3,3,0,3,3,2,2,2,3,2,3,2,3,2,3,3,2,2,3,0,2,3,2,3,3,3,1,1,3,0,3,0,1,0,1,0,1,2,0,0,2,1,1,2,1,3,1,3,2,2,2,0,1,3,1,3,0,3,1,3,2,3,0,3,0,2,3,2,3,2,2,3,1,0,0,2,1,3,0,3,1,1,1,0,3,2,2,0,2,0,3,0,2,1,3,2,2,3,1,1,2,3,0,2,2,0,2,1,0,2,0,3,2,2,3,0,3,1,1,0,3,1,2,0,3,2,3,3,0,2,3,0,3,0,0,3,3,2,3,1,2,3,0,0,1,3,2,1,2,0,1,2,3,2,2,3,2,2,1,2,1,0,3,1,2,3,3,3,0,2,3,3,0,2,2,3,1,0,3,2,2,0,0,3,1,3,2,1,1,2,3,2,2,1,1,0,0,3,1,2,0,1,0,1,3,2,3,1,1,2,0,2,2,3,2,2,0,3,1,2,3,3,0,2,2,1,3,1,2,1,1,3,0,1,0,1,0,3,0,0,1,0,2,3,3,0,0,2,0,0,0,1,1,2,1,0,3,3,2,2,3,3,0,2,3,2,1,0,2,1,2,1,0,2,1,2,0,2,2,3,3,1,1,2,3,2],\"x\":{\"__ndarray__\":\"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\",\"dtype\":\"float32\",\"shape\":[403]},\"y\":{\"__ndarray__\":\"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\",\"dtype\":\"float32\",\"shape\":[403]}}},\"id\":\"af0bd341-df4f-4a98-bef6-62530f352e06\",\"type\":\"ColumnDataSource\"},{\"attributes\":{\"fill_alpha\":{\"value\":0.8},\"fill_color\":{\"field\":\"color\"},\"line_alpha\":{\"value\":0.8},\"line_color\":{\"field\":\"color\"},\"size\":{\"units\":\"screen\",\"value\":10},\"x\":{\"field\":\"x\"},\"y\":{\"field\":\"y\"}},\"id\":\"558e86a1-3e58-49b6-8bf7-032776f2b74f\",\"type\":\"Circle\"},{\"attributes\":{\"bottom_units\":\"screen\",\"fill_alpha\":{\"value\":0.5},\"fill_color\":{\"value\":\"lightgrey\"},\"left_units\":\"screen\",\"level\":\"overlay\",\"line_alpha\":{\"value\":1.0},\"line_color\":{\"value\":\"black\"},\"line_dash\":[4,4],\"line_width\":{\"value\":2},\"plot\":null,\"render_mode\":\"css\",\"right_units\":\"screen\",\"top_units\":\"screen\"},\"id\":\"7b766d4d-a5f0-4bcd-904c-7fa8193d85c6\",\"type\":\"BoxAnnotation\"},{\"attributes\":{\"data_source\":{\"id\":\"af0bd341-df4f-4a98-bef6-62530f352e06\",\"type\":\"ColumnDataSource\"},\"glyph\":{\"id\":\"558e86a1-3e58-49b6-8bf7-032776f2b74f\",\"type\":\"Circle\"},\"hover_glyph\":null,\"muted_glyph\":null,\"nonselection_glyph\":{\"id\":\"bd2b6e31-10d6-443a-bcb6-6e3b8089e2a1\",\"type\":\"Circle\"},\"selection_glyph\":null},\"id\":\"e3e7cc9f-94c7-47ed-b9e5-4f8bec90463f\",\"type\":\"GlyphRenderer\"},{\"attributes\":{\"plot\":{\"id\":\"9630ca82-bd8f-4f93-877e-2cba13747b02\",\"subtype\":\"Figure\",\"type\":\"Plot\"}},\"id\":\"d0df3f16-bcba-4bfa-85b1-8fa7af5d7ea1\",\"type\":\"WheelZoomTool\"},{\"attributes\":{\"overlay\":{\"id\":\"7b766d4d-a5f0-4bcd-904c-7fa8193d85c6\",\"type\":\"BoxAnnotation\"},\"plot\":{\"id\":\"9630ca82-bd8f-4f93-877e-2cba13747b02\",\"subtype\":\"Figure\",\"type\":\"Plot\"}},\"id\":\"47c68e0f-f619-4e8f-80b1-8bc5c3ca37d9\",\"type\":\"BoxZoomTool\"},{\"attributes\":{\"plot\":{\"id\":\"9630ca82-bd8f-4f93-877e-2cba13747b02\",\"subtype\":\"Figure\",\"type\":\"Plot\"}},\"id\":\"70953e5d-8992-4c18-926b-a9445ca40b78\",\"type\":\"ResetTool\"},{\"attributes\":{\"callback\":null,\"plot\":{\"id\":\"9630ca82-bd8f-4f93-877e-2cba13747b02\",\"subtype\":\"Figure\",\"type\":\"Plot\"},\"tooltips\":[[\"content\",\"Title: @title, KeyWords: @content - Topic: @topic_key \"]]},\"id\":\"8f6725a3-d74a-4972-b688-6474b1d8b533\",\"type\":\"HoverTool\"},{\"attributes\":{\"plot\":{\"id\":\"9630ca82-bd8f-4f93-877e-2cba13747b02\",\"subtype\":\"Figure\",\"type\":\"Plot\"}},\"id\":\"3d0039a9-1922-4721-94b0-c8354c3c3583\",\"type\":\"SaveTool\"},{\"attributes\":{\"min_border\":1,\"plot_width\":1000,\"renderers\":[{\"id\":\"7b766d4d-a5f0-4bcd-904c-7fa8193d85c6\",\"type\":\"BoxAnnotation\"},{\"id\":\"d8acf62a-bf21-4c62-8dfd-9a1a2fb22bde\",\"type\":\"Legend\"},{\"id\":\"e3e7cc9f-94c7-47ed-b9e5-4f8bec90463f\",\"type\":\"GlyphRenderer\"}],\"title\":{\"id\":\"385935fe-4a67-4267-aa3c-f71fa211e2f1\",\"type\":\"Title\"},\"tool_events\":{\"id\":\"0e4ec340-0713-40ef-a5d1-72c30fb25be8\",\"type\":\"ToolEvents\"},\"toolbar\":{\"id\":\"042e955c-7fa1-4ccb-9d5f-faa6f7ab121a\",\"type\":\"Toolbar\"},\"x_range\":{\"id\":\"07622c5e-e3d2-4f19-a739-f5d14309cd4d\",\"type\":\"DataRange1d\"},\"y_range\":{\"id\":\"366544e0-61d1-4575-b9c5-eeaba42a0145\",\"type\":\"DataRange1d\"}},\"id\":\"9630ca82-bd8f-4f93-877e-2cba13747b02\",\"subtype\":\"Figure\",\"type\":\"Plot\"}],\"root_ids\":[\"9630ca82-bd8f-4f93-877e-2cba13747b02\"]},\"title\":\"Bokeh Application\",\"version\":\"0.12.5\"}};\n",
       "            var render_items = [{\"docid\":\"12593cc1-82f2-4138-bd20-c3b3121f5484\",\"elementid\":\"e813739b-e49b-4acb-8120-feef9e364f28\",\"modelid\":\"9630ca82-bd8f-4f93-877e-2cba13747b02\"}];\n",
       "            \n",
       "            Bokeh.embed.embed_items(docs_json, render_items);\n",
       "          };\n",
       "          if (document.readyState != \"loading\") fn();\n",
       "          else document.addEventListener(\"DOMContentLoaded\", fn);\n",
       "        })();\n",
       "      },\n",
       "      function(Bokeh) {\n",
       "      }\n",
       "    ];\n",
       "  \n",
       "    function run_inline_js() {\n",
       "      \n",
       "      if ((window.Bokeh !== undefined) || (force === true)) {\n",
       "        for (var i = 0; i < inline_js.length; i++) {\n",
       "          inline_js[i](window.Bokeh);\n",
       "        }if (force === true) {\n",
       "          display_loaded();\n",
       "        }} else if (Date.now() < window._bokeh_timeout) {\n",
       "        setTimeout(run_inline_js, 100);\n",
       "      } else if (!window._bokeh_failed_load) {\n",
       "        console.log(\"Bokeh: BokehJS failed to load within specified timeout.\");\n",
       "        window._bokeh_failed_load = true;\n",
       "      } else if (force !== true) {\n",
       "        var cell = $(document.getElementById(\"e813739b-e49b-4acb-8120-feef9e364f28\")).parents('.cell').data().cell;\n",
       "        cell.output_area.append_execute_result(NB_LOAD_WARNING)\n",
       "      }\n",
       "  \n",
       "    }\n",
       "  \n",
       "    if (window._bokeh_is_loading === 0) {\n",
       "      console.log(\"Bokeh: BokehJS loaded, going straight to plotting\");\n",
       "      run_inline_js();\n",
       "    } else {\n",
       "      load_libs(js_urls, function() {\n",
       "        console.log(\"Bokeh: BokehJS plotting callback run at\", now());\n",
       "        run_inline_js();\n",
       "      });\n",
       "    }\n",
       "  }(this));\n",
       "</script>"
      ]
     },
     "metadata": {},
     "output_type": "display_data"
    }
   ],
   "source": [
    "title = 'T-SNE visualization of topics'\n",
    "\n",
    "plot_lda = figure(plot_width=1000, plot_height=600,\n",
    "                     title=title, tools=\"pan,wheel_zoom,box_zoom,reset,hover,previewsave\",\n",
    "                     x_axis_type=None, y_axis_type=None, min_border=1)\n",
    "\n",
    "plot_lda.scatter(x='x', y='y', legend='label', source=source,\n",
    "                 color='color', alpha=0.8, size=10)#'msize', )\n",
    "\n",
    "# hover tools\n",
    "hover = plot_lda.select(dict(type=HoverTool))\n",
    "hover.tooltips = {\"content\": \"Title: @title, KeyWords: @content - Topic: @topic_key \"}\n",
    "plot_lda.legend.location = \"top_left\"\n",
    "\n",
    "show(plot_lda)\n",
    "\n",
    "#save the plot\n",
    "# save(plot_lda, '{}.html'.format(title))"
   ]
  },
  {
   "cell_type": "markdown",
   "metadata": {
    "_cell_guid": "5f7bd5ed-11d1-499b-a7d2-9701b266e694",
    "_uuid": "efd826374b1d516515234bb00c36c9a6f8c997d3",
    "collapsed": true
   },
   "source": [
    "**What's next?**  \n",
    "Given this topics, one may ask, which topic has been more studied or refered to since NIPS15? For this I extracted and included the citaiton informatin of NIPS'15 papers. I wasn't You can find it at [my github account](https://github.com/ykhorram/nips2015_topic_network_analysis/blob/master/NIP15_topics_citations.ipynb). \n",
    "\n",
    "Please let me know if you have any questions or comment."
   ]
  }
 ],
 "metadata": {
  "kernelspec": {
   "display_name": "Python 3",
   "language": "python",
   "name": "python3"
  },
  "language_info": {
   "codemirror_mode": {
    "name": "ipython",
    "version": 3
   },
   "file_extension": ".py",
   "mimetype": "text/x-python",
   "name": "python",
   "nbconvert_exporter": "python",
   "pygments_lexer": "ipython3",
   "version": "3.6.1"
  }
 },
 "nbformat": 4,
 "nbformat_minor": 1
}
